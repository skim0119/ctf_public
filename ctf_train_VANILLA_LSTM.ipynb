{
 "cells": [
  {
   "cell_type": "markdown",
   "metadata": {},
   "source": [
    "# Capture the Flag (RL - Policy Gradient)\n",
    "\n",
    "- Seung Hyun Kim\n",
    "- skim449@illinois.edu\n",
    "\n",
    "## Implementation Details\n",
    "\n",
    "- Simple Policy gradient with experience buffer.\n",
    "- The implementation network is slightly different\n",
    "    - Better code for mini-batch\n",
    "    - include self-play for red\n",
    "    - 19x19 vision\n",
    "- Add LSTM network, serialize learning\n",
    "\n",
    "### Sampling\n",
    "- [x] Mini-batch to update 'average' gradient\n",
    "- [x] Experience Replay for Random Sampling\n",
    "- [ ] Importance Sampling\n",
    "\n",
    "## Notes\n",
    "\n",
    "- This notebook includes:\n",
    "    - Building the structure of policy driven network.\n",
    "    - Training with/without render\n",
    "    - Saver that save model and weights to ./model directory\n",
    "    - Writer that will record some necessary datas to ./logs\n",
    "\n",
    "- This notebook does not include:\n",
    "    - Simulation with RL policy\n",
    "        - The simulation can be done using policy_RL.py\n",
    "    - cap_test.py is changed appropriately.\n",
    "    \n",
    "## References :\n",
    "- https://github.com/awjuliani/DeepRL-Agents/blob/master/Vanilla-Policy.ipynb (source)\n",
    "- https://www.youtube.com/watch?v=PDbXPBwOavc\n",
    "- https://github.com/lilianweng/deep-reinforcement-learning-gym/blob/master/playground/policies/actor_critic.py (source)\n",
    "- https://github.com/spro/practical-pytorch/blob/master/reinforce-gridworld/reinforce-gridworld.ipynb\n",
    "\n",
    "## TODO:\n",
    "\n",
    "- enemy with different policies (zero, patrol)\n",
    "- stochastic interaction"
   ]
  },
  {
   "cell_type": "code",
   "execution_count": 1,
   "metadata": {},
   "outputs": [],
   "source": [
    "!rm -rf logs/VANILLA_lstm/ model/VANILLA_lstm"
   ]
  },
  {
   "cell_type": "code",
   "execution_count": 2,
   "metadata": {},
   "outputs": [],
   "source": [
    "TRAIN_NAME='VANILLA_lstm'\n",
    "LOG_PATH='./logs/'+TRAIN_NAME\n",
    "MODEL_PATH='./model/' + TRAIN_NAME\n",
    "GPU_CAPACITY=0.125 # gpu capacity in percentage"
   ]
  },
  {
   "cell_type": "code",
   "execution_count": 3,
   "metadata": {},
   "outputs": [],
   "source": [
    "%load_ext autoreload\n",
    "%autoreload 2\n",
    "\n",
    "import os\n",
    "\n",
    "from itertools import count\n",
    "\n",
    "import tensorflow as tf\n",
    "from tensorflow.python.client import device_lib\n",
    "import matplotlib.pyplot as plt\n",
    "%matplotlib inline\n",
    "\n",
    "import time\n",
    "from datetime import datetime\n",
    "import gym\n",
    "import gym_cap\n",
    "import gym_cap.envs.const as CONST\n",
    "import numpy as np\n",
    "import random\n",
    "\n",
    "# the modules that you can use to generate the policy.\n",
    "import policy.policy_RL\n",
    "import policy.random\n",
    "import policy.zeros\n",
    "\n",
    "from network.REINFORCE_lstm import REINFORCE as network\n",
    "\n",
    "# Data Processing Module\n",
    "from utility.dataModule import one_hot_encoder_v2 as one_hot_encoder\n",
    "from utility.utils import MovingAverage as MA\n",
    "from utility.utils import discount_rewards\n",
    "from utility.buffer import Trajectory, Trajectory_buffer"
   ]
  },
  {
   "cell_type": "markdown",
   "metadata": {},
   "source": [
    "## Hyperparameters"
   ]
  },
  {
   "cell_type": "code",
   "execution_count": 4,
   "metadata": {},
   "outputs": [],
   "source": [
    "# Training Related\n",
    "total_episode = 120000\n",
    "max_ep = 150\n",
    "serial_length = 8\n",
    "batch_update_size = 128\n",
    "each_run = 8\n",
    "\n",
    "# Saving Related\n",
    "save_network_frequency = 1024\n",
    "save_stat_frequency = 128\n",
    "moving_average_step = 128\n",
    "\n",
    "# Parameters\n",
    "learning_rate = 1e-3\n",
    "gamma = 0.98\n",
    "map_size = 20\n",
    "vision_range = 9\n",
    "vision_dX, vision_dY = 2*vision_range+1, 2*vision_range+1\n",
    "n_channel = 11\n",
    "\n",
    "in_size = [None, vision_dX, vision_dY, n_channel]"
   ]
  },
  {
   "cell_type": "markdown",
   "metadata": {},
   "source": [
    "## Environment Setting"
   ]
  },
  {
   "cell_type": "code",
   "execution_count": null,
   "metadata": {},
   "outputs": [],
   "source": [
    "if not os.path.exists(MODEL_PATH):\n",
    "    os.makedirs(MODEL_PATH)\n",
    "    \n",
    "#Create a directory to save episode playback gifs to\n",
    "if not os.path.exists(LOG_PATH):\n",
    "    os.makedirs(LOG_PATH)"
   ]
  },
  {
   "cell_type": "code",
   "execution_count": null,
   "metadata": {},
   "outputs": [],
   "source": [
    "env = gym.make(\"cap-v0\") # initialize the environment\n",
    "policy_red = policy.zeros.PolicyGen(env.get_map, env.get_team_red)\n",
    "\n",
    "# Environment Related\n",
    "action_space = 5\n",
    "n_agent = 4"
   ]
  },
  {
   "cell_type": "markdown",
   "metadata": {},
   "source": [
    "## Session"
   ]
  },
  {
   "cell_type": "code",
   "execution_count": null,
   "metadata": {},
   "outputs": [],
   "source": [
    "# Launch the session\n",
    "gpu_options = tf.GPUOptions(per_process_gpu_memory_fraction=GPU_CAPACITY, allow_growth=True)\n",
    "\n",
    "sess = tf.Session(config=tf.ConfigProto(gpu_options=gpu_options))\n",
    "\n",
    "ma_reward = MA(moving_average_step)\n",
    "ma_length = MA(moving_average_step)\n",
    "ma_captured = MA(moving_average_step)"
   ]
  },
  {
   "cell_type": "markdown",
   "metadata": {},
   "source": [
    "## Network Setting"
   ]
  },
  {
   "cell_type": "code",
   "execution_count": null,
   "metadata": {
    "scrolled": false
   },
   "outputs": [],
   "source": [
    "#tf.reset_default_graph() # Clear the Tensorflow graph.\n",
    "network = network(learning_rate=learning_rate,\n",
    "                  in_size=in_size,\n",
    "                  action_size=action_space,\n",
    "                  sess=sess\n",
    "                 )\n",
    "global_step = tf.Variable(0, trainable=False, name='global_step') # global step\n",
    "increment_global_step_op = tf.assign(global_step, global_step+each_run)\n",
    "merged = tf.summary.merge_all()"
   ]
  },
  {
   "cell_type": "code",
   "execution_count": null,
   "metadata": {
    "scrolled": false
   },
   "outputs": [
    {
     "name": "stdout",
     "output_type": "stream",
     "text": [
      "Initialized Variables\n"
     ]
    }
   ],
   "source": [
    "# Setup Save and Restore Network\n",
    "saver = tf.train.Saver(tf.global_variables())\n",
    "writer = tf.summary.FileWriter(LOG_PATH, sess.graph)\n",
    "\n",
    "ckpt = tf.train.get_checkpoint_state(MODEL_PATH)\n",
    "if ckpt and tf.train.checkpoint_exists(ckpt.model_checkpoint_path):\n",
    "    saver.restore(sess, ckpt.model_checkpoint_path)\n",
    "    print(\"Load Model : \", ckpt.model_checkpoint_path)\n",
    "else:\n",
    "    sess.run(tf.global_variables_initializer())\n",
    "    print(\"Initialized Variables\")    "
   ]
  },
  {
   "cell_type": "code",
   "execution_count": null,
   "metadata": {},
   "outputs": [],
   "source": [
    "def record(summary_=None):\n",
    "    with tf.device('/cpu:0'): \n",
    "        summary = tf.Summary()\n",
    "        summary.value.add(tag='Records/mean_reward', simple_value=ma_reward())\n",
    "        summary.value.add(tag='Records/mean_length', simple_value=ma_length())\n",
    "        summary.value.add(tag='Records/mean_succeed', simple_value=ma_captured())\n",
    "        writer.add_summary(summary, sess.run(global_step))\n",
    "        \n",
    "        #summary_str = sess.run(merged,feed_dict={myAgent.state_input:obs})\n",
    "        #writer.add_summary(summary_, sess.run(global_step))\n",
    "        \n",
    "        writer.flush()"
   ]
  },
  {
   "cell_type": "markdown",
   "metadata": {},
   "source": [
    "## Setup Rollout Experience"
   ]
  },
  {
   "cell_type": "code",
   "execution_count": null,
   "metadata": {},
   "outputs": [],
   "source": [
    "# Trajectory Buffer Configuration\n",
    "tr_depth = 3\n",
    "\n",
    "def get_each_actions(states, rnn_states):\n",
    "    # Get action for individual agent\n",
    "    # states/rnn_states is a stack of observation space from each agent\n",
    "    # states is expected to be in OH encoded\n",
    "    \n",
    "    actions = []\n",
    "    final_states = []\n",
    "    for s, rs in zip(states, rnn_states):\n",
    "        # state chage shape to: (1,1,19,19,11)\n",
    "        action, final_state = network.get_action(states=s[np.newaxis,np.newaxis,:], rnn_init_states=rs)\n",
    "        actions.append(action)\n",
    "        final_states.append(final_state)\n",
    "    return actions, final_states\n",
    "\n",
    "def policy_rollout(num_episode, PARTIAL=False):\n",
    "    # Run episodes, return the results of MDP tuples\n",
    "    replay_buffer = Trajectory_buffer(depth=tr_depth, capacity=batch_update_size)\n",
    "    trim_init_states = tuple([] for _ in range(network.gru_num_layers))\n",
    "    seq_lens = []\n",
    "    for num_ep in range(num_episode):\n",
    "        s = env.reset(map_size=map_size, policy_red=policy_red)    \n",
    "        if PARTIAL:\n",
    "            obs_next = one_hot_encoder(s, env.get_team_blue) # partial observation\n",
    "        else:\n",
    "            obs_next = one_hot_encoder(env._env, env.get_team_blue, vision_range) # Full observation\n",
    "\n",
    "        init_states = [tuple([] for _ in range(network.gru_num_layers)) for _ in range(n_agent)]\n",
    "        init_state = [tuple(np.zeros((1,network.gru_unit_size)) for _ in range(network.gru_num_layers)) for _ in range(n_agent)]\n",
    "\n",
    "        trajs = [Trajectory(depth=tr_depth, length_max=max_ep) for _ in range(n_agent)]\n",
    "\n",
    "        is_alive = [ag.isAlive for ag in env.get_team_blue]\n",
    "        prev_reward = 0\n",
    "        frame = 0\n",
    "        for frame in range(max_ep+1):\n",
    "            obs = obs_next\n",
    "            was_alive = is_alive\n",
    "\n",
    "            acts, final_states = get_each_actions(obs, init_state)\n",
    "            s,r1,d,_ = env.step(acts) #Get our reward\n",
    "\n",
    "            is_alive = [ag.isAlive for ag in env.get_team_blue]\n",
    "            r = r1-prev_reward\n",
    "            if frame == max_ep and d == False:\n",
    "                r = -100\n",
    "                r1 = -100\n",
    "                d = True\n",
    "            r /= 100\n",
    "\n",
    "            if PARTIAL:\n",
    "                obs_next = one_hot_encoder(s, env.get_team_blue)\n",
    "            else:\n",
    "                obs_next = one_hot_encoder(env._env, env.get_team_blue, vision_range)\n",
    "\n",
    "            # Push history for individual that 'was' alive previous frame\n",
    "            for idx, agent in enumerate(env.get_team_blue):\n",
    "                if was_alive[idx]:\n",
    "                    trajs[idx].append([obs[idx], acts[idx], r]) # MDP Tuple : state, action, reward\n",
    "                    for i in range(network.gru_num_layers):\n",
    "                        init_states[idx][i].append(init_state[idx][i][0])\n",
    "\n",
    "            # State Transition\n",
    "            prev_reward = r1\n",
    "            init_state = final_states\n",
    "\n",
    "            if d:\n",
    "                break\n",
    "                \n",
    "        # summarize and record\n",
    "        ma_reward.append(r1)\n",
    "        ma_length.append(frame)\n",
    "        ma_captured.append(env.blue_win)\n",
    "\n",
    "        for idx, traj in enumerate(trajs):\n",
    "            if len(traj)<=serial_length:\n",
    "                continue\n",
    "            else:\n",
    "                traj_length = len(traj)\n",
    "                batch_length = traj_length // serial_length\n",
    "\n",
    "            # Discount Reward\n",
    "            _rew = np.array(traj[2])\n",
    "            traj[2] = discount_rewards(_rew, gamma).tolist()\n",
    "\n",
    "            # Trim rnn states\n",
    "            ss = 0 if traj_length % serial_length == 0 else 1\n",
    "            rnn_init_state = init_states[idx]\n",
    "            trim_init_state = tuple(rnn_init_state[i][::serial_length][ss:] for i in range(network.gru_num_layers))\n",
    "            \n",
    "            # Sequence length\n",
    "            seq_len = [serial_length]*(batch_length)\n",
    "\n",
    "            # Trim batch for each trajectory\n",
    "            traj_list = traj.trim(serial_length)\n",
    "            replay_buffer.extend(traj_list)\n",
    "            [a.extend(b) for a,b in zip(trim_init_states, trim_init_state)]\n",
    "            seq_lens.extend(seq_len)\n",
    "    return replay_buffer.sample(), np.array(trim_init_states[0]), np.array(seq_lens)"
   ]
  },
  {
   "cell_type": "markdown",
   "metadata": {},
   "source": [
    "## Training"
   ]
  },
  {
   "cell_type": "code",
   "execution_count": null,
   "metadata": {
    "scrolled": false
   },
   "outputs": [
    {
     "name": "stdout",
     "output_type": "stream",
     "text": [
      "\r",
      "     0/120000 [.....] - ETA: 0s"
     ]
    }
   ],
   "source": [
    "policy_red = policy.zeros.PolicyGen(env.get_map, env.get_team_red)\n",
    "num_ep = total_episode\n",
    "try:\n",
    "    progbar = tf.keras.utils.Progbar(num_ep,width=5, interval=0.5)\n",
    "    ep_count = sess.run(global_step)\n",
    "    while ep_count < num_ep:\n",
    "        progbar.update(ep_count) # update progress bar\n",
    "\n",
    "        # Run episode\n",
    "        (states, actions, rewards), init_state, seq_len = policy_rollout(num_episode = each_run)\n",
    "        ep_count += each_run\n",
    "\n",
    "        network.update_network(states, rewards, actions, init_state, seq_len)\n",
    "\n",
    "        if ep_count % save_stat_frequency == 0 and ep_count != 0:\n",
    "            #summary_ = sess.run(merged, feed_dict=feed_dict)\n",
    "            record() #summary_)\n",
    "\n",
    "        # save weight\n",
    "        if ep_count % save_network_frequency == 0:\n",
    "            saver.save(sess, MODEL_PATH+'/ctf_policy.ckpt', global_step=global_step)\n",
    "\n",
    "        sess.run(increment_global_step_op)\n",
    "\n",
    "except KeyboardInterrupt:\n",
    "    saver.save(sess, MODEL_PATH+'/ctf_policy.ckpt', global_step=global_step)\n",
    "    print(f'save: {sess.run(global_step)}, episodes')"
   ]
  }
 ],
 "metadata": {
  "kernelspec": {
   "display_name": "Python 3",
   "language": "python",
   "name": "python3"
  },
  "language_info": {
   "codemirror_mode": {
    "name": "ipython",
    "version": 3
   },
   "file_extension": ".py",
   "mimetype": "text/x-python",
   "name": "python",
   "nbconvert_exporter": "python",
   "pygments_lexer": "ipython3",
   "version": "3.6.6"
  }
 },
 "nbformat": 4,
 "nbformat_minor": 2
}
