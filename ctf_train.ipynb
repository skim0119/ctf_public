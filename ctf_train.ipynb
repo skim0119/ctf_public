{
 "cells": [
  {
   "cell_type": "markdown",
   "metadata": {},
   "source": [
    "# Capture the Flag (RL - Policy Gradient)\n",
    "\n",
    "- Seung Hyun Kim\n",
    "- skim449@illinois.edu\n",
    "\n",
    "## Notes\n",
    "- This notebook includes:\n",
    "    - Building the structure of policy driven network.\n",
    "    - Training with/without render\n",
    "    - Saver that save model and weights to ./model directory\n",
    "    - Writer that will record some necessary datas to ./logs\n",
    "- This notebook does not include running the CtF game with the RL policy. Using the network will be separately scripted in policy/policy_RL1.py.\n",
    "    - cap_test.py is changed appropriately.\n",
    "    \n",
    "## References :\n",
    "- https://github.com/awjuliani/DeepRL-Agents/blob/master/Vanilla-Policy.ipynb (source)\n",
    "- https://www.youtube.com/watch?v=PDbXPBwOavc"
   ]
  },
  {
   "cell_type": "code",
   "execution_count": 1,
   "metadata": {},
   "outputs": [
    {
     "name": "stdout",
     "output_type": "stream",
     "text": [
      "pygame 1.9.4\n",
      "Hello from the pygame community. https://www.pygame.org/contribute.html\n"
     ]
    }
   ],
   "source": [
    "import tensorflow as tf\n",
    "import tensorflow.contrib.slim as slim\n",
    "import matplotlib.pyplot as plt\n",
    "%matplotlib inline\n",
    "\n",
    "import time\n",
    "import gym\n",
    "import gym_cap\n",
    "import gym_cap.envs.const as CONST\n",
    "import numpy as np\n",
    "\n",
    "# the modules that you can use to generate the policy.\n",
    "import policy.patrol \n",
    "import policy.random\n",
    "import policy.simple # custon written policy\n",
    "import policy.policy_RL\n",
    "import policy.zeros"
   ]
  },
  {
   "cell_type": "markdown",
   "metadata": {},
   "source": [
    "## Environment Setting"
   ]
  },
  {
   "cell_type": "code",
   "execution_count": 2,
   "metadata": {},
   "outputs": [],
   "source": [
    "env = gym.make(\"cap-v0\") # initialize the environment\n",
    "policy_red = policy.random.PolicyGen(env.get_map, env.get_team_red)\n",
    "\n",
    "UNKNOWN  = CONST.UNKNOWN # -1\n",
    "TEAM1_BG = CONST.TEAM1_BACKGROUND # 0\n",
    "TEAM2_BG = CONST.TEAM2_BACKGROUND # 1\n",
    "TEAM1_AG = CONST.TEAM1_UGV # 2\n",
    "TEAM2_AG = CONST.TEAM2_UGV # 4\n",
    "TEAM1_FL = CONST.TEAM1_FLAG # 6\n",
    "TEAM2_FL = CONST.TEAM2_FLAG # 7\n",
    "OBSTACLE = CONST.OBSTACLE # 8\n",
    "DEAD     = CONST.DEAD # 9\n",
    "SELECTED = CONST.SELECTED # 10\n",
    "COMPLETED= CONST.COMPLETED # 11\n",
    "\n",
    "VISION_RANGE = 10 #CONST.UGV_RANGE\n",
    "VISION_dX    = 2*VISION_RANGE+1\n",
    "VISION_dY    = 2*VISION_RANGE+1"
   ]
  },
  {
   "cell_type": "code",
   "execution_count": 3,
   "metadata": {},
   "outputs": [
    {
     "name": "stdout",
     "output_type": "stream",
     "text": [
      "red number :  4\n",
      "blue number :  5\n",
      "vision range :  10\n"
     ]
    }
   ],
   "source": [
    "print('red number : ', len(env.get_team_red))\n",
    "print('blue number : ', len(env.get_team_blue))\n",
    "print('vision range : ', VISION_RANGE)"
   ]
  },
  {
   "cell_type": "markdown",
   "metadata": {},
   "source": [
    "## Discount Reward"
   ]
  },
  {
   "cell_type": "code",
   "execution_count": 4,
   "metadata": {},
   "outputs": [],
   "source": [
    "gamma = 0.97\n",
    "\n",
    "def discount_rewards(r):\n",
    "    \"\"\" take 1D float array of rewards and compute discounted reward \"\"\"\n",
    "    #r = np.diff(r)\n",
    "    #r = np.insert(r,0,0)\n",
    "    discounted_r = np.zeros_like(r)\n",
    "    running_add = 0.0\n",
    "    for t in reversed(range(r.size)):\n",
    "        running_add = running_add * gamma + r[t]\n",
    "        discounted_r[t] = running_add\n",
    "    #discounted_r = (discounted_r - np.mean(discounted_r)) / (np.std(discounted_r)+1e-8) # normalize\n",
    "    return discounted_r\n",
    "\n",
    "def discount_rewards_multiagent(r, n_agents):\n",
    "    discounted_r = np.reshape(r,(-1,n_agents)) # Reshape the r into vertical matrix with 'n_agents' columns\n",
    "    for idx in range(n_agents):\n",
    "        column = discounted_r[:,idx]                     # extract single column\n",
    "        discounted_r[:,idx] = discount_rewards(column);  # Run discount_reward on the column, and substitute\n",
    "    return np.reshape(discounted_r,(-1))                 # return the flattened matrix"
   ]
  },
  {
   "cell_type": "markdown",
   "metadata": {},
   "source": [
    "## Network Setting"
   ]
  },
  {
   "cell_type": "code",
   "execution_count": 5,
   "metadata": {},
   "outputs": [],
   "source": [
    "class agent():\n",
    "    def __init__(self, lr, in_size,action_size):\n",
    "        #These lines established the feed-forward part of the network. The agent takes a state and produces an action.\n",
    "        self.state_input = tf.placeholder(shape=in_size,dtype=tf.float32, name='state')\n",
    "        \n",
    "        layer = slim.conv2d(self.state_input, 32, [5,5],# activation_fn=tf.nn.relu,\n",
    "                            padding='SAME',\n",
    "                            scope='conv1')\n",
    "        #layer = slim.avg_pool2d(layer, [2,2])\n",
    "        layer = slim.conv2d(layer, 32, [3,3],# activation_fn=tf.nn.relu,\n",
    "                            padding='SAME',\n",
    "                            scope='conv2')\n",
    "        layer = slim.flatten(layer)\n",
    "        #flat  = tf.reshape(conv, [-1, VISION_dX*VISION_dY*128])\n",
    "        #layer = slim.dropout(layer,keep_prob=0.7)\n",
    "        #layer = slim.fully_connected(layer, 516,\n",
    "        #                            #activation_fn=tf.nn.relu,\n",
    "        #                            biases_initializer=None,\n",
    "        #                            scope='hidden_fc1')\n",
    "        #layer = slim.dropout(layer,keep_prob=0.7)\n",
    "        #layer = slim.fully_connected(layer, 516,\n",
    "        #                            #activation_fn=tf.nn.relu,\n",
    "        #                            biases_initializer=None)\n",
    "        dense = slim.fully_connected(layer, action_size,\n",
    "        #                             activation_fn=tf.nn.relu,\n",
    "                                     biases_initializer=None,\n",
    "                                     scope='output_fc')\n",
    "        self.output = tf.nn.softmax(dense, name='action')\n",
    "        \n",
    "        tf.summary.histogram('output', self.output)\n",
    "        \n",
    "        with tf.name_scope('weights'):\n",
    "            for var in slim.get_model_variables():\n",
    "                tf.summary.histogram(var.op.name, var)\n",
    "\n",
    "        #The next six lines establish the training proceedure. We feed the reward and chosen action into the network\n",
    "        #to compute the loss, and use it to update the network.\n",
    "\n",
    "        with tf.name_scope('Records'):\n",
    "            self.mean_reward = tf.placeholder(\"float\", None)\n",
    "            self.mean_length = tf.placeholder(\"float\", None)\n",
    "            self.mean_succeed = tf.placeholder(\"float\", None)\n",
    "            #self.mean_stdaction = tf.placeholder(\"float\",None)\n",
    "            tf.summary.scalar('mean_reward', self.mean_reward)\n",
    "            tf.summary.scalar('mean_length', self.mean_length)\n",
    "            tf.summary.scalar('mean_succeed', self.mean_succeed)\n",
    "    \n",
    "        with tf.name_scope('action'):\n",
    "            self.action_holder = tf.placeholder(shape=[None],dtype=tf.int32)\n",
    "            self.indexes = tf.range(0, tf.shape(self.output)[0]) * tf.shape(self.output)[1] + self.action_holder\n",
    "\n",
    "        with tf.name_scope('loss'):\n",
    "            self.reward_holder = tf.placeholder(shape=[None],dtype=tf.float32)\n",
    "            self.responsible_outputs = tf.gather(tf.reshape(self.output, [-1]), self.indexes)\n",
    "            self.loss = -tf.reduce_mean(tf.log(self.responsible_outputs)*self.reward_holder)\n",
    "\n",
    "        tvars = tf.trainable_variables()\n",
    "        self.gradient_holders = []\n",
    "        for idx,var in enumerate(tvars):\n",
    "            placeholder = tf.placeholder(tf.float32,name=str(idx)+'_holder')\n",
    "            self.gradient_holders.append(placeholder)\n",
    "        \n",
    "        with tf.name_scope('gradients'):\n",
    "            self.gradients = tf.gradients(self.loss,tvars)\n",
    "\n",
    "        with tf.name_scope('optimizer'):\n",
    "            optimizer = tf.train.AdamOptimizer(learning_rate=lr)\n",
    "            self.update_batch = optimizer.apply_gradients(zip(self.gradient_holders,tvars))"
   ]
  },
  {
   "cell_type": "code",
   "execution_count": 6,
   "metadata": {},
   "outputs": [
    {
     "name": "stderr",
     "output_type": "stream",
     "text": [
      "/home/namsong/.local/lib/python3.6/site-packages/tensorflow/python/ops/gradients_impl.py:108: UserWarning: Converting sparse IndexedSlices to a dense Tensor of unknown shape. This may consume a large amount of memory.\n",
      "  \"Converting sparse IndexedSlices to a dense Tensor of unknown shape. \"\n"
     ]
    }
   ],
   "source": [
    "tf.reset_default_graph() # Clear the Tensorflow graph.\n",
    "myAgent = agent(lr=1e-4,in_size=[None,VISION_dX,VISION_dY,6],action_size=5) #Load the agent.\n",
    "global_step = tf.Variable(0, trainable=False, name='global_step') # global step\n",
    "increment_global_step_op = tf.assign(global_step, global_step+1)\n",
    "merged = tf.summary.merge_all()"
   ]
  },
  {
   "cell_type": "markdown",
   "metadata": {},
   "source": [
    "## Hyperparameters"
   ]
  },
  {
   "cell_type": "code",
   "execution_count": 7,
   "metadata": {},
   "outputs": [],
   "source": [
    "total_episodes = 5000 #Set total number of episodes to train agent on.\n",
    "max_ep = 500\n",
    "update_frequency = 10\n",
    "save_network_frequency = 100\n",
    "save_reward_frequency = 10"
   ]
  },
  {
   "cell_type": "markdown",
   "metadata": {},
   "source": [
    "## One-hot Encoder"
   ]
  },
  {
   "cell_type": "code",
   "execution_count": 8,
   "metadata": {},
   "outputs": [],
   "source": [
    "def one_hot_encoder(state, agents):\n",
    "    ret = np.zeros((len(agents),VISION_dX,VISION_dY,6))\n",
    "    # team 1 : (1), team 2 : (-1), map elements: (0)\n",
    "    map_channel = {UNKNOWN:0, DEAD:0,\n",
    "                   TEAM1_BG:1, TEAM2_BG:1,\n",
    "                   TEAM1_AG:2, TEAM2_AG:2,\n",
    "                   3:3, 5:3, # UAV, does not need to be included for now\n",
    "                   TEAM1_FL:4, TEAM2_FL:4,\n",
    "                   OBSTACLE:5}\n",
    "    map_color   = {UNKNOWN:1, DEAD:0, OBSTACLE:1,\n",
    "                   TEAM1_BG:1, TEAM2_BG:-1,\n",
    "                   TEAM1_AG:1, TEAM2_AG:-1,\n",
    "                   3:1, 5:-1, # UAV, does not need to be included for now\n",
    "                   TEAM1_FL:1, TEAM2_FL:-1}\n",
    "    \n",
    "    # Expand the observation with 3-thickness wall\n",
    "    # - in order to avoid dealing with the boundary\n",
    "    sx, sy = state.shape\n",
    "    _state = np.ones((sx+2*VISION_RANGE, sy+2*VISION_RANGE)) * OBSTACLE # 8 for obstacle\n",
    "    _state[VISION_RANGE:VISION_RANGE+sx, VISION_RANGE:VISION_RANGE+sy] = state\n",
    "    state = _state\n",
    "\n",
    "    for idx,agent in enumerate(agents):\n",
    "        # Initialize Variables\n",
    "        x, y = agent.get_loc()\n",
    "        x += VISION_RANGE\n",
    "        y += VISION_RANGE\n",
    "        vision = state[x-VISION_RANGE:x+VISION_RANGE+1,y-VISION_RANGE:y+VISION_RANGE+1] # extract the limited view for the agent (5x5)\n",
    "        for i in range(len(vision)):\n",
    "            for j in range(len(vision[0])):\n",
    "                if vision[i][j] != -1:\n",
    "                    channel = map_channel[vision[i][j]]\n",
    "                    ret[idx][i][j][channel] = map_color[vision[i][j]]\n",
    "    return ret"
   ]
  },
  {
   "cell_type": "markdown",
   "metadata": {},
   "source": [
    "## Session"
   ]
  },
  {
   "cell_type": "code",
   "execution_count": 9,
   "metadata": {
    "scrolled": false
   },
   "outputs": [
    {
     "name": "stdout",
     "output_type": "stream",
     "text": [
      "INFO:tensorflow:Restoring parameters from ./model/ctf_policy.ckpt-7599\n",
      "Load Model :  ./model/ctf_policy.ckpt-7599\n"
     ]
    }
   ],
   "source": [
    "# Launch the session\n",
    "sess = tf.Session()\n",
    "\n",
    "total_reward = []\n",
    "total_length = []\n",
    "total_captured = []\n",
    "table_stdaction = []\n",
    "\n",
    "exploration_final = 0.01\n",
    "exploration = 0#1.0\n",
    "exploration_decay = 0.99\n",
    "\n",
    "# Setup Save and Restore Network\n",
    "saver = tf.train.Saver(tf.global_variables())\n",
    "writer = tf.summary.FileWriter('./logs', sess.graph)\n",
    "\n",
    "ckpt = tf.train.get_checkpoint_state('./model')\n",
    "if ckpt and tf.train.checkpoint_exists(ckpt.model_checkpoint_path):\n",
    "    saver.restore(sess, ckpt.model_checkpoint_path)\n",
    "    print(\"Load Model : \", ckpt.model_checkpoint_path)\n",
    "else:\n",
    "    sess.run(tf.global_variables_initializer())\n",
    "    print(\"Initialized Variables\")"
   ]
  },
  {
   "cell_type": "code",
   "execution_count": 10,
   "metadata": {},
   "outputs": [],
   "source": [
    "def record(obs):\n",
    "    feed_dict = {myAgent.mean_reward:np.mean(total_reward[-save_reward_frequency:]),\n",
    "                         myAgent.mean_length:np.mean(total_length[-save_reward_frequency:]),\n",
    "                         myAgent.mean_succeed:np.mean(total_captured[-save_reward_frequency:]),\n",
    "                         #myAgent.mean_stdaction:np.mean(table_stdaction[-save_reward_frequency:]),\n",
    "                         myAgent.state_input:obs\n",
    "                }\n",
    "    with tf.device('/cpu:0'):    \n",
    "        summary_str = sess.run(merged, feed_dict=feed_dict)\n",
    "        writer.add_summary(summary_str, sess.run(global_step))"
   ]
  },
  {
   "cell_type": "code",
   "execution_count": 11,
   "metadata": {},
   "outputs": [],
   "source": [
    "gradBuffer = sess.run(tf.trainable_variables())\n",
    "def clear_buffer():\n",
    "    for ix,grad in enumerate(gradBuffer):\n",
    "        gradBuffer[ix] = grad * 0 #np.zeros(grad.shape)"
   ]
  },
  {
   "cell_type": "markdown",
   "metadata": {},
   "source": [
    "## Training"
   ]
  },
  {
   "cell_type": "code",
   "execution_count": null,
   "metadata": {
    "scrolled": false
   },
   "outputs": [
    {
     "name": "stdout",
     "output_type": "stream",
     "text": [
      " 100/5000 [.....] - ETA: 11:27:29 Average r :  19.15\n",
      "save weights:  7699 episodes 0.013702867\n",
      " 200/5000 [.....] - ETA: 11:15:23 Average r :  23.275\n",
      "save weights:  7799 episodes 0.17095296\n",
      " 300/5000 [.....] - ETA: 10:52:55 Average r :  24.2\n",
      "save weights:  7899 episodes 0.18818171\n",
      " 400/5000 [.....] - ETA: 10:26:48 Average r :  26.4\n",
      "save weights:  7999 episodes 0.19753098\n",
      " 500/5000 [.....] - ETA: 10:14:17 Average r :  20.925\n",
      "save weights:  8099 episodes 0.10009702\n",
      " 600/5000 [.....] - ETA: 9:53:23 Average r :  23.7\n",
      "save weights:  8199 episodes 0.1745927\n",
      " 700/5000 [.....] - ETA: 9:33:16 Average r :  33.775\n",
      "save weights:  8299 episodes 0.21686623\n",
      " 800/5000 [.....] - ETA: 9:25:26 Average r :  14.875\n",
      "save weights:  8399 episodes 0.22641423\n",
      " 900/5000 [.....] - ETA: 9:09:23 Average r :  24.825\n",
      "save weights:  8499 episodes 0.21994464\n",
      "1000/5000 [>....] - ETA: 8:56:51 Average r :  19.3\n",
      "save weights:  8599 episodes 0.26200014\n",
      "1100/5000 [>....] - ETA: 8:34:41 Average r :  27.55\n",
      "save weights:  8699 episodes 0.23836875\n",
      "1200/5000 [>....] - ETA: 8:18:41 Average r :  31.075\n",
      "save weights:  8799 episodes 0.29988202\n",
      "1300/5000 [>....] - ETA: 8:01:54 Average r :  25.35\n",
      "save weights:  8899 episodes 0.17242159\n",
      "1400/5000 [>....] - ETA: 7:45:45 Average r :  28.225\n",
      "save weights:  8999 episodes 0.25336695\n",
      "1500/5000 [>....] - ETA: 7:33:42 Average r :  29.825\n",
      "save weights:  9099 episodes 0.23070565\n",
      "1600/5000 [>....] - ETA: 7:20:50 Average r :  26.6\n",
      "save weights:  9199 episodes 0.28958356\n",
      "1700/5000 [>....] - ETA: 7:08:26 Average r :  28.225\n",
      "save weights:  9299 episodes 0.2276052\n",
      "1800/5000 [>....] - ETA: 6:57:05 Average r :  17.275\n",
      "save weights:  9399 episodes 0.25288427\n",
      "1900/5000 [>....] - ETA: 6:44:23 Average r :  26.7\n",
      "save weights:  9499 episodes 0.25288326\n",
      "2000/5000 [=>...] - ETA: 6:31:01 Average r :  27.825\n",
      "save weights:  9599 episodes 0.2688045\n",
      "2100/5000 [=>...] - ETA: 6:19:06 Average r :  24.6\n",
      "save weights:  9699 episodes 0.22447757\n",
      "2200/5000 [=>...] - ETA: 6:06:36 Average r :  18.1\n",
      "save weights:  9799 episodes 0.121132694\n",
      "2300/5000 [=>...] - ETA: 5:53:47 Average r :  21.55\n",
      "save weights:  9899 episodes 0.14050096\n",
      "2400/5000 [=>...] - ETA: 5:40:06 Average r :  37.775\n",
      "save weights:  9999 episodes 0.111058\n",
      "2500/5000 [=>...] - ETA: 5:28:13 Average r :  21.375\n",
      "save weights:  10099 episodes 0.217369\n",
      "2600/5000 [=>...] - ETA: 5:14:36 Average r :  27.175\n",
      "save weights:  10199 episodes 0.29877648\n",
      "2700/5000 [=>...] - ETA: 5:02:13 Average r :  31.85\n",
      "save weights:  10299 episodes 0.15785578\n",
      "2800/5000 [=>...] - ETA: 4:49:24 Average r :  23.325\n",
      "save weights:  10399 episodes 0.17409167\n",
      "2900/5000 [=>...] - ETA: 4:37:22 Average r :  18.1\n",
      "save weights:  10499 episodes 0.15402313\n",
      "3000/5000 [==>..] - ETA: 4:24:13 Average r :  24.3\n",
      "save weights:  10599 episodes 0.16957238\n",
      "3100/5000 [==>..] - ETA: 4:10:44 Average r :  26.85\n",
      "save weights:  10699 episodes 0.016291367\n",
      "3200/5000 [==>..] - ETA: 3:57:04 Average r :  34.075\n",
      "save weights:  10799 episodes 0.1489757\n",
      "3300/5000 [==>..] - ETA: 3:44:05 Average r :  38.625\n",
      "save weights:  10899 episodes 0.1741561\n",
      "3400/5000 [==>..] - ETA: 3:30:38 Average r :  37.15\n",
      "save weights:  10999 episodes 0.113329366\n",
      "3500/5000 [==>..] - ETA: 3:17:05 Average r :  27.45\n",
      "save weights:  11099 episodes 0.1288696\n",
      "3600/5000 [==>..] - ETA: 3:03:44 Average r :  32.3\n",
      "save weights:  11199 episodes 0.11469475\n",
      "3700/5000 [==>..] - ETA: 2:50:23 Average r :  35.4\n",
      "save weights:  11299 episodes 0.08728601\n",
      "3720/5000 [==>..] - ETA: 2:47:39"
     ]
    }
   ],
   "source": [
    "ep = 0\n",
    "\n",
    "action_space = 5\n",
    "n_agent = len(env.get_team_blue)\n",
    "\n",
    "clear_buffer()\n",
    "try:\n",
    "    progbar = tf.keras.utils.Progbar(total_episodes,width=5)\n",
    "    while ep < total_episodes:\n",
    "        progbar.update(ep) # update progress bar\n",
    "        \n",
    "        s = env.reset(map_size=20, policy_red=policy_red, render_mode='env')\n",
    "        ep_history = []\n",
    "        indv_history = [[] for _ in range(len(env.get_team_blue))]\n",
    "        prev_loc = [ag.get_loc() for ag in env.get_team_blue]\n",
    "        \n",
    "        running_reward = 0 # episode cumulative reward\n",
    "        prev_reward = 0\n",
    "        for frame in range(max_ep+1):\n",
    "            obs = one_hot_encoder(s, env.get_team_blue) # observation\n",
    "            #obs = one_hot_encoder(env._env, env.get_team_blue) # train with all map\n",
    "            if exploration > np.random.random(): # explorate\n",
    "                a = np.random.randint(action_space, size=len(env.get_team_blue)).tolist()\n",
    "            else:\n",
    "                with tf.device('/cpu:0'):        \n",
    "                    #Probabilistically pick an action given our network outputs.\n",
    "                    a = sess.run(myAgent.output, feed_dict={myAgent.state_input:obs})\n",
    "                    table_stdaction.append(np.std(a))\n",
    "                    a = [np.random.choice(action_space, p=a[x]/sum(a[x])) for x in range(n_agent)] # divide by sum : normalize\n",
    "            s1,r,d,_ = env.step(a) #Get our reward for taking an action given a bandit.\n",
    "                \n",
    "            # post-evaluate reward\n",
    "            loc = [ag.get_loc() for ag in env.get_team_blue]\n",
    "            r_p = [0 for _ in range(len(a))]\n",
    "            for idx in range(len(loc)):\n",
    "                if a[idx] != 0 and loc[idx] == prev_loc[idx]:\n",
    "                    r_p[idx] -= 15\n",
    "            # . If the game does not end, add -30 extra reward\n",
    "            #if frame == max_ep: r -= 30 # negative reward for stall-state\n",
    "                \n",
    "            # Rendering\n",
    "            #env.render(mode=\"fast\")\n",
    "            #time.sleep(0.05)\n",
    "\n",
    "\n",
    "            for idx, agent in enumerate(env.get_team_blue):\n",
    "                #if agent.isAlive: indv_history[idx].append([obs[idx],a[idx],r,s1])\n",
    "                ep_history.append([obs[idx],a[idx],r + r_p[idx],s1])\n",
    "                \n",
    "            s = s1\n",
    "            running_reward += r\n",
    "\n",
    "            if d == True or frame == max_ep: # or r > 0:\n",
    "                #Update the network.\n",
    "                '''for history in indv_history:\n",
    "                    if len(history)==0: continue\n",
    "                    history = np.array(history)\n",
    "                    history[:,2] = discount_rewards(history[:,2])\n",
    "                    ep_history.append(history)\n",
    "                ep_history = np.vstack(ep_history)'''\n",
    "                ep_history = np.array(ep_history)\n",
    "                ep_history[:,2] = discount_rewards_multiagent(ep_history[:,2], len(env.get_team_blue))\n",
    "                #ep_history[:,2] = discount_rewards(ep_history[:,2])\n",
    "                feed_dict={myAgent.reward_holder:ep_history[:,2],\n",
    "                           myAgent.action_holder:ep_history[:,1],\n",
    "                           myAgent.state_input:np.stack(ep_history[:,0])}\n",
    "                \n",
    "                with tf.device('/gpu:0'):\n",
    "                    grads = sess.run(myAgent.gradients, feed_dict=feed_dict)\n",
    "                for idx,grad in enumerate(grads):\n",
    "                    gradBuffer[idx] += grad\n",
    "                    \n",
    "                if ep % update_frequency == 0 and ep != 0:\n",
    "                    feed_dict= dictionary = dict(zip(myAgent.gradient_holders, gradBuffer))\n",
    "                    with tf.device('/gpu:0'):\n",
    "                        _ = sess.run(myAgent.update_batch, feed_dict=feed_dict)\n",
    "                    clear_buffer()\n",
    "                    \n",
    "                break\n",
    "                \n",
    "        total_reward.append(r)\n",
    "        total_length.append(frame)\n",
    "        total_captured.append(env.game_won)  \n",
    "                       \n",
    "        exploration = max(exploration_decay*exploration, exploration_final)\n",
    "        \n",
    "        if ep % save_reward_frequency == 0 and ep != 0:\n",
    "            record(obs)\n",
    "        \n",
    "        # save every 100 ep\n",
    "        if ep % save_network_frequency == 0 and ep != 0:\n",
    "            print(' Average r : ', np.mean(total_reward[-save_network_frequency:]))\n",
    "            saver.save(sess, './model/ctf_policy.ckpt', global_step=global_step)\n",
    "            print(\"save weights: \", sess.run(global_step), 'episodes', np.mean(table_stdaction[-10:]))\n",
    "\n",
    "        ep += 1\n",
    "        sess.run(increment_global_step_op)\n",
    "        \n",
    "except KeyboardInterrupt:\n",
    "    print('\\n\\nManually stopped the training (KeyboardInterrupt)');\n",
    "    plt.plot(total_reward)\n",
    "    plt.figure()\n",
    "    plt.plot(total_length)\n",
    "    plt.figure()\n",
    "    plt.plot(total_captured)\n",
    "    saver.save(sess, './model/ctf_policy.ckpt', global_step=global_step)\n",
    "    record(obs)\n",
    "    print(\"save: \", sess.run(global_step), 'episodes')"
   ]
  },
  {
   "cell_type": "code",
   "execution_count": null,
   "metadata": {},
   "outputs": [],
   "source": []
  }
 ],
 "metadata": {
  "kernelspec": {
   "display_name": "Python 3",
   "language": "python",
   "name": "python3"
  },
  "language_info": {
   "codemirror_mode": {
    "name": "ipython",
    "version": 3
   },
   "file_extension": ".py",
   "mimetype": "text/x-python",
   "name": "python",
   "nbconvert_exporter": "python",
   "pygments_lexer": "ipython3",
   "version": "3.6.5"
  }
 },
 "nbformat": 4,
 "nbformat_minor": 2
}
