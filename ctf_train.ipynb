{
 "cells": [
  {
   "cell_type": "markdown",
   "metadata": {},
   "source": [
    "# Capture the Flag (RL - Policy Gradient)\n",
    "\n",
    "- Seung Hyun Kim\n",
    "- skim449@illinois.edu\n",
    "\n",
    "## Notes\n",
    "- This notebook includes:\n",
    "    - Building the structure of policy driven network.\n",
    "    - Training with/without render\n",
    "    - Saver that save model and weights to ./model directory\n",
    "    - Writer that will record some necessary datas to ./logs\n",
    "- This notebook does not include running the CtF game with the RL policy. Using the network will be separately scripted in policy/policy_RL1.py.\n",
    "    - cap_test.py is changed appropriately.\n",
    "    \n",
    "## References :\n",
    "- https://github.com/awjuliani/DeepRL-Agents/blob/master/Vanilla-Policy.ipynb (source)\n",
    "- https://www.youtube.com/watch?v=PDbXPBwOavc"
   ]
  },
  {
   "cell_type": "code",
   "execution_count": 1,
   "metadata": {},
   "outputs": [
    {
     "name": "stdout",
     "output_type": "stream",
     "text": [
      "pygame 1.9.4\n",
      "Hello from the pygame community. https://www.pygame.org/contribute.html\n"
     ]
    }
   ],
   "source": [
    "import tensorflow as tf\n",
    "import tensorflow.contrib.slim as slim\n",
    "import matplotlib.pyplot as plt\n",
    "%matplotlib inline\n",
    "\n",
    "import time\n",
    "import gym\n",
    "import gym_cap\n",
    "import gym_cap.envs.const as CONST\n",
    "import numpy as np\n",
    "\n",
    "# the modules that you can use to generate the policy.\n",
    "import policy.patrol \n",
    "import policy.random\n",
    "import policy.simple # custon written policy\n",
    "import policy.policy_RL"
   ]
  },
  {
   "cell_type": "markdown",
   "metadata": {},
   "source": [
    "## Environment Setting"
   ]
  },
  {
   "cell_type": "code",
   "execution_count": 2,
   "metadata": {},
   "outputs": [
    {
     "name": "stdout",
     "output_type": "stream",
     "text": [
      "\u001b[33mWARN: Environment '<class 'gym_cap.envs.cap_env.CapEnvGenerate'>' has deprecated methods '_step' and '_reset' rather than 'step' and 'reset'. Compatibility code invoked. Set _gym_disable_underscore_compat = True to disable this behavior.\u001b[0m\n"
     ]
    }
   ],
   "source": [
    "env = gym.make(\"cap-v0\") # initialize the environment\n",
    "policy_red = policy.random.PolicyGen(env.get_map, env.get_team_red)\n",
    "\n",
    "UNKNOWN  = CONST.UNKNOWN # -1\n",
    "TEAM1_BG = CONST.TEAM1_BACKGROUND # 0\n",
    "TEAM2_BG = CONST.TEAM2_BACKGROUND # 1\n",
    "TEAM1_AG = CONST.TEAM1_UGV # 2\n",
    "TEAM2_AG = CONST.TEAM2_UGV # 4\n",
    "TEAM1_FL = CONST.TEAM1_FLAG # 6\n",
    "TEAM2_FL = CONST.TEAM2_FLAG # 7\n",
    "OBSTACLE = CONST.OBSTACLE # 8\n",
    "DEAD     = CONST.DEAD # 9\n",
    "SELECTED = CONST.SELECTED # 10\n",
    "COMPLETED= CONST.COMPLETED # 11\n",
    "\n",
    "VISION_RANGE = CONST.UGV_RANGE\n",
    "VISION_dX    = 2*VISION_RANGE+1\n",
    "VISION_dY    = 2*VISION_RANGE+1"
   ]
  },
  {
   "cell_type": "markdown",
   "metadata": {},
   "source": [
    "## Discount Reward"
   ]
  },
  {
   "cell_type": "code",
   "execution_count": 3,
   "metadata": {},
   "outputs": [],
   "source": [
    "gamma = 0.98\n",
    "\n",
    "def discount_rewards(r):\n",
    "    \"\"\" take 1D float array of rewards and compute discounted reward \"\"\"\n",
    "    discounted_r = np.zeros_like(r)\n",
    "    running_add = 0.0\n",
    "    for t in reversed(range(r.size)):\n",
    "        running_add = running_add * gamma + r[t]\n",
    "        discounted_r[t] = running_add\n",
    "    return discounted_r\n",
    "\n",
    "def discount_rewards_multiagent(r, n_agents):\n",
    "    discounted_r = np.reshape(r,(-1,n_agents)) # Reshape the r into vertical matrix with 'n_agents' columns\n",
    "    for idx in range(n_agents):\n",
    "        column = discounted_r[:,idx]                     # extract single column\n",
    "        discounted_r[:,idx] = discount_rewards(column);  # Run discount_reward on the column, and substitute\n",
    "    return np.reshape(discounted_r,(-1))                 # return the flattened matrix"
   ]
  },
  {
   "cell_type": "markdown",
   "metadata": {},
   "source": [
    "## Network Setting"
   ]
  },
  {
   "cell_type": "code",
   "execution_count": 4,
   "metadata": {},
   "outputs": [],
   "source": [
    "class agent():\n",
    "    def __init__(self, lr, in_size,action_size):\n",
    "        #These lines established the feed-forward part of the network. The agent takes a state and produces an action.\n",
    "        self.state_input = tf.placeholder(shape=in_size,dtype=tf.float32, name='state')\n",
    "        conv1 = slim.conv2d(self.state_input, 64, [3,3],# activation_fn=tf.nn.relu,\n",
    "                            scope='conv1')\n",
    "        #pool1 = slim.max_pool2d(conv1, [2,2])\n",
    "        conv2 = slim.conv2d(conv1, 128, [2,2],# activation_fn=tf.nn.relu,\n",
    "                            scope='conv2')\n",
    "        flat = slim.flatten(conv2)\n",
    "        #flat  = tf.reshape(conv2, [-1, VISION_dX*VISION_dY*64])\n",
    "        \n",
    "        dense = slim.fully_connected(flat, action_size,\n",
    "                                            #activation_fn=tf.nn.relu,\n",
    "                                            biases_initializer=None)\n",
    "        self.output = tf.nn.softmax(dense, name='action')\n",
    "        #self.chosen_action = tf.argmax(self.output,1, name='action')\n",
    "\n",
    "        #The next six lines establish the training proceedure. We feed the reward and chosen action into the network\n",
    "        #to compute the loss, and use it to update the network.\n",
    "\n",
    "        with tf.name_scope('records'):\n",
    "            self.mean_reward = tf.placeholder(\"float\", None)\n",
    "            self.mean_length = tf.placeholder(\"float\", None)\n",
    "            tf.summary.scalar('mean_reward', self.mean_reward)\n",
    "            tf.summary.scalar('mean_length', self.mean_length)\n",
    "    \n",
    "        self.action_holder = tf.placeholder(shape=[None],dtype=tf.int32)\n",
    "        self.indexes = tf.range(0, tf.shape(self.output)[0]) * tf.shape(self.output)[1] + self.action_holder\n",
    "\n",
    "        with tf.name_scope('loss'):\n",
    "            self.reward_holder = tf.placeholder(shape=[None],dtype=tf.float32)\n",
    "            self.responsible_outputs = tf.gather(tf.reshape(self.output, [-1]), self.indexes)\n",
    "            self.loss = -tf.reduce_mean(tf.log(self.responsible_outputs)*self.reward_holder)\n",
    "\n",
    "        tvars = tf.trainable_variables()\n",
    "        self.gradient_holders = []\n",
    "        for idx,var in enumerate(tvars):\n",
    "            placeholder = tf.placeholder(tf.float32,name=str(idx)+'_holder')\n",
    "            self.gradient_holders.append(placeholder)\n",
    "        \n",
    "        self.gradients = tf.gradients(self.loss,tvars)\n",
    "\n",
    "        with tf.name_scope('optimizer'):\n",
    "            optimizer = tf.train.AdamOptimizer(learning_rate=lr)\n",
    "            self.update_batch = optimizer.apply_gradients(zip(self.gradient_holders,tvars))"
   ]
  },
  {
   "cell_type": "code",
   "execution_count": 5,
   "metadata": {},
   "outputs": [
    {
     "name": "stderr",
     "output_type": "stream",
     "text": [
      "/home/namsong/.local/lib/python3.6/site-packages/tensorflow/python/ops/gradients_impl.py:108: UserWarning: Converting sparse IndexedSlices to a dense Tensor of unknown shape. This may consume a large amount of memory.\n",
      "  \"Converting sparse IndexedSlices to a dense Tensor of unknown shape. \"\n"
     ]
    }
   ],
   "source": [
    "tf.reset_default_graph() # Clear the Tensorflow graph.\n",
    "myAgent = agent(lr=1e-4,in_size=[None,VISION_dX,VISION_dY,6],action_size=5) #Load the agent.\n",
    "global_step = tf.Variable(0, trainable=False, name='global_step') # global step\n",
    "increment_global_step_op = tf.assign(global_step, global_step+1)\n",
    "merged = tf.summary.merge_all()"
   ]
  },
  {
   "cell_type": "markdown",
   "metadata": {},
   "source": [
    "## Hyperparameters"
   ]
  },
  {
   "cell_type": "code",
   "execution_count": 6,
   "metadata": {},
   "outputs": [],
   "source": [
    "total_episodes = 10000 #Set total number of episodes to train agent on.\n",
    "max_ep = 500\n",
    "update_frequency = 5\n",
    "save_network_frequency = 100\n",
    "save_reward_frequency = 10\n",
    "\n",
    "exploration_final = 0.01\n",
    "exploration = 1.0\n",
    "exploration_decay = 0.99"
   ]
  },
  {
   "cell_type": "markdown",
   "metadata": {},
   "source": [
    "## One-hot Encoder"
   ]
  },
  {
   "cell_type": "code",
   "execution_count": 7,
   "metadata": {},
   "outputs": [],
   "source": [
    "def one_hot_encoder(state, agents):\n",
    "    ret = np.zeros((len(agents),VISION_dX,VISION_dY,6))\n",
    "    # team 1 : (1), team 2 : (-1), map elements: (0)\n",
    "    map_channel = {UNKNOWN:0, DEAD:0,\n",
    "                   TEAM1_BG:1, TEAM2_BG:1,\n",
    "                   TEAM1_AG:2, TEAM2_AG:2,\n",
    "                   3:3, 5:3, # UAV, does not need to be included for now\n",
    "                   TEAM1_FL:4, TEAM2_FL:4,\n",
    "                   OBSTACLE:5}\n",
    "    map_color   = {UNKNOWN:0, DEAD:0, OBSTACLE:0,\n",
    "                   TEAM1_BG:1, TEAM2_BG:-1,\n",
    "                   TEAM1_AG:1, TEAM2_AG:-1,\n",
    "                   3:1, 5:-1, # UAV, does not need to be included for now\n",
    "                   TEAM1_FL:1, TEAM2_FL:-1}\n",
    "    \n",
    "    # Expand the observation with 3-thickness wall\n",
    "    # - in order to avoid dealing with the boundary\n",
    "    sx, sy = state.shape\n",
    "    _state = np.ones((sx+2*VISION_RANGE, sy+2*VISION_RANGE)) * OBSTACLE # 8 for obstacle\n",
    "    _state[VISION_RANGE:VISION_RANGE+sx, VISION_RANGE:VISION_RANGE+sy] = state\n",
    "    state = _state\n",
    "\n",
    "    for idx,agent in enumerate(agents):\n",
    "        # Initialize Variables\n",
    "        x, y = agent.get_loc()\n",
    "        x += VISION_RANGE\n",
    "        y += VISION_RANGE\n",
    "        vision = state[x-VISION_RANGE:x+VISION_RANGE+1,y-VISION_RANGE:y+VISION_RANGE+1] # extract the limited view for the agent (5x5)\n",
    "        for i in range(len(vision)):\n",
    "            for j in range(len(vision[0])):\n",
    "                if vision[i][j] != -1:\n",
    "                    channel = map_channel[vision[i][j]]\n",
    "                    ret[idx][i][j][channel] = map_color[vision[i][j]]\n",
    "    return ret"
   ]
  },
  {
   "cell_type": "markdown",
   "metadata": {},
   "source": [
    "## Session"
   ]
  },
  {
   "cell_type": "code",
   "execution_count": 8,
   "metadata": {
    "scrolled": true
   },
   "outputs": [
    {
     "name": "stdout",
     "output_type": "stream",
     "text": [
      "INFO:tensorflow:Restoring parameters from ./model/ctf_policy.ckpt-3810\n",
      "Load Model :  ./model/ctf_policy.ckpt-3810\n"
     ]
    }
   ],
   "source": [
    "# Launch the session\n",
    "sess = tf.Session()\n",
    "\n",
    "total_reward = []\n",
    "total_length = []\n",
    "total_captured = []\n",
    "\n",
    "# Setup Save and Restore Network\n",
    "saver = tf.train.Saver(tf.global_variables())\n",
    "\n",
    "writer = tf.summary.FileWriter('./logs', sess.graph)\n",
    "\n",
    "ckpt = tf.train.get_checkpoint_state('./model')\n",
    "if ckpt and tf.train.checkpoint_exists(ckpt.model_checkpoint_path):\n",
    "    saver.restore(sess, ckpt.model_checkpoint_path)\n",
    "    print(\"Load Model : \", ckpt.model_checkpoint_path)\n",
    "else:\n",
    "    sess.run(tf.global_variables_initializer())\n",
    "    print(\"Initialized Variables\")"
   ]
  },
  {
   "cell_type": "markdown",
   "metadata": {},
   "source": [
    "## Training"
   ]
  },
  {
   "cell_type": "code",
   "execution_count": 9,
   "metadata": {
    "scrolled": false
   },
   "outputs": [
    {
     "name": "stdout",
     "output_type": "stream",
     "text": [
      "  100/10000 [.....] - ETA: 6:55:48 Average r :  12.954 0.36237201786049694\n",
      "save weights:  3910\n",
      "  200/10000 [.....] - ETA: 8:10:44 Average r :  21.108 0.13263987810938213\n",
      "save weights:  4010\n",
      "  300/10000 [.....] - ETA: 8:45:40 Average r :  41.311499999999995 0.0485504851305729\n",
      "save weights:  4110\n",
      "  400/10000 [.....] - ETA: 8:53:13 Average r :  27.734 0.017771047742294682\n",
      "save weights:  4210\n",
      "  500/10000 [.....] - ETA: 8:59:10 Average r :  36.245 0.01\n",
      "save weights:  4310\n",
      "  600/10000 [.....] - ETA: 9:02:54 Average r :  19.6375 0.01\n",
      "save weights:  4410\n",
      "  700/10000 [.....] - ETA: 8:58:58 Average r :  36.577000000000005 0.01\n",
      "save weights:  4510\n",
      "  800/10000 [.....] - ETA: 8:49:08 Average r :  43.095499999999994 0.01\n",
      "save weights:  4610\n",
      "  900/10000 [.....] - ETA: 8:45:35 Average r :  41.6875 0.01\n",
      "save weights:  4710\n",
      " 1000/10000 [.....] - ETA: 8:38:45 Average r :  34.31 0.01\n",
      "save weights:  4810\n",
      " 1100/10000 [.....] - ETA: 8:29:25 Average r :  38.95349999999999 0.01\n",
      "save weights:  4910\n",
      " 1200/10000 [.....] - ETA: 8:21:04 Average r :  30.4885 0.01\n",
      "save weights:  5010\n",
      " 1300/10000 [.....] - ETA: 8:16:28 Average r :  16.377499999999994 0.01\n",
      "save weights:  5110\n",
      " 1400/10000 [.....] - ETA: 8:06:23 Average r :  28.432999999999996 0.01\n",
      "save weights:  5210\n",
      " 1500/10000 [.....] - ETA: 7:57:41 Average r :  10.947500000000002 0.01\n",
      "save weights:  5310\n",
      " 1600/10000 [.....] - ETA: 7:46:55 Average r :  8.719499999999996 0.01\n",
      "save weights:  5410\n",
      " 1700/10000 [.....] - ETA: 7:34:24 Average r :  4.888999999999999 0.01\n",
      "save weights:  5510\n",
      " 1800/10000 [.....] - ETA: 7:26:26 Average r :  -0.7935000000000012 0.01\n",
      "save weights:  5610\n",
      " 1900/10000 [.....] - ETA: 7:14:38 Average r :  22.41 0.01\n",
      "save weights:  5710\n",
      " 2000/10000 [>....] - ETA: 7:05:48 Average r :  20.601999999999997 0.01\n",
      "save weights:  5810\n",
      " 2100/10000 [>....] - ETA: 7:02:25 Average r :  -6.251499999999998 0.01\n",
      "save weights:  5910\n",
      " 2200/10000 [>....] - ETA: 6:55:39 Average r :  11.2455 0.01\n",
      "save weights:  6010\n",
      " 2300/10000 [>....] - ETA: 6:48:56 Average r :  7.133000000000002 0.01\n",
      "save weights:  6110\n",
      " 2400/10000 [>....] - ETA: 6:42:20 Average r :  14.688999999999997 0.01\n",
      "save weights:  6210\n",
      " 2500/10000 [>....] - ETA: 6:38:01 Average r :  0.6135 0.01\n",
      "save weights:  6310\n",
      " 2600/10000 [>....] - ETA: 6:34:15 Average r :  -8.533500000000002 0.01\n",
      "save weights:  6410\n",
      " 2700/10000 [>....] - ETA: 6:27:26 Average r :  0.6655000000000005 0.01\n",
      "save weights:  6510\n",
      " 2800/10000 [>....] - ETA: 6:21:38 Average r :  12.139999999999997 0.01\n",
      "save weights:  6610\n",
      " 2900/10000 [>....] - ETA: 6:16:56 Average r :  1.8829999999999993 0.01\n",
      "save weights:  6710\n",
      " 3000/10000 [>....] - ETA: 6:10:41 Average r :  -1.2115 0.01\n",
      "save weights:  6810\n",
      " 3100/10000 [>....] - ETA: 6:04:57 Average r :  21.262000000000004 0.01\n",
      "save weights:  6910\n",
      " 3200/10000 [>....] - ETA: 5:58:29 Average r :  4.712000000000001 0.01\n",
      "save weights:  7010\n",
      " 3300/10000 [>....] - ETA: 5:51:55 Average r :  15.586500000000001 0.01\n",
      "save weights:  7110\n",
      " 3400/10000 [>....] - ETA: 5:45:18 Average r :  4.306500000000002 0.01\n",
      "save weights:  7210\n",
      " 3500/10000 [>....] - ETA: 5:40:14 Average r :  -5.833000000000001 0.01\n",
      "save weights:  7310\n",
      " 3600/10000 [>....] - ETA: 5:35:35 Average r :  1.5775000000000003 0.01\n",
      "save weights:  7410\n",
      " 3700/10000 [>....] - ETA: 5:30:15 Average r :  -4.958499999999998 0.01\n",
      "save weights:  7510\n",
      " 3800/10000 [>....] - ETA: 5:25:12 Average r :  14.748499999999996 0.01\n",
      "save weights:  7610\n",
      " 3900/10000 [>....] - ETA: 5:19:04 Average r :  6.9875 0.01\n",
      "save weights:  7710\n",
      " 4000/10000 [=>...] - ETA: 5:13:51 Average r :  16.1085 0.01\n",
      "save weights:  7810\n",
      " 4100/10000 [=>...] - ETA: 5:09:01 Average r :  9.1965 0.01\n",
      "save weights:  7910\n",
      " 4200/10000 [=>...] - ETA: 5:03:29 Average r :  15.976499999999998 0.01\n",
      "save weights:  8010\n",
      " 4300/10000 [=>...] - ETA: 4:57:32 Average r :  5.483999999999998 0.01\n",
      "save weights:  8110\n",
      " 4400/10000 [=>...] - ETA: 4:52:44 Average r :  -1.3635 0.01\n",
      "save weights:  8210\n",
      " 4500/10000 [=>...] - ETA: 4:48:25 Average r :  -6.620999999999999 0.01\n",
      "save weights:  8310\n",
      " 4600/10000 [=>...] - ETA: 4:42:53 Average r :  9.448 0.01\n",
      "save weights:  8410\n",
      " 4700/10000 [=>...] - ETA: 4:37:22 Average r :  -5.605999999999999 0.01\n",
      "save weights:  8510\n",
      " 4800/10000 [=>...] - ETA: 4:32:18 Average r :  -8.4805 0.01\n",
      "save weights:  8610\n",
      " 4900/10000 [=>...] - ETA: 4:27:05 Average r :  -2.1885000000000003 0.01\n",
      "save weights:  8710\n",
      " 5000/10000 [=>...] - ETA: 4:21:50 Average r :  -7.449000000000002 0.01\n",
      "save weights:  8810\n",
      " 5100/10000 [=>...] - ETA: 4:16:23 Average r :  5.9479999999999995 0.01\n",
      "save weights:  8910\n",
      " 5200/10000 [=>...] - ETA: 4:11:55 Average r :  -7.923999999999999 0.01\n",
      "save weights:  9010\n",
      " 5300/10000 [=>...] - ETA: 4:07:35 Average r :  -10.054000000000002 0.01\n",
      "save weights:  9110\n",
      " 5400/10000 [=>...] - ETA: 4:02:52 Average r :  -2.0455 0.01\n",
      "save weights:  9210\n",
      " 5500/10000 [=>...] - ETA: 3:58:18 Average r :  0.38200000000000145 0.01\n",
      "save weights:  9310\n",
      " 5600/10000 [=>...] - ETA: 3:53:57 Average r :  -6.665 0.01\n",
      "save weights:  9410\n",
      " 5700/10000 [=>...] - ETA: 3:49:48 Average r :  -11.8565 0.01\n",
      "save weights:  9510\n",
      " 5800/10000 [=>...] - ETA: 3:46:00 Average r :  -11.236500000000001 0.01\n",
      "save weights:  9610\n",
      " 5900/10000 [=>...] - ETA: 3:41:13 Average r :  -7.4030000000000005 0.01\n",
      "save weights:  9710\n",
      " 6000/10000 [==>..] - ETA: 3:36:46 Average r :  -0.7560000000000006 0.01\n",
      "save weights:  9810\n",
      " 6100/10000 [==>..] - ETA: 3:31:54 Average r :  -8.158 0.01\n",
      "save weights:  9910\n",
      " 6200/10000 [==>..] - ETA: 3:27:18 Average r :  -12.438000000000002 0.01\n",
      "save weights:  10010\n",
      " 6300/10000 [==>..] - ETA: 3:22:55 Average r :  -15.109000000000002 0.01\n",
      "save weights:  10110\n",
      " 6400/10000 [==>..] - ETA: 3:18:15 Average r :  -14.4345 0.01\n",
      "save weights:  10210\n",
      " 6500/10000 [==>..] - ETA: 3:13:39 Average r :  -16.3325 0.01\n",
      "save weights:  10310\n",
      " 6600/10000 [==>..] - ETA: 3:08:06 Average r :  5.106999999999999 0.01\n",
      "save weights:  10410\n",
      " 6700/10000 [==>..] - ETA: 3:02:39 Average r :  -2.553000000000001 0.01\n",
      "save weights:  10510\n",
      " 6800/10000 [==>..] - ETA: 2:57:04 Average r :  5.087 0.01\n",
      "save weights:  10610\n",
      " 6900/10000 [==>..] - ETA: 2:51:33 Average r :  -3.5779999999999985 0.01\n",
      "save weights:  10710\n",
      " 7000/10000 [==>..] - ETA: 2:45:44 Average r :  13.4395 0.01\n",
      "save weights:  10810\n",
      " 7100/10000 [==>..] - ETA: 2:39:58 Average r :  2.3535000000000013 0.01\n",
      "save weights:  10910\n",
      " 7200/10000 [==>..] - ETA: 2:34:35 Average r :  1.4935000000000007 0.01\n",
      "save weights:  11010\n",
      " 7300/10000 [==>..] - ETA: 2:28:57 Average r :  -11.806000000000001 0.01\n",
      "save weights:  11110\n",
      " 7400/10000 [==>..] - ETA: 2:23:22 Average r :  5.7605 0.01\n",
      "save weights:  11210\n",
      " 7500/10000 [==>..] - ETA: 2:17:57 Average r :  -2.3275000000000006 0.01\n",
      "save weights:  11310\n",
      " 7600/10000 [==>..] - ETA: 2:12:18 Average r :  3.5454999999999988 0.01\n",
      "save weights:  11410\n",
      " 7700/10000 [==>..] - ETA: 2:06:46 Average r :  3.3424999999999994 0.01\n",
      "save weights:  11510\n",
      " 7800/10000 [==>..] - ETA: 2:01:16 Average r :  6.421500000000001 0.01\n",
      "save weights:  11610\n",
      " 7900/10000 [==>..] - ETA: 1:55:57 Average r :  -1.168500000000001 0.01\n",
      "save weights:  11710\n",
      " 8000/10000 [===>.] - ETA: 1:50:23 Average r :  5.515 0.01\n",
      "save weights:  11810\n",
      " 8100/10000 [===>.] - ETA: 1:44:49 Average r :  15.681499999999998 0.01\n",
      "save weights:  11910\n",
      " 8200/10000 [===>.] - ETA: 1:39:25 Average r :  -2.698000000000002 0.01\n",
      "save weights:  12010\n",
      " 8254/10000 [===>.] - ETA: 1:36:19\n",
      "\n",
      "Manually stopped the training (KeyboardInterrupt)\n",
      "save:  12064 episodes\n"
     ]
    },
    {
     "data": {
      "image/png": "[encoded data removed]",
      "text/plain": [
       "<Figure size 432x288 with 1 Axes>"
      ]
     },
     "metadata": {
      "needs_background": "light"
     },
     "output_type": "display_data"
    },
    {
     "data": {
      "image/png": "[encoded data removed]",
      "text/plain": [
       "<Figure size 432x288 with 1 Axes>"
      ]
     },
     "metadata": {
      "needs_background": "light"
     },
     "output_type": "display_data"
    },
    {
     "data": {
      "image/png": "[encoded data removed]",
      "text/plain": [
       "<Figure size 432x288 with 1 Axes>"
      ]
     },
     "metadata": {
      "needs_background": "light"
     },
     "output_type": "display_data"
    }
   ],
   "source": [
    "ep = 0\n",
    "\n",
    "action_space = 5\n",
    "n_agent = len(env.get_team_blue)\n",
    "\n",
    "gradBuffer = sess.run(tf.trainable_variables())\n",
    "for ix,grad in enumerate(gradBuffer):\n",
    "    gradBuffer[ix] = grad * 0\n",
    "try:\n",
    "    progbar = tf.keras.utils.Progbar(total_episodes,width=5)\n",
    "    while ep < total_episodes:\n",
    "        progbar.update(ep) # update progress bar\n",
    "        s = env.reset(map_size=20, policy_red=policy_red) #, render_mode='env')\n",
    "        prev_reward=0\n",
    "        running_reward = 0\n",
    "        ep_history = []\n",
    "        \n",
    "        prev_loc = [ag.get_loc() for ag in env.get_team_blue]\n",
    "        for j in range(max_ep+1):\n",
    "            obs = one_hot_encoder(s, env.get_team_blue).tolist() # observation\n",
    "            if exploration > np.random.random(): # explorate\n",
    "                a = np.random.randint(action_space, size=len(env.get_team_blue)).tolist()\n",
    "            else:\n",
    "                obs = one_hot_encoder(s, env.get_team_blue).tolist()\n",
    "                a = sess.run(myAgent.output, feed_dict={myAgent.state_input:obs})\n",
    "                #Probabilistically pick an action given our network outputs.\n",
    "                a = [np.random.choice(action_space, p=a[x]/sum(a[x])) for x in range(n_agent)] # divide by sum : normalize\n",
    "            s1,r_a,d,_ = env.step(a) #Get our reward for taking an action given a bandit.\n",
    "            \n",
    "            # post-evaluate reward\n",
    "            # 1. If the action was not 0(stay) but the agent did not move, give negative point.\n",
    "            r_p = [0 for _ in range(len(env.get_team_blue))]\n",
    "            for idx, agent in enumerate(env.get_team_blue):\n",
    "                loc = agent.get_loc()\n",
    "                if a[idx] != 0 and prev_loc[idx] == loc:\n",
    "                    r_p.append(-1)\n",
    "                else:\n",
    "                    r_p.append(0)\n",
    "            prev_loc = [ag.get_loc() for ag in env.get_team_blue]\n",
    "            \n",
    "            # Rendering\n",
    "            #env.render(mode=\"fast\")\n",
    "            #time.sleep(0.05)\n",
    "\n",
    "            r = r_a-prev_reward # immediate reward\n",
    "            prev_reward = r_a\n",
    "            if j == max_ep: r = -30 # negative reward for stall-state\n",
    "\n",
    "            #for state, act in zip(obs, a):\n",
    "            for i in range(len(env.get_team_blue)):\n",
    "                ep_history.append([obs[i],a[i],r+r_p[i],s1])\n",
    "            # ep_history.append(s,r,a,s1)\n",
    "            s = s1\n",
    "#            running_reward += r\n",
    "            if d == True or j == max_ep: # or r > 0:\n",
    "                #Update the network.\n",
    "                ep_history = np.array(ep_history)\n",
    "                ep_history[:,2] = discount_rewards_multiagent(ep_history[:,2], len(env.get_team_blue))\n",
    "                #ep_history[:,2] = discount_rewards(ep_history[:,2])\n",
    "                feed_dict={myAgent.reward_holder:ep_history[:,2],\n",
    "                           myAgent.action_holder:ep_history[:,1],\n",
    "                           myAgent.state_input:np.stack(ep_history[:,0])}\n",
    "                grads = sess.run(myAgent.gradients, feed_dict=feed_dict)\n",
    "                for idx,grad in enumerate(grads):\n",
    "                    gradBuffer[idx] += grad\n",
    "\n",
    "                if ep % update_frequency == 0 and ep != 0:\n",
    "                    feed_dict= dictionary = dict(zip(myAgent.gradient_holders, gradBuffer))\n",
    "                    _ = sess.run(myAgent.update_batch, feed_dict=feed_dict)\n",
    "                    for ix,grad in enumerate(gradBuffer):\n",
    "                        gradBuffer[ix] = grad * 0\n",
    "\n",
    "                break\n",
    "                \n",
    "        total_reward.append(r_a)\n",
    "        total_length.append(j)\n",
    "        total_captured.append(r>80)\n",
    "        if ep % save_reward_frequency == 0 and ep != 0:\n",
    "            summary_str = sess.run(merged, feed_dict={myAgent.mean_reward:np.mean(total_reward[-save_reward_frequency:]),\n",
    "                                                       myAgent.mean_length:np.mean(total_length[-save_reward_frequency:])})\n",
    "            writer.add_summary(summary_str, sess.run(global_step))\n",
    "        exploration = max(exploration_decay*exploration, exploration_final)\n",
    "        \n",
    "        # save every 100 ep\n",
    "        if ep % save_network_frequency == 0 and ep != 0:\n",
    "            print(' Average r : ', np.mean(total_reward[-100:]), exploration)\n",
    "            saver.save(sess, './model/ctf_policy.ckpt', global_step=global_step)\n",
    "            print(\"save weights: \", sess.run(global_step))\n",
    "\n",
    "        ep += 1\n",
    "        sess.run(increment_global_step_op)\n",
    "except KeyboardInterrupt:\n",
    "    print('\\n\\nManually stopped the training (KeyboardInterrupt)');\n",
    "    plt.plot(total_reward)\n",
    "    plt.figure()\n",
    "    plt.plot(total_length)\n",
    "    plt.figure()\n",
    "    plt.plot(total_captured)\n",
    "    saver.save(sess, './model/ctf_policy.ckpt', global_step=global_step)\n",
    "    summary_str = sess.run(merged, feed_dict={myAgent.mean_reward:np.mean(total_reward[-save_reward_frequency:]),\n",
    "                                                       myAgent.mean_length:np.mean(total_length[-save_reward_frequency:])})\n",
    "    writer.add_summary(summary_str, sess.run(global_step))\n",
    "    print(\"save: \", sess.run(global_step), 'episodes')"
   ]
  },
  {
   "cell_type": "code",
   "execution_count": null,
   "metadata": {},
   "outputs": [],
   "source": []
  }
 ],
 "metadata": {
  "kernelspec": {
   "display_name": "Python 3",
   "language": "python",
   "name": "python3"
  },
  "language_info": {
   "codemirror_mode": {
    "name": "ipython",
    "version": 3
   },
   "file_extension": ".py",
   "mimetype": "text/x-python",
   "name": "python",
   "nbconvert_exporter": "python",
   "pygments_lexer": "ipython3",
   "version": "3.6.5"
  }
 },
 "nbformat": 4,
 "nbformat_minor": 2
}
