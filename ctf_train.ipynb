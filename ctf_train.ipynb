{
 "cells": [
  {
   "cell_type": "markdown",
   "metadata": {},
   "source": [
    "# Capture the Flag (RL - Policy Gradient)\n",
    "\n",
    "- Seung Hyun Kim\n",
    "- skim449@illinois.edu\n",
    "\n",
    "## Notes\n",
    "- This notebook includes:\n",
    "    - Building the structure of policy driven network.\n",
    "    - Training with/without render\n",
    "    - Saver that save model and weights to ./model directory\n",
    "    - Writer that will record some necessary datas to ./logs\n",
    "- This notebook does not include running the CtF game with the RL policy. Using the network will be separately scripted in policy/policy_RL1.py.\n",
    "    - cap_test.py is changed appropriately.\n",
    "    \n",
    "## References :\n",
    "- https://github.com/awjuliani/DeepRL-Agents/blob/master/Vanilla-Policy.ipynb (source)\n",
    "- https://www.youtube.com/watch?v=PDbXPBwOavc"
   ]
  },
  {
   "cell_type": "code",
   "execution_count": 1,
   "metadata": {},
   "outputs": [
    {
     "name": "stderr",
     "output_type": "stream",
     "text": [
      "/Users/skim0119/anaconda3/envs/ctf/lib/python3.6/importlib/_bootstrap.py:219: RuntimeWarning: compiletime version 3.5 of module 'tensorflow.python.framework.fast_tensor_util' does not match runtime version 3.6\n",
      "  return f(*args, **kwds)\n"
     ]
    }
   ],
   "source": [
    "import tensorflow as tf\n",
    "import tensorflow.contrib.slim as slim\n",
    "import matplotlib.pyplot as plt\n",
    "%matplotlib inline\n",
    "\n",
    "import time\n",
    "import gym\n",
    "import gym_cap\n",
    "import numpy as np\n",
    "\n",
    "# the modules that you can use to generate the policy.\n",
    "import policy.patrol \n",
    "import policy.random\n",
    "import policy.simple # custon written policy\n",
    "import policy.policy_RL"
   ]
  },
  {
   "cell_type": "code",
   "execution_count": 2,
   "metadata": {},
   "outputs": [],
   "source": [
    "gamma = 0.99\n",
    "\n",
    "def discount_rewards(r):\n",
    "    \"\"\" take 1D float array of rewards and compute discounted reward \"\"\"\n",
    "    discounted_r = np.zeros_like(r)\n",
    "    running_add = 0\n",
    "    for t in reversed(range(0, r.size)):\n",
    "        running_add = running_add * gamma + r[t]\n",
    "        discounted_r[t] = running_add\n",
    "    return discounted_r"
   ]
  },
  {
   "cell_type": "markdown",
   "metadata": {},
   "source": [
    "## Environment Setting"
   ]
  },
  {
   "cell_type": "code",
   "execution_count": 3,
   "metadata": {},
   "outputs": [
    {
     "name": "stdout",
     "output_type": "stream",
     "text": [
      "\u001b[33mWARN: Environment '<class 'gym_cap.envs.cap_env.CapEnvGenerate'>' has deprecated methods. Compatibility code invoked.\u001b[0m\n"
     ]
    }
   ],
   "source": [
    "env = gym.make(\"cap-v0\") # initialize the environment\n",
    "\n",
    "policy_red = policy.random.PolicyGen(env.get_map, env.get_team_red)"
   ]
  },
  {
   "cell_type": "markdown",
   "metadata": {},
   "source": [
    "## Network Setting"
   ]
  },
  {
   "cell_type": "code",
   "execution_count": 4,
   "metadata": {},
   "outputs": [],
   "source": [
    "class agent():\n",
    "    def __init__(self, lr, in_size,action_size):\n",
    "        #These lines established the feed-forward part of the network. The agent takes a state and produces an action.\n",
    "        self.state_input = tf.placeholder(shape=in_size,dtype=tf.float32, name='state')\n",
    "        conv1 = slim.conv2d(self.state_input, 128, [2,2], scope='conv1')\n",
    "        conv2 = slim.conv2d(conv1, 128, [3,3], scope='conv2')\n",
    "        flat  = slim.flatten(conv2)\n",
    "        dense = slim.fully_connected(flat, action_size,\n",
    "                                           biases_initializer=None)\n",
    "        self.output = tf.nn.softmax(dense, name='action')\n",
    "        #self.chosen_action = tf.argmax(self.output,1, name='action')\n",
    "\n",
    "        #The next six lines establish the training proceedure. We feed the reward and chosen action into the network\n",
    "        #to compute the loss, and use it to update the network.\n",
    "        self.reward_holder = tf.placeholder(shape=[None],dtype=tf.float32)\n",
    "        self.action_holder = tf.placeholder(shape=[None],dtype=tf.int32)\n",
    "        \n",
    "        self.indexes = tf.range(0, tf.shape(self.output)[0]) * tf.shape(self.output)[1] + self.action_holder\n",
    "        self.responsible_outputs = tf.gather(tf.reshape(self.output, [-1]), self.indexes)\n",
    "\n",
    "        self.loss = -tf.reduce_mean(tf.log(self.responsible_outputs)*self.reward_holder)\n",
    "        \n",
    "        tvars = tf.trainable_variables()\n",
    "        self.gradient_holders = []\n",
    "        for idx,var in enumerate(tvars):\n",
    "            placeholder = tf.placeholder(tf.float32,name=str(idx)+'_holder')\n",
    "            self.gradient_holders.append(placeholder)\n",
    "        \n",
    "        self.gradients = tf.gradients(self.loss,tvars)\n",
    "    \n",
    "\n",
    "        optimizer = tf.train.AdamOptimizer(learning_rate=lr)\n",
    "        self.update_batch = optimizer.apply_gradients(zip(self.gradient_holders,tvars))"
   ]
  },
  {
   "cell_type": "code",
   "execution_count": 5,
   "metadata": {},
   "outputs": [
    {
     "name": "stderr",
     "output_type": "stream",
     "text": [
      "/Users/skim0119/anaconda3/envs/ctf/lib/python3.6/site-packages/tensorflow/python/ops/gradients_impl.py:108: UserWarning: Converting sparse IndexedSlices to a dense Tensor of unknown shape. This may consume a large amount of memory.\n",
      "  \"Converting sparse IndexedSlices to a dense Tensor of unknown shape. \"\n"
     ]
    }
   ],
   "source": [
    "tf.reset_default_graph() # Clear the Tensorflow graph.\n",
    "myAgent = agent(lr=1e-4,in_size=[None,5,5,8],action_size=5) #Load the agent.\n",
    "global_step = tf.Variable(0, trainable=False, name='global_step') # global step\n",
    "increment_global_step_op = tf.assign(global_step, global_step+1)\n",
    "merged = tf.summary.merge_all()"
   ]
  },
  {
   "cell_type": "markdown",
   "metadata": {},
   "source": [
    "## Hyperparameters"
   ]
  },
  {
   "cell_type": "code",
   "execution_count": 6,
   "metadata": {},
   "outputs": [],
   "source": [
    "total_episodes = 5000 #Set total number of episodes to train agent on.\n",
    "max_ep = 999\n",
    "update_frequency = 5"
   ]
  },
  {
   "cell_type": "markdown",
   "metadata": {},
   "source": [
    "## Session"
   ]
  },
  {
   "cell_type": "code",
   "execution_count": 7,
   "metadata": {},
   "outputs": [
    {
     "name": "stdout",
     "output_type": "stream",
     "text": [
      "Initialized Variables\n"
     ]
    }
   ],
   "source": [
    "# Launch the session\n",
    "sess = tf.Session()\n",
    "\n",
    "# Setup Save and Restore Network\n",
    "saver = tf.train.Saver(tf.global_variables())\n",
    "\n",
    "writer = tf.summary.FileWriter('./logs', sess.graph)\n",
    "\n",
    "ckpt = tf.train.get_checkpoint_state('./model')\n",
    "if ckpt and tf.train.checkpoint_exists(ckpt.model_checkpoint_path):\n",
    "    saver.restore(sess, ckpt.model_checkpoint_path)\n",
    "    print(\"Load Model : \", ckpt.model_checkpoint_path)\n",
    "else:\n",
    "    sess.run(tf.global_variables_initializer())\n",
    "    print(\"Initialized Variables\")"
   ]
  },
  {
   "cell_type": "code",
   "execution_count": 8,
   "metadata": {},
   "outputs": [],
   "source": [
    "def one_hot_encoder(state, agents):\n",
    "    ret = np.zeros((len(agents),5,5,8))\n",
    "    reorder = {0:0, 1:1, 2:2, 4:3, 6:4, 7:5, 8:6, 9:7}\n",
    "    \n",
    "    # Expand the observation with 3-thickness wall\n",
    "    # - in order to avoid dealing with the boundary\n",
    "    sx, sy = state.shape\n",
    "    _state = np.ones((sx+6, sy+6)) * 8 # 8 for obstacle\n",
    "    _state[3:3+sx, 3:3+sy] = state\n",
    "    state = _state\n",
    "\n",
    "    for idx,agent in enumerate(agents):\n",
    "        # Initialize Variables\n",
    "        x, y = agent.get_loc()\n",
    "        x += 3\n",
    "        y += 3\n",
    "        vision = state[x-2:x+3, y-2:y+3] # limited view for the agent (5x5)\n",
    "        for i in range(len(vision)):\n",
    "            for j in range(len(vision[0])):\n",
    "                if vision[i][j] != -1:\n",
    "                    height = reorder[vision[i][j]]\n",
    "                    ret[idx][i][j][height] = 1\n",
    "    return ret"
   ]
  },
  {
   "cell_type": "markdown",
   "metadata": {},
   "source": [
    "## Training"
   ]
  },
  {
   "cell_type": "code",
   "execution_count": 10,
   "metadata": {
    "scrolled": true
   },
   "outputs": [
    {
     "name": "stderr",
     "output_type": "stream",
     "text": [
      "/Users/skim0119/anaconda3/envs/ctf/lib/python3.6/site-packages/numpy/core/fromnumeric.py:2957: RuntimeWarning: Mean of empty slice.\n",
      "  out=out, **kwargs)\n",
      "/Users/skim0119/anaconda3/envs/ctf/lib/python3.6/site-packages/numpy/core/_methods.py:80: RuntimeWarning: invalid value encountered in double_scalars\n",
      "  ret = ret.dtype.type(ret / rcount)\n"
     ]
    },
    {
     "name": "stdout",
     "output_type": "stream",
     "text": [
      "nan\n",
      "save:  5000\n",
      "1970.8992424242424\n",
      "save:  5100\n",
      "1935.6195\n",
      "save:  5200\n",
      "1821.1425000000004\n",
      "save:  5300\n",
      "1297.44\n",
      "save:  5400\n",
      "1613.5145000000002\n",
      "save:  5500\n",
      "1672.8185\n",
      "save:  5600\n",
      "1209.1515000000002\n",
      "save:  5700\n",
      "1880.1835000000005\n",
      "save:  5800\n",
      "1764.7940000000006\n",
      "save:  5900\n",
      "2203.0475\n",
      "save:  6000\n",
      "1937.3464999999999\n",
      "save:  6100\n",
      "826.9115\n",
      "save:  6200\n",
      "1113.938\n",
      "save:  6300\n",
      "1741.2955000000002\n",
      "save:  6400\n",
      "1132.9115000000002\n",
      "save:  6500\n",
      "1014.9725\n",
      "save:  6600\n",
      "1889.7480000000003\n",
      "save:  6700\n",
      "1422.8020000000001\n",
      "save:  6800\n",
      "2171.6305\n",
      "save:  6900\n",
      "2770.8794999999996\n",
      "save:  7000\n",
      "1489.9085000000005\n",
      "save:  7100\n",
      "1622.5770000000005\n",
      "save:  7200\n",
      "1542.9265000000003\n",
      "save:  7300\n",
      "2776.388\n",
      "save:  7400\n",
      "3840.3725\n",
      "save:  7500\n",
      "2306.5820000000003\n",
      "save:  7600\n",
      "1572.1825000000003\n",
      "save:  7700\n",
      "2348.0640000000003\n",
      "save:  7800\n",
      "1274.2805\n",
      "save:  7900\n",
      "1518.0180000000005\n",
      "save:  8000\n",
      "1726.9325000000003\n",
      "save:  8100\n",
      "2170.0615\n",
      "save:  8200\n",
      "2120.1470000000004\n",
      "save:  8300\n",
      "1985.2230000000004\n",
      "save:  8400\n",
      "2530.8215000000005\n",
      "save:  8500\n",
      "2958.4894999999988\n",
      "save:  8600\n",
      "3334.7215\n",
      "save:  8700\n",
      "3156.0105\n",
      "save:  8800\n",
      "2130.3700000000003\n",
      "save:  8900\n",
      "3111.383\n",
      "save:  9000\n",
      "2940.7290000000003\n",
      "save:  9100\n",
      "3389.065\n",
      "save:  9200\n",
      "2874.6810000000005\n",
      "save:  9300\n",
      "1861.9895000000001\n",
      "save:  9400\n",
      "2751.2385000000004\n",
      "save:  9500\n",
      "2871.447\n",
      "save:  9600\n",
      "2983.0875\n",
      "save:  9700\n",
      "3087.0295\n",
      "save:  9800\n",
      "2851.9875\n",
      "save:  9900\n"
     ]
    }
   ],
   "source": [
    "i = 0\n",
    "total_reward = []\n",
    "total_lenght = []\n",
    "\n",
    "action_space = 5\n",
    "n_agent = len(env.get_team_blue)\n",
    "\n",
    "gradBuffer = sess.run(tf.trainable_variables())\n",
    "for ix,grad in enumerate(gradBuffer):\n",
    "    gradBuffer[ix] = grad * 0\n",
    "    \n",
    "while i < total_episodes:\n",
    "    s = env.reset(map_size=20, render_mode='env', policy_red=policy_red)\n",
    "    running_reward = 0\n",
    "    ep_history = []\n",
    "    for j in range(max_ep):\n",
    "        observation = one_hot_encoder(s, env.get_team_blue).tolist()\n",
    "        a = sess.run(myAgent.output, feed_dict={myAgent.state_input:observation})\n",
    "        #Probabilistically pick an action given our network outputs.\n",
    "        a = [np.random.choice(action_space, p=a[x]/sum(a[x])) for x in range(n_agent)] # divide by sum : normalize\n",
    "        \n",
    "        s1,r,d,_ = env.step(a) #Get our reward for taking an action given a bandit.\n",
    "        \n",
    "        # Rendering\n",
    "        #env.render(mode=\"fast\")\n",
    "        #time.sleep(0.05)\n",
    "        \n",
    "        for obs, act in zip(observation, a):\n",
    "            ep_history.append([obs,act,r,s1])\n",
    "        s = s1\n",
    "        running_reward += r\n",
    "        if d == True:\n",
    "            #Update the network.\n",
    "            ep_history = np.array(ep_history)\n",
    "            ep_history[:,2] = discount_rewards(ep_history[:,2])\n",
    "            feed_dict={myAgent.reward_holder:ep_history[:,2],\n",
    "                       myAgent.action_holder:ep_history[:,1],\n",
    "                       myAgent.state_input:np.stack(ep_history[:,0])}\n",
    "            grads = sess.run(myAgent.gradients, feed_dict=feed_dict)\n",
    "            for idx,grad in enumerate(grads):\n",
    "                gradBuffer[idx] += grad\n",
    "\n",
    "            if i % update_frequency == 0 and i != 0:\n",
    "                feed_dict= dictionary = dict(zip(myAgent.gradient_holders, gradBuffer))\n",
    "                _ = sess.run(myAgent.update_batch, feed_dict=feed_dict)\n",
    "                for ix,grad in enumerate(gradBuffer):\n",
    "                    gradBuffer[ix] = grad * 0\n",
    "\n",
    "            total_reward.append(running_reward)\n",
    "            total_lenght.append(j)\n",
    "            break\n",
    "\n",
    "\n",
    "        #Update our running tally of scores.\n",
    "    if i % 100 == 0:\n",
    "        print(np.mean(total_reward[-100:]))\n",
    "        saver.save(sess, './model/ctf_policy.ckpt', global_step=global_step)\n",
    "        print(\"save: \", sess.run(global_step))\n",
    "    i += 1\n",
    "    sess.run(increment_global_step_op)"
   ]
  },
  {
   "cell_type": "code",
   "execution_count": null,
   "metadata": {},
   "outputs": [],
   "source": []
  }
 ],
 "metadata": {
  "kernelspec": {
   "display_name": "Python 3",
   "language": "python",
   "name": "python3"
  },
  "language_info": {
   "codemirror_mode": {
    "name": "ipython",
    "version": 3
   },
   "file_extension": ".py",
   "mimetype": "text/x-python",
   "name": "python",
   "nbconvert_exporter": "python",
   "pygments_lexer": "ipython3",
   "version": "3.6.4"
  }
 },
 "nbformat": 4,
 "nbformat_minor": 2
}
