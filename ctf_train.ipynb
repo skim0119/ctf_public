{
 "cells": [
  {
   "cell_type": "markdown",
   "metadata": {},
   "source": [
    "# Capture the Flag (RL - Policy Gradient)\n",
    "\n",
    "- Seung Hyun Kim\n",
    "- skim449@illinois.edu\n",
    "\n",
    "## Notes\n",
    "- This notebook includes:\n",
    "    - Building the structure of policy driven network.\n",
    "    - Training with/without render\n",
    "    - Saver that save model and weights to ./model directory\n",
    "    - Writer that will record some necessary datas to ./logs\n",
    "- This notebook does not include running the CtF game with the RL policy. Using the network will be separately scripted in policy/policy_RL1.py.\n",
    "    - cap_test.py is changed appropriately.\n",
    "    \n",
    "## References :\n",
    "- https://github.com/awjuliani/DeepRL-Agents/blob/master/Vanilla-Policy.ipynb (source)\n",
    "- https://www.youtube.com/watch?v=PDbXPBwOavc"
   ]
  },
  {
   "cell_type": "code",
   "execution_count": 1,
   "metadata": {},
   "outputs": [
    {
     "name": "stderr",
     "output_type": "stream",
     "text": [
      "/Users/skim0119/anaconda3/envs/ctf/lib/python3.6/importlib/_bootstrap.py:219: RuntimeWarning: compiletime version 3.5 of module 'tensorflow.python.framework.fast_tensor_util' does not match runtime version 3.6\n",
      "  return f(*args, **kwds)\n"
     ]
    }
   ],
   "source": [
    "import tensorflow as tf\n",
    "import tensorflow.contrib.slim as slim\n",
    "import matplotlib.pyplot as plt\n",
    "%matplotlib inline\n",
    "\n",
    "import time\n",
    "import gym\n",
    "import gym_cap\n",
    "import gym_cap.envs.const as CONST\n",
    "import numpy as np\n",
    "\n",
    "# the modules that you can use to generate the policy.\n",
    "import policy.patrol \n",
    "import policy.random\n",
    "import policy.simple # custon written policy\n",
    "import policy.policy_RL"
   ]
  },
  {
   "cell_type": "markdown",
   "metadata": {},
   "source": [
    "## Environment Setting"
   ]
  },
  {
   "cell_type": "code",
   "execution_count": 2,
   "metadata": {},
   "outputs": [
    {
     "name": "stdout",
     "output_type": "stream",
     "text": [
      "\u001b[33mWARN: Environment '<class 'gym_cap.envs.cap_env.CapEnvGenerate'>' has deprecated methods. Compatibility code invoked.\u001b[0m\n"
     ]
    }
   ],
   "source": [
    "env = gym.make(\"cap-v0\") # initialize the environment\n",
    "policy_red = policy.random.PolicyGen(env.get_map, env.get_team_red)\n",
    "\n",
    "UNKNOWN  = CONST.UNKNOWN # -1\n",
    "TEAM1_BG = CONST.TEAM1_BACKGROUND # 0\n",
    "TEAM2_BG = CONST.TEAM2_BACKGROUND # 1\n",
    "TEAM1_AG = CONST.TEAM1_UGV # 2\n",
    "TEAM2_AG = CONST.TEAM2_UGV # 4\n",
    "TEAM1_FL = CONST.TEAM1_FLAG # 6\n",
    "TEAM2_FL = CONST.TEAM2_FLAG # 7\n",
    "OBSTACLE = CONST.OBSTACLE # 8\n",
    "DEAD     = CONST.DEAD # 9\n",
    "SELECTED = CONST.SELECTED # 10\n",
    "COMPLETED= CONST.COMPLETED # 11\n",
    "\n",
    "VISION_RANGE = CONST.UGV_RANGE\n",
    "VISION_dX    = 2*VISION_RANGE+1\n",
    "VISION_dY    = 2*VISION_RANGE+1"
   ]
  },
  {
   "cell_type": "markdown",
   "metadata": {},
   "source": [
    "## Discount Reward"
   ]
  },
  {
   "cell_type": "code",
   "execution_count": 3,
   "metadata": {},
   "outputs": [],
   "source": [
    "gamma = 0.97\n",
    "\n",
    "def discount_rewards(r):\n",
    "    \"\"\" take 1D float array of rewards and compute discounted reward \"\"\"\n",
    "    discounted_r = np.zeros_like(r)\n",
    "    running_add = 0.0\n",
    "    for t in reversed(range(r.size)):\n",
    "        running_add = running_add * gamma + r[t]\n",
    "        discounted_r[t] = running_add\n",
    "    return discounted_r\n",
    "\n",
    "def discount_rewards_multiagent(r, n_agents):\n",
    "    discounted_r = np.reshape(r,(-1,n_agents)) # Reshape the r into vertical matrix with 'n_agents' columns\n",
    "    for idx in range(n_agents):\n",
    "        column = discounted_r[:,idx]                     # extract single column\n",
    "        discounted_r[:,idx] = discount_rewards(column);  # Run discount_reward on the column, and substitute\n",
    "    return np.reshape(discounted_r,(-1))                 # return the flattened matrix"
   ]
  },
  {
   "cell_type": "markdown",
   "metadata": {},
   "source": [
    "## Network Setting"
   ]
  },
  {
   "cell_type": "code",
   "execution_count": 4,
   "metadata": {},
   "outputs": [],
   "source": [
    "class agent():\n",
    "    def __init__(self, lr, in_size,action_size):\n",
    "        #These lines established the feed-forward part of the network. The agent takes a state and produces an action.\n",
    "        self.state_input = tf.placeholder(shape=in_size,dtype=tf.float32, name='state')\n",
    "        conv1 = slim.conv2d(self.state_input, 64, [3,3],# activation_fn=tf.nn.relu,\n",
    "                            scope='conv1')\n",
    "        conv2 = slim.conv2d(conv1, 128, [2,2],# activation_fn=tf.nn.relu,\n",
    "                            scope='conv2')\n",
    "        flat  = tf.reshape(conv2, [-1, VISION_dX*VISION_dY*128])#slim.flatten(conv2)\n",
    "        \n",
    "        dense = slim.fully_connected(flat, action_size,\n",
    "                                            #activation_fn=tf.nn.relu,\n",
    "                                            biases_initializer=None)\n",
    "        self.output = tf.nn.softmax(dense, name='action')\n",
    "        #self.chosen_action = tf.argmax(self.output,1, name='action')\n",
    "\n",
    "        #The next six lines establish the training proceedure. We feed the reward and chosen action into the network\n",
    "        #to compute the loss, and use it to update the network.\n",
    "\n",
    "        self.action_holder = tf.placeholder(shape=[None],dtype=tf.int32)\n",
    "        self.indexes = tf.range(0, tf.shape(self.output)[0]) * tf.shape(self.output)[1] + self.action_holder\n",
    "\n",
    "        with tf.name_scope('loss'):\n",
    "            self.reward_holder = tf.placeholder(shape=[None],dtype=tf.float32)\n",
    "            self.responsible_outputs = tf.gather(tf.reshape(self.output, [-1]), self.indexes)\n",
    "            self.loss = -tf.reduce_mean(tf.log(self.responsible_outputs)*self.reward_holder)\n",
    "            tf.summary.scalar('loss', self.loss)\n",
    "            \n",
    "        tvars = tf.trainable_variables()\n",
    "        self.gradient_holders = []\n",
    "        for idx,var in enumerate(tvars):\n",
    "            placeholder = tf.placeholder(tf.float32,name=str(idx)+'_holder')\n",
    "            self.gradient_holders.append(placeholder)\n",
    "        \n",
    "        self.gradients = tf.gradients(self.loss,tvars)\n",
    "    \n",
    "        optimizer = tf.train.AdamOptimizer(learning_rate=lr)\n",
    "        self.update_batch = optimizer.apply_gradients(zip(self.gradient_holders,tvars))"
   ]
  },
  {
   "cell_type": "code",
   "execution_count": 5,
   "metadata": {},
   "outputs": [
    {
     "name": "stderr",
     "output_type": "stream",
     "text": [
      "/Users/skim0119/anaconda3/envs/ctf/lib/python3.6/site-packages/tensorflow/python/ops/gradients_impl.py:108: UserWarning: Converting sparse IndexedSlices to a dense Tensor of unknown shape. This may consume a large amount of memory.\n",
      "  \"Converting sparse IndexedSlices to a dense Tensor of unknown shape. \"\n"
     ]
    }
   ],
   "source": [
    "tf.reset_default_graph() # Clear the Tensorflow graph.\n",
    "myAgent = agent(lr=1e-4,in_size=[None,VISION_dX,VISION_dY,6],action_size=5) #Load the agent.\n",
    "global_step = tf.Variable(0, trainable=False, name='global_step') # global step\n",
    "increment_global_step_op = tf.assign(global_step, global_step+1)\n",
    "merged = tf.summary.merge_all()"
   ]
  },
  {
   "cell_type": "markdown",
   "metadata": {},
   "source": [
    "## Hyperparameters"
   ]
  },
  {
   "cell_type": "code",
   "execution_count": 6,
   "metadata": {},
   "outputs": [],
   "source": [
    "total_episodes = 100000 #Set total number of episodes to train agent on.\n",
    "max_ep = 999\n",
    "update_frequency = 5\n",
    "save_frequency = 100\n",
    "\n",
    "exploration_final = 0.01\n",
    "exploration = 1.0\n",
    "exploration_decay = 0.99"
   ]
  },
  {
   "cell_type": "markdown",
   "metadata": {},
   "source": [
    "## Session"
   ]
  },
  {
   "cell_type": "code",
   "execution_count": 7,
   "metadata": {
    "scrolled": true
   },
   "outputs": [
    {
     "name": "stdout",
     "output_type": "stream",
     "text": [
      "Initialized Variables\n"
     ]
    }
   ],
   "source": [
    "# Launch the session\n",
    "sess = tf.Session()\n",
    "\n",
    "total_reward = []\n",
    "total_length = []\n",
    "\n",
    "# Setup Save and Restore Network\n",
    "saver = tf.train.Saver(tf.global_variables())\n",
    "\n",
    "writer = tf.summary.FileWriter('./logs', sess.graph)\n",
    "\n",
    "ckpt = tf.train.get_checkpoint_state('./model')\n",
    "if ckpt and tf.train.checkpoint_exists(ckpt.model_checkpoint_path):\n",
    "    saver.restore(sess, ckpt.model_checkpoint_path)\n",
    "    print(\"Load Model : \", ckpt.model_checkpoint_path)\n",
    "else:\n",
    "    sess.run(tf.global_variables_initializer())\n",
    "    print(\"Initialized Variables\")"
   ]
  },
  {
   "cell_type": "code",
   "execution_count": 8,
   "metadata": {},
   "outputs": [],
   "source": [
    "def one_hot_encoder(state, agents):\n",
    "    ret = np.zeros((len(agents),VISION_dX,VISION_dY,6))\n",
    "    # team 1 : (1), team 2 : (-1), map elements: (0)\n",
    "    map_channel = {UNKNOWN:0, DEAD:0,\n",
    "                   TEAM1_BG:1, TEAM2_BG:1,\n",
    "                   TEAM1_AG:2, TEAM2_AG:2,\n",
    "                   3:3, 5:3, # UAV, does not need to be included for now\n",
    "                   TEAM1_FL:4, TEAM2_FL:4,\n",
    "                   OBSTACLE:5}\n",
    "    map_color   = {UNKNOWN:0, DEAD:0, OBSTACLE:0,\n",
    "                   TEAM1_BG:1, TEAM2_BG:-1,\n",
    "                   TEAM1_AG:1, TEAM2_AG:-1,\n",
    "                   3:1, 5:-1, # UAV, does not need to be included for now\n",
    "                   TEAM1_FL:1, TEAM2_FL:-1}\n",
    "    \n",
    "    # Expand the observation with 3-thickness wall\n",
    "    # - in order to avoid dealing with the boundary\n",
    "    sx, sy = state.shape\n",
    "    _state = np.ones((sx+2*VISION_RANGE, sy+2*VISION_RANGE)) * OBSTACLE # 8 for obstacle\n",
    "    _state[VISION_RANGE:VISION_RANGE+sx, VISION_RANGE:VISION_RANGE+sy] = state\n",
    "    state = _state\n",
    "\n",
    "    for idx,agent in enumerate(agents):\n",
    "        # Initialize Variables\n",
    "        x, y = agent.get_loc()\n",
    "        x += VISION_RANGE\n",
    "        y += VISION_RANGE\n",
    "        vision = state[x-VISION_RANGE:x+VISION_RANGE+1,y-VISION_RANGE:y+VISION_RANGE+1] # extract the limited view for the agent (5x5)\n",
    "        for i in range(len(vision)):\n",
    "            for j in range(len(vision[0])):\n",
    "                if vision[i][j] != -1:\n",
    "                    channel = map_channel[vision[i][j]]\n",
    "                    ret[idx][i][j][channel] = map_color[vision[i][j]]\n",
    "    return ret"
   ]
  },
  {
   "cell_type": "markdown",
   "metadata": {},
   "source": [
    "## Training"
   ]
  },
  {
   "cell_type": "code",
   "execution_count": null,
   "metadata": {
    "scrolled": false
   },
   "outputs": [
    {
     "name": "stdout",
     "output_type": "stream",
     "text": [
      "     0/100000 [.....] - ETA: 0s Last 100 Average reward :  119.19999999999999 0.99\n",
      "save:  0\n",
      "   100/100000 [.....] - ETA: 40:46:52 Last 100 Average reward :  102.81141304347828 0.36237201786049694\n",
      "save:  100\n",
      "   200/100000 [.....] - ETA: 44:15:53 Last 100 Average reward :  105.25200000000001 0.13263987810938213\n",
      "save:  200\n",
      "   300/100000 [.....] - ETA: 46:36:41 Last 100 Average reward :  101.4815 0.0485504851305729\n",
      "save:  300\n",
      "   400/100000 [.....] - ETA: 47:53:40 Last 100 Average reward :  101.67550000000001 0.017771047742294682\n",
      "save:  400\n",
      "   500/100000 [.....] - ETA: 47:08:49 Last 100 Average reward :  100.00650000000002 0.01\n",
      "save:  500\n",
      "   600/100000 [.....] - ETA: 47:21:32 Last 100 Average reward :  96.43899999999998 0.01\n",
      "save:  600\n",
      "   700/100000 [.....] - ETA: 48:11:43 Last 100 Average reward :  90.95299999999999 0.01\n",
      "save:  700\n",
      "   800/100000 [.....] - ETA: 50:19:17 Last 100 Average reward :  87.87199999999999 0.01\n",
      "save:  800\n",
      "   900/100000 [.....] - ETA: 50:40:50 Last 100 Average reward :  89.13400000000001 0.01\n",
      "save:  900\n",
      "  1000/100000 [.....] - ETA: 50:16:12 Last 100 Average reward :  95.59200000000001 0.01\n",
      "save:  1000\n",
      "  1100/100000 [.....] - ETA: 49:35:28 Last 100 Average reward :  90.21150000000002 0.01\n",
      "save:  1100\n",
      "  1200/100000 [.....] - ETA: 48:27:00 Last 100 Average reward :  86.01899999999999 0.01\n",
      "save:  1200\n",
      "  1300/100000 [.....] - ETA: 48:28:28 Last 100 Average reward :  87.91149999999999 0.01\n",
      "save:  1300\n",
      "  1400/100000 [.....] - ETA: 47:49:52 Last 100 Average reward :  74.13399999999999 0.01\n",
      "save:  1400\n",
      "  1500/100000 [.....] - ETA: 47:11:20 Last 100 Average reward :  71.96350000000001 0.01\n",
      "save:  1500\n",
      "  1600/100000 [.....] - ETA: 47:04:12 Last 100 Average reward :  60.55499999999999 0.01\n",
      "save:  1600\n",
      "  1700/100000 [.....] - ETA: 46:11:52 Last 100 Average reward :  76.142 0.01\n",
      "save:  1700\n",
      "  1800/100000 [.....] - ETA: 45:35:07 Last 100 Average reward :  67.477 0.01\n",
      "save:  1800\n",
      "  1900/100000 [.....] - ETA: 45:03:25 Last 100 Average reward :  67.0555 0.01\n",
      "save:  1900\n",
      "  2000/100000 [.....] - ETA: 45:00:49 Last 100 Average reward :  52.24599999999999 0.01\n",
      "save:  2000\n",
      "  2100/100000 [.....] - ETA: 44:42:58 Last 100 Average reward :  46.70700000000001 0.01\n",
      "save:  2100\n",
      "  2200/100000 [.....] - ETA: 53:01:40 Last 100 Average reward :  42.32899999999999 0.01\n",
      "save:  2200\n",
      "  2300/100000 [.....] - ETA: 52:38:01 Last 100 Average reward :  52.541 0.01\n",
      "save:  2300\n",
      "  2400/100000 [.....] - ETA: 52:17:06 Last 100 Average reward :  52.422 0.01\n",
      "save:  2400\n",
      "  2500/100000 [.....] - ETA: 52:23:56 Last 100 Average reward :  45.9565 0.01\n",
      "save:  2500\n",
      "  2600/100000 [.....] - ETA: 52:17:02 Last 100 Average reward :  50.957 0.01\n",
      "save:  2600\n",
      "  2700/100000 [.....] - ETA: 52:04:56 Last 100 Average reward :  43.393 0.01\n",
      "save:  2700\n",
      "  2800/100000 [.....] - ETA: 51:53:59 Last 100 Average reward :  46.626000000000005 0.01\n",
      "save:  2800\n",
      "  2900/100000 [.....] - ETA: 51:18:39 Last 100 Average reward :  52.007 0.01\n",
      "save:  2900\n",
      "  3000/100000 [.....] - ETA: 51:25:25 Last 100 Average reward :  36.50599999999999 0.01\n",
      "save:  3000\n",
      "  3100/100000 [.....] - ETA: 50:54:55 Last 100 Average reward :  63.323499999999996 0.01\n",
      "save:  3100\n",
      "  3200/100000 [.....] - ETA: 50:37:30 Last 100 Average reward :  52.522499999999994 0.01\n",
      "save:  3200\n",
      "  3300/100000 [.....] - ETA: 53:49:06 Last 100 Average reward :  44.92849999999999 0.01\n",
      "save:  3300\n",
      "  3400/100000 [.....] - ETA: 53:38:37 Last 100 Average reward :  44.792 0.01\n",
      "save:  3400\n",
      "  3500/100000 [.....] - ETA: 53:26:10 Last 100 Average reward :  59.586499999999994 0.01\n",
      "save:  3500\n",
      "  3600/100000 [.....] - ETA: 53:16:41 Last 100 Average reward :  41.078500000000005 0.01\n",
      "save:  3600\n",
      "  3700/100000 [.....] - ETA: 53:16:43 Last 100 Average reward :  46.522499999999994 0.01\n",
      "save:  3700\n",
      "  3800/100000 [.....] - ETA: 53:29:31 Last 100 Average reward :  37.43000000000001 0.01\n",
      "save:  3800\n",
      "  3900/100000 [.....] - ETA: 53:20:31 Last 100 Average reward :  57.83949999999999 0.01\n",
      "save:  3900\n",
      "  4000/100000 [.....] - ETA: 53:13:20 Last 100 Average reward :  52.24799999999999 0.01\n",
      "save:  4000\n",
      "  4100/100000 [.....] - ETA: 53:14:45 Last 100 Average reward :  46.336499999999994 0.01\n",
      "save:  4100\n",
      "  4200/100000 [.....] - ETA: 53:03:38 Last 100 Average reward :  53.5345 0.01\n",
      "save:  4200\n",
      "  4300/100000 [.....] - ETA: 54:37:06 Last 100 Average reward :  55.50399999999999 0.01\n",
      "save:  4300\n",
      "  4400/100000 [.....] - ETA: 54:20:47 Last 100 Average reward :  52.69000000000001 0.01\n",
      "save:  4400\n",
      "  4500/100000 [.....] - ETA: 53:50:25 Last 100 Average reward :  57.90199999999999 0.01\n",
      "save:  4500\n",
      "  4600/100000 [.....] - ETA: 53:27:28 Last 100 Average reward :  61.415 0.01\n",
      "save:  4600\n",
      "  4700/100000 [.....] - ETA: 53:11:34 Last 100 Average reward :  51.53000000000001 0.01\n",
      "save:  4700\n",
      "  4800/100000 [.....] - ETA: 53:02:22 Last 100 Average reward :  44.78000000000001 0.01\n",
      "save:  4800\n",
      "  4900/100000 [.....] - ETA: 52:47:21 Last 100 Average reward :  42.894000000000005 0.01\n",
      "save:  4900\n",
      "  5000/100000 [.....] - ETA: 52:36:44 Last 100 Average reward :  43.77449999999999 0.01\n",
      "save:  5000\n",
      "  5100/100000 [.....] - ETA: 52:31:06 Last 100 Average reward :  31.08 0.01\n",
      "save:  5100\n",
      "  5200/100000 [.....] - ETA: 52:34:19 Last 100 Average reward :  32.8715 0.01\n",
      "save:  5200\n",
      "  5300/100000 [.....] - ETA: 52:34:57 Last 100 Average reward :  40.2645 0.01\n",
      "save:  5300\n",
      "  5400/100000 [.....] - ETA: 52:27:14 Last 100 Average reward :  49.881 0.01\n",
      "save:  5400\n",
      "  5500/100000 [.....] - ETA: 52:12:18 Last 100 Average reward :  65.848 0.01\n",
      "save:  5500\n",
      "  5540/100000 [.....] - ETA: 52:06:32"
     ]
    }
   ],
   "source": [
    "i = 0\n",
    "\n",
    "action_space = 5\n",
    "n_agent = len(env.get_team_blue)\n",
    "\n",
    "gradBuffer = sess.run(tf.trainable_variables())\n",
    "for ix,grad in enumerate(gradBuffer):\n",
    "    gradBuffer[ix] = grad * 0\n",
    "try:\n",
    "    progbar = tf.keras.utils.Progbar(total_episodes,width=5)\n",
    "    while i < total_episodes:\n",
    "        progbar.update(i) # update progress bar\n",
    "        s = env.reset(map_size=20, policy_red=policy_red) #, render_mode='env')\n",
    "        prev_reward=0\n",
    "        running_reward = 0\n",
    "        ep_history = []\n",
    "        for j in range(max_ep):\n",
    "            obs = one_hot_encoder(s, env.get_team_blue).tolist() # observation\n",
    "            if exploration > np.random.random(): # explorate\n",
    "                a = np.random.randint(action_space, size=len(env.get_team_blue)).tolist()\n",
    "            else:\n",
    "                obs = one_hot_encoder(s, env.get_team_blue).tolist()\n",
    "                a = sess.run(myAgent.output, feed_dict={myAgent.state_input:obs})\n",
    "                #Probabilistically pick an action given our network outputs.\n",
    "                a = [np.random.choice(action_space, p=a[x]/sum(a[x])) for x in range(n_agent)] # divide by sum : normalize\n",
    "            s1,r_a,d,_ = env.step(a) #Get our reward for taking an action given a bandit.\n",
    "\n",
    "            # Rendering\n",
    "            #env.render(mode=\"fast\")\n",
    "            #time.sleep(0.05)\n",
    "\n",
    "            r = r_a-prev_reward # immediate reward\n",
    "            prev_reward = r_a\n",
    "\n",
    "            for state, act in zip(obs, a):\n",
    "                ep_history.append([state,act,r,s1])\n",
    "            s = s1\n",
    "            running_reward += r\n",
    "            if d == True or r > 0:\n",
    "                #Update the network.\n",
    "                ep_history = np.array(ep_history)\n",
    "                ep_history[:,2] = discount_rewards_multiagent(ep_history[:,2], len(env.get_team_blue))\n",
    "                #ep_history[:,2] = discount_rewards(ep_history[:,2])\n",
    "                feed_dict={myAgent.reward_holder:ep_history[:,2],\n",
    "                           myAgent.action_holder:ep_history[:,1],\n",
    "                           myAgent.state_input:np.stack(ep_history[:,0])}\n",
    "                grads = sess.run(myAgent.gradients, feed_dict=feed_dict)\n",
    "                for idx,grad in enumerate(grads):\n",
    "                    gradBuffer[idx] += grad\n",
    "\n",
    "                if i % update_frequency == 0 and i != 0:\n",
    "                    feed_dict= dictionary = dict(zip(myAgent.gradient_holders, gradBuffer))\n",
    "                    _ = sess.run(myAgent.update_batch, feed_dict=feed_dict)\n",
    "                    for ix,grad in enumerate(gradBuffer):\n",
    "                        gradBuffer[ix] = grad * 0\n",
    "\n",
    "                total_reward.append(running_reward)\n",
    "                total_length.append(j)\n",
    "                if d == True:\n",
    "                    break\n",
    "\n",
    "        exploration = max(exploration_decay*exploration, exploration_final)\n",
    "            #Update our running tally of scores.\n",
    "        if i % save_frequency == 0:\n",
    "            print(' Average r : ', np.mean(total_reward[-100:]), exploration)\n",
    "            saver.save(sess, './model/ctf_policy.ckpt', global_step=global_step)\n",
    "            print(\"save: \", sess.run(global_step))\n",
    "\n",
    "        i += 1\n",
    "        sess.run(increment_global_step_op)\n",
    "except KeyboardInterrupt:\n",
    "    print('\\n\\nManually stopped the training (KeyboardInterrupt)');\n",
    "    plt.plot(total_reward)\n",
    "    plt.figure()\n",
    "    plt.plot(total_length)\n",
    "    saver.save(sess, './model/ctf_policy.ckpt', global_step=global_step)\n",
    "    print(\"save: \", sess.run(global_step), 'episodes')"
   ]
  },
  {
   "cell_type": "code",
   "execution_count": null,
   "metadata": {},
   "outputs": [],
   "source": [
    "obs = one_hot_encoder(s, env.get_team_blue)\n",
    "print(sess.run(myAgent.output, feed_dict={myAgent.state_input:obs}))"
   ]
  },
  {
   "cell_type": "code",
   "execution_count": null,
   "metadata": {},
   "outputs": [],
   "source": [
    "obs = one_hot_encoder(s, env.get_team_blue)\n",
    "for i in range(len(env.get_team_blue)):\n",
    "    sub_obs = np.stack([obs[i,:,:,:]])\n",
    "    print(sess.run(myAgent.output, feed_dict={myAgent.state_input:sub_obs}))"
   ]
  },
  {
   "cell_type": "code",
   "execution_count": null,
   "metadata": {},
   "outputs": [],
   "source": []
  }
 ],
 "metadata": {
  "kernelspec": {
   "display_name": "Python 3",
   "language": "python",
   "name": "python3"
  },
  "language_info": {
   "codemirror_mode": {
    "name": "ipython",
    "version": 3
   },
   "file_extension": ".py",
   "mimetype": "text/x-python",
   "name": "python",
   "nbconvert_exporter": "python",
   "pygments_lexer": "ipython3",
   "version": "3.6.4"
  }
 },
 "nbformat": 4,
 "nbformat_minor": 2
}
