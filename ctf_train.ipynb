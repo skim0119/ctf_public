{
 "cells": [
  {
   "cell_type": "markdown",
   "metadata": {},
   "source": [
    "# Capture the Flag (RL - Policy Gradient)\n",
    "\n",
    "- Seung Hyun Kim\n",
    "- skim449@illinois.edu\n",
    "\n",
    "## Notes\n",
    "- This notebook includes:\n",
    "    - Building the structure of policy driven network.\n",
    "    - Training with/without render\n",
    "    - Saver that save model and weights to ./model directory\n",
    "    - Writer that will record some necessary datas to ./logs\n",
    "- This notebook does not include running the CtF game with the RL policy. Using the network will be separately scripted in policy/policy_RL1.py.\n",
    "    - cap_test.py is changed appropriately.\n",
    "    \n",
    "## References :\n",
    "- https://github.com/awjuliani/DeepRL-Agents/blob/master/Vanilla-Policy.ipynb (source)\n",
    "- https://www.youtube.com/watch?v=PDbXPBwOavc"
   ]
  },
  {
   "cell_type": "code",
   "execution_count": 1,
   "metadata": {},
   "outputs": [],
   "source": [
    "TRAIN_NAME='NO_RED_01_CTRL'\n",
    "LOG_PATH='./logs/'+TRAIN_NAME\n",
    "MODEL_PATH='./model/' + TRAIN_NAME\n",
    "GPU_CAPACITY=0.25 # gpu capacity in percentage"
   ]
  },
  {
   "cell_type": "code",
   "execution_count": 2,
   "metadata": {},
   "outputs": [
    {
     "name": "stdout",
     "output_type": "stream",
     "text": [
      "pygame 1.9.4\n",
      "Hello from the pygame community. https://www.pygame.org/contribute.html\n"
     ]
    }
   ],
   "source": [
    "import os\n",
    "\n",
    "import tensorflow as tf\n",
    "import tensorflow.contrib.slim as slim\n",
    "import matplotlib.pyplot as plt\n",
    "%matplotlib inline\n",
    "\n",
    "import time\n",
    "import gym\n",
    "import gym_cap\n",
    "import gym_cap.envs.const as CONST\n",
    "import numpy as np\n",
    "import random\n",
    "\n",
    "# the modules that you can use to generate the policy.\n",
    "import policy.patrol \n",
    "import policy.random\n",
    "import policy.simple # custon written policy\n",
    "import policy.policy_RL\n",
    "import policy.zeros\n",
    "\n",
    "# Data Processing Module\n",
    "from DataModule import one_hot_encoder, VISION_dX, VISION_dY"
   ]
  },
  {
   "cell_type": "markdown",
   "metadata": {},
   "source": [
    "## Environment Setting"
   ]
  },
  {
   "cell_type": "code",
   "execution_count": 3,
   "metadata": {},
   "outputs": [],
   "source": [
    "if not os.path.exists(MODEL_PATH):\n",
    "    os.makedirs(MODEL_PATH)\n",
    "    \n",
    "#Create a directory to save episode playback gifs to\n",
    "if not os.path.exists(LOG_PATH):\n",
    "    os.makedirs(LOG_PATH)"
   ]
  },
  {
   "cell_type": "code",
   "execution_count": 4,
   "metadata": {},
   "outputs": [],
   "source": [
    "env = gym.make(\"cap-v0\") # initialize the environment\n",
    "policy_red = policy.random.PolicyGen(env.get_map, env.get_team_red)\n",
    "\n",
    "print('red number : ', len(env.get_team_red))\n",
    "print('blue number : ', len(env.get_team_blue))"
   ]
  },
  {
   "cell_type": "markdown",
   "metadata": {},
   "source": [
    "## Discount Reward"
   ]
  },
  {
   "cell_type": "code",
   "execution_count": 6,
   "metadata": {},
   "outputs": [],
   "source": [
    "gamma = 0.98\n",
    "\n",
    "def discount_rewards(r):\n",
    "    \"\"\" take 1D float array of rewards and compute discounted reward \"\"\"\n",
    "    discounted_r = np.zeros_like(r)\n",
    "    running_add = 0.0\n",
    "    for t in reversed(range(r.size)):\n",
    "        running_add = (running_add * gamma + r[t])\n",
    "        discounted_r[t] = running_add\n",
    "    #discounted_r = (discounted_r - np.mean(discounted_r)) / (np.std(discounted_r)+1e-8) # normalize\n",
    "    return discounted_r"
   ]
  },
  {
   "cell_type": "markdown",
   "metadata": {},
   "source": [
    "## Network Setting"
   ]
  },
  {
   "cell_type": "code",
   "execution_count": 7,
   "metadata": {},
   "outputs": [],
   "source": [
    "class agent():\n",
    "    def __init__(self, lr, in_size,action_size):\n",
    "        #These lines established the feed-forward part of the network. The agent takes a state and produces an action.\n",
    "        self.state_input = tf.placeholder(shape=in_size,dtype=tf.float32, name='state')\n",
    "        \n",
    "        layer = slim.conv2d(self.state_input, 16, [5,5], activation_fn=tf.nn.relu,\n",
    "                            padding='SAME',\n",
    "                            scope='conv1')\n",
    "        #layer = slim.avg_pool2d(layer, [2,2])\n",
    "        layer = slim.conv2d(layer, 16, [3,3], activation_fn=tf.nn.relu,\n",
    "                            padding='SAME',\n",
    "                            scope='conv2')\n",
    "        layer = slim.flatten(layer)\n",
    "        #flat  = tf.reshape(conv, [-1, VISION_dX*VISION_dY*128])\n",
    "        #layer = slim.dropout(layer,keep_prob=0.8)\n",
    "        #layer = slim.fully_connected(layer, 516,\n",
    "        #                            activation_fn=tf.nn.relu,\n",
    "        #                            biases_initializer=None,\n",
    "        #                            scope='hidden_fc1')\n",
    "        layer = slim.dropout(layer,keep_prob=0.8)\n",
    "        layer = slim.fully_connected(layer, 1024,\n",
    "                                    activation_fn=tf.nn.relu,\n",
    "                                    biases_initializer=None)\n",
    "        self.dense = slim.fully_connected(layer, action_size,\n",
    "                                     activation_fn=tf.nn.relu,\n",
    "                                     biases_initializer=None,\n",
    "                                     scope='output_fc')\n",
    "        self.output = tf.nn.softmax(self.dense, name='action')\n",
    "        \n",
    "        tf.summary.histogram('output', self.output)\n",
    "        \n",
    "        with tf.name_scope('weights'):\n",
    "            for var in slim.get_model_variables():\n",
    "                tf.summary.histogram(var.op.name, var)\n",
    "\n",
    "        #The next six lines establish the training proceedure. We feed the reward and chosen action into the network\n",
    "        #to compute the loss, and use it to update the network.\n",
    "    \n",
    "        with tf.name_scope('action_placement'):\n",
    "            self.action_holder = tf.placeholder(shape=[None],dtype=tf.int32)\n",
    "            self.indexes = tf.range(0, tf.shape(self.output)[0]) * tf.shape(self.output)[1] + self.action_holder\n",
    "\n",
    "        with tf.name_scope('loss'):\n",
    "            self.reward_holder = tf.placeholder(shape=[None],dtype=tf.float32)\n",
    "            self.responsible_outputs = tf.gather(tf.reshape(self.output, [-1]), self.indexes)\n",
    "            self.loss = -tf.reduce_mean(tf.log(self.responsible_outputs)*self.reward_holder)\n",
    "\n",
    "        tvars = tf.trainable_variables()\n",
    "        self.gradient_holders = []\n",
    "        for idx,var in enumerate(tvars):\n",
    "            placeholder = tf.placeholder(tf.float32,name=str(idx)+'_holder')\n",
    "            self.gradient_holders.append(placeholder)\n",
    "        \n",
    "        with tf.name_scope('gradients'):\n",
    "            self.gradients = tf.gradients(self.loss,tvars)\n",
    "\n",
    "        with tf.name_scope('optimizer'):\n",
    "            optimizer = tf.train.AdamOptimizer(learning_rate=lr)\n",
    "            self.update_batch = optimizer.apply_gradients(zip(self.gradient_holders,tvars))"
   ]
  },
  {
   "cell_type": "code",
   "execution_count": 8,
   "metadata": {},
   "outputs": [
    {
     "name": "stderr",
     "output_type": "stream",
     "text": [
      "/home/namsong/.local/lib/python3.6/site-packages/tensorflow/python/ops/gradients_impl.py:108: UserWarning: Converting sparse IndexedSlices to a dense Tensor of unknown shape. This may consume a large amount of memory.\n",
      "  \"Converting sparse IndexedSlices to a dense Tensor of unknown shape. \"\n"
     ]
    }
   ],
   "source": [
    "tf.reset_default_graph() # Clear the Tensorflow graph.\n",
    "myAgent = agent(lr=1e-5,in_size=[None,VISION_dX,VISION_dY,6],action_size=5) #Load the agent.\n",
    "global_step = tf.Variable(0, trainable=False, name='global_step') # global step\n",
    "increment_global_step_op = tf.assign(global_step, global_step+1)\n",
    "merged = tf.summary.merge_all()"
   ]
  },
  {
   "cell_type": "markdown",
   "metadata": {},
   "source": [
    "## Hyperparameters"
   ]
  },
  {
   "cell_type": "code",
   "execution_count": 9,
   "metadata": {},
   "outputs": [],
   "source": [
    "# Training Related\n",
    "total_episodes = 20000 #Set total number of episodes to train agent on.\n",
    "max_ep = 150\n",
    "update_frequency = 100\n",
    "batch_size = 2000\n",
    "\n",
    "# Saving Related\n",
    "save_network_frequency = 100\n",
    "save_stat_frequency = 50\n",
    "moving_average_step = 50\n",
    "\n",
    "# Environment Related\n",
    "action_space = 5\n",
    "n_agent = len(env.get_team_blue)"
   ]
  },
  {
   "cell_type": "markdown",
   "metadata": {},
   "source": [
    "## Session"
   ]
  },
  {
   "cell_type": "code",
   "execution_count": 11,
   "metadata": {
    "scrolled": false
   },
   "outputs": [
    {
     "name": "stdout",
     "output_type": "stream",
     "text": [
      "Initialized Variables\n"
     ]
    }
   ],
   "source": [
    "# Launch the session\n",
    "gpu_options = tf.GPUOptions(per_process_gpu_memory_fraction=GPU_CAPACITY)\n",
    "\n",
    "sess = tf.Session(config=tf.ConfigProto(gpu_options=gpu_options))\n",
    "#sess = tf.Session()\n",
    "\n",
    "total_reward = []\n",
    "total_length = []\n",
    "total_captured = []\n",
    "\n",
    "# Setup Save and Restore Network\n",
    "saver = tf.train.Saver(tf.global_variables())\n",
    "writer = tf.summary.FileWriter(LOG_PATH, sess.graph)\n",
    "\n",
    "ckpt = tf.train.get_checkpoint_state(MODEL_PATH)\n",
    "if ckpt and tf.train.checkpoint_exists(ckpt.model_checkpoint_path):\n",
    "    saver.restore(sess, ckpt.model_checkpoint_path)\n",
    "    print(\"Load Model : \", ckpt.model_checkpoint_path)\n",
    "else:\n",
    "    sess.run(tf.global_variables_initializer())\n",
    "    print(\"Initialized Variables\")"
   ]
  },
  {
   "cell_type": "code",
   "execution_count": 12,
   "metadata": {},
   "outputs": [],
   "source": [
    "def record(obs):\n",
    "    with tf.device('/cpu:0'): \n",
    "        summary = tf.Summary()\n",
    "        summary.value.add(tag='Records/mean_reward', simple_value=np.mean(total_reward[-moving_average_step:]))\n",
    "        summary.value.add(tag='Records/mean_length', simple_value=np.mean(total_length[-moving_average_step:]))\n",
    "        summary.value.add(tag='Records/mean_succeed', simple_value=np.mean(total_captured[-moving_average_step:]))\n",
    "        writer.add_summary(summary, sess.run(global_step))\n",
    "        \n",
    "        summary_str = sess.run(merged,feed_dict={myAgent.state_input:obs})\n",
    "        writer.add_summary(summary_str, sess.run(global_step))\n",
    "        \n",
    "        writer.flush()"
   ]
  },
  {
   "cell_type": "code",
   "execution_count": 13,
   "metadata": {},
   "outputs": [],
   "source": [
    "gradBuffer = sess.run(tf.trainable_variables())\n",
    "def clear_buffer():\n",
    "    for ix,grad in enumerate(gradBuffer):\n",
    "        gradBuffer[ix] = grad * 0 #np.zeros(grad.shape)"
   ]
  },
  {
   "cell_type": "code",
   "execution_count": 14,
   "metadata": {},
   "outputs": [],
   "source": [
    "class Experience_buffer():\n",
    "    def __init__(self, buffer_size = 50000):\n",
    "        self.buffer = []\n",
    "        self.buffer_size = buffer_size\n",
    "    \n",
    "    def add(self,experience):\n",
    "        if len(self.buffer) + len(experience) >= self.buffer_size:\n",
    "            self.buffer[0:(len(experience)+len(self.buffer))-self.buffer_size] = []\n",
    "        self.buffer.extend(experience)\n",
    "    \n",
    "    def flush(self):\n",
    "        self.buffer = []\n",
    "        self.buffer_size = 0\n",
    "    \n",
    "    def sample(self, size=2000):\n",
    "        if size > len(self.buffer):\n",
    "            return np.array(self.buffer)\n",
    "        else:\n",
    "            return np.reshape(np.array(random.sample(self.buffer,size)),[size,3])"
   ]
  },
  {
   "cell_type": "code",
   "execution_count": 15,
   "metadata": {},
   "outputs": [],
   "source": [
    "def policy_rollout(env, explore=False):\n",
    "    # Run single episode, return the results (number of frame, history, total reward, game_won, last obs)\n",
    "    s = env.reset(map_size=20, policy_red=policy_red)\n",
    "    ep_history = []\n",
    "    indv_history = [[] for _ in range(len(env.get_team_blue))]\n",
    "    \n",
    "    was_alive = [ag.isAlive for ag in env.get_team_blue]\n",
    "    prev_reward=0\n",
    "    for frame in range(max_ep+1):\n",
    "        #obs = one_hot_encoder(s, env.get_team_blue).tolist() # partial observation\n",
    "        obs = one_hot_encoder(env._env, env.get_team_blue) # Full observation\n",
    "        \n",
    "        if explore:\n",
    "            act = np.random.randint(action_space, size=n_agent).tolist()\n",
    "        else:\n",
    "            with tf.device('/cpu:0'):        \n",
    "                #Probabilistically pick an action given our network outputs.\n",
    "                act_prob = sess.run(myAgent.output, feed_dict={myAgent.state_input:obs})\n",
    "                act = [np.random.choice(action_space, p=act_prob[x]/sum(act_prob[x])) for x in range(n_agent)] # divide by sum : normalize\n",
    "            \n",
    "        s,r,d,_ = env.step(act) #Get our reward for taking an action given a bandit.\n",
    "        \n",
    "        # If frame is at max and the game is still not done, negative reward\n",
    "        if frame == max_ep and d == False:\n",
    "            #r -= frame * (30/150)\n",
    "            r -= 30\n",
    "            \n",
    "        # Push history for individual that 'was' alive previous frame\n",
    "        for idx, agent in enumerate(env.get_team_blue):\n",
    "            if was_alive[idx]: indv_history[idx].append([obs[idx],act[idx],r])\n",
    "\n",
    "        # If reward sequence change, push the history into the episode history.\n",
    "        if prev_reward != r:\n",
    "            for idx, history in enumerate(indv_history):\n",
    "                if len(history)==0: continue\n",
    "                if not was_alive[idx]: continue\n",
    "                _history = np.array(history)\n",
    "                _history[:,2] = discount_rewards(_history[:,2])\n",
    "                ep_history.extend(_history)\n",
    "        \n",
    "        # State Transition\n",
    "        frame += 1\n",
    "        prev_reward = r\n",
    "        was_alive = [ag.isAlive for ag in env.get_team_blue]\n",
    "        \n",
    "        if d == True:\n",
    "            break\n",
    "    if len(ep_history) > 0:        \n",
    "        ep_history = np.stack(ep_history)\n",
    "    \n",
    "    return [frame, ep_history, r, env.game_won, obs]"
   ]
  },
  {
   "cell_type": "markdown",
   "metadata": {},
   "source": [
    "## Training"
   ]
  },
  {
   "cell_type": "code",
   "execution_count": null,
   "metadata": {
    "scrolled": false
   },
   "outputs": [
    {
     "name": "stdout",
     "output_type": "stream",
     "text": [
      " 100/5000 [.....] - ETA: 2:26:51 Average r :  -7.9\n",
      "save weights:  100 episodes\n",
      " 200/5000 [.....] - ETA: 2:27:40 Average r :  -0.1\n",
      "save weights:  200 episodes\n",
      " 300/5000 [.....] - ETA: 2:28:21 Average r :  15.5\n",
      "save weights:  300 episodes\n",
      " 400/5000 [.....] - ETA: 2:27:52 Average r :  10.3\n",
      "save weights:  400 episodes\n",
      " 500/5000 [.....] - ETA: 2:25:10 Average r :  12.9\n",
      "save weights:  500 episodes\n",
      " 600/5000 [.....] - ETA: 2:22:27 Average r :  20.7\n",
      "save weights:  600 episodes\n",
      " 700/5000 [.....] - ETA: 2:20:41 Average r :  18.1\n",
      "save weights:  700 episodes\n",
      " 800/5000 [.....] - ETA: 2:15:49 Average r :  38.9\n",
      "save weights:  800 episodes\n",
      " 900/5000 [.....] - ETA: 2:10:22 Average r :  38.9\n",
      "save weights:  900 episodes\n",
      "1000/5000 [>....] - ETA: 2:05:35 Average r :  42.8\n",
      "save weights:  1000 episodes\n",
      "1100/5000 [>....] - ETA: 2:01:21 Average r :  41.5\n",
      "save weights:  1100 episodes\n",
      "1200/5000 [>....] - ETA: 1:57:09 Average r :  40.2\n",
      "save weights:  1200 episodes\n",
      "1300/5000 [>....] - ETA: 1:52:50 Average r :  42.8\n",
      "save weights:  1300 episodes\n",
      "1400/5000 [>....] - ETA: 1:49:00 Average r :  36.3\n",
      "save weights:  1400 episodes\n",
      "1500/5000 [>....] - ETA: 1:45:32 Average r :  35.0\n",
      "save weights:  1500 episodes\n",
      "1600/5000 [>....] - ETA: 1:41:37 Average r :  40.2\n",
      "save weights:  1600 episodes\n",
      "1700/5000 [>....] - ETA: 1:37:39 Average r :  49.3\n",
      "save weights:  1700 episodes\n",
      "1800/5000 [>....] - ETA: 1:34:25 Average r :  35.0\n",
      "save weights:  1800 episodes\n",
      "1900/5000 [>....] - ETA: 1:31:06 Average r :  35.0\n",
      "save weights:  1900 episodes\n",
      "2000/5000 [=>...] - ETA: 1:27:47 Average r :  36.3\n",
      "save weights:  2000 episodes\n",
      "2100/5000 [=>...] - ETA: 1:24:25 Average r :  40.2\n",
      "save weights:  2100 episodes\n",
      "2200/5000 [=>...] - ETA: 1:21:04 Average r :  42.8\n",
      "save weights:  2200 episodes\n",
      "2300/5000 [=>...] - ETA: 1:17:40 Average r :  41.5\n",
      "save weights:  2300 episodes\n",
      "2400/5000 [=>...] - ETA: 1:14:32 Average r :  32.4\n",
      "save weights:  2400 episodes\n",
      "2500/5000 [=>...] - ETA: 1:11:36 Average r :  27.2\n",
      "save weights:  2500 episodes\n",
      "2600/5000 [=>...] - ETA: 1:08:33 Average r :  32.4\n",
      "save weights:  2600 episodes\n",
      "2700/5000 [=>...] - ETA: 1:05:38 Average r :  28.5\n",
      "save weights:  2700 episodes\n",
      "2800/5000 [=>...] - ETA: 1:02:37 Average r :  29.8\n",
      "save weights:  2800 episodes\n",
      "2900/5000 [=>...] - ETA: 59:41 Average r :  28.5\n",
      "save weights:  2900 episodes\n",
      "3000/5000 [==>..] - ETA: 56:46 Average r :  33.7\n",
      "save weights:  3000 episodes\n",
      "3100/5000 [==>..] - ETA: 53:47 Average r :  33.7\n",
      "save weights:  3100 episodes\n",
      "3200/5000 [==>..] - ETA: 50:50 Average r :  29.8\n",
      "save weights:  3200 episodes\n",
      "3300/5000 [==>..] - ETA: 47:57 Average r :  31.1\n",
      "save weights:  3300 episodes\n",
      "3400/5000 [==>..] - ETA: 45:10 Average r :  19.4\n",
      "save weights:  3400 episodes\n",
      "3500/5000 [==>..] - ETA: 42:19 Average r :  27.2\n",
      "save weights:  3500 episodes\n",
      "3600/5000 [==>..] - ETA: 39:29 Average r :  25.9\n",
      "save weights:  3600 episodes\n",
      "3700/5000 [==>..] - ETA: 36:35 Average r :  32.4\n",
      "save weights:  3700 episodes\n",
      "3800/5000 [==>..] - ETA: 33:45 Average r :  31.1\n",
      "save weights:  3800 episodes\n",
      "3900/5000 [==>..] - ETA: 30:52 Average r :  36.3\n",
      "save weights:  3900 episodes\n",
      "4000/5000 [===>.] - ETA: 28:03 Average r :  25.9\n",
      "save weights:  4000 episodes\n",
      "4100/5000 [===>.] - ETA: 25:15 Average r :  24.6\n",
      "save weights:  4100 episodes\n",
      "4200/5000 [===>.] - ETA: 22:27 Average r :  25.9\n",
      "save weights:  4200 episodes\n",
      "4300/5000 [===>.] - ETA: 19:36 Average r :  36.3\n",
      "save weights:  4300 episodes\n",
      "4400/5000 [===>.] - ETA: 16:47 Average r :  31.1\n",
      "save weights:  4400 episodes\n",
      "4500/5000 [===>.] - ETA: 13:59 Average r :  29.8\n",
      "save weights:  4500 episodes\n",
      "4600/5000 [===>.] - ETA: 11:09 Average r :  14.2\n",
      "save weights:  4600 episodes\n",
      "4700/5000 [===>.] - ETA: 8:20 Average r :  25.9\n",
      "save weights:  4700 episodes\n",
      "4707/5000 [===>.] - ETA: 8:09"
     ]
    }
   ],
   "source": [
    "if __name__=='__main__':\n",
    "    ep = 0\n",
    "\n",
    "    exploration_count = 20\n",
    "    exp_buffer = Experience_buffer()\n",
    "    clear_buffer()\n",
    "    try:\n",
    "        progbar = tf.keras.utils.Progbar(total_episodes,width=5)\n",
    "        while ep < total_episodes+1:\n",
    "            progbar.update(ep) # update progress bar\n",
    "\n",
    "            # Run episode\n",
    "            frame, history, reward, did_won, obs = policy_rollout(env, exploration_count > ep)\n",
    "\n",
    "            # Add history\n",
    "            exp_buffer.add(history)\n",
    "\n",
    "            if exploration_count < ep:\n",
    "                with tf.device('/gpu:0'):\n",
    "                    batch_history = exp_buffer.sample(batch_size) # Sample from experience replay\n",
    "                    feed_dict={myAgent.reward_holder:batch_history[:,2],\n",
    "                               myAgent.action_holder:batch_history[:,1],\n",
    "                               myAgent.state_input:np.stack(batch_history[:,0])}\n",
    "                    grads = sess.run(myAgent.gradients, feed_dict=feed_dict)\n",
    "\n",
    "                    for idx,grad in enumerate(grads):\n",
    "                        gradBuffer[idx] += grad\n",
    "                    if ep % update_frequency == 0 and ep != 0:\n",
    "                        feed_dict= dictionary = dict(zip(myAgent.gradient_holders, gradBuffer))\n",
    "                        with tf.device('/gpu:0'):\n",
    "                            _ = sess.run(myAgent.update_batch, feed_dict=feed_dict)\n",
    "                        clear_buffer()\n",
    "                    exp_buffer.flush()\n",
    "\n",
    "            total_reward.append(reward)\n",
    "            total_length.append(frame)\n",
    "            total_captured.append(env.game_won)\n",
    "            if ep % save_reward_frequency == 0 and ep != 0:\n",
    "                record(obs)\n",
    "\n",
    "            # save every 100 ep\n",
    "            if ep % save_network_frequency == 0 and ep != 0:\n",
    "                print(' Average r : ', np.mean(total_reward[-save_network_frequency:]))\n",
    "                saver.save(sess, MODEL_PATH+'/ctf_policy.ckpt', global_step=global_step)\n",
    "                print(\"save weights: \", sess.run(global_step), 'episodes')\n",
    "\n",
    "            ep += 1\n",
    "            sess.run(increment_global_step_op)\n",
    "\n",
    "    except KeyboardInterrupt:\n",
    "        print('\\n\\nManually stopped the training (KeyboardInterrupt)');\n",
    "        plt.plot(total_reward)\n",
    "        plt.figure()\n",
    "        plt.plot(total_length)\n",
    "        plt.figure()\n",
    "        plt.plot(total_captured)\n",
    "        saver.save(sess, MODEL_PATH+'/ctf_policy.ckpt', global_step=global_step)\n",
    "        record(obs)\n",
    "        print(\"save: \", sess.run(global_step), 'episodes')"
   ]
  }
 ],
 "metadata": {
  "kernelspec": {
   "display_name": "Python 3",
   "language": "python",
   "name": "python3"
  },
  "language_info": {
   "codemirror_mode": {
    "name": "ipython",
    "version": 3
   },
   "file_extension": ".py",
   "mimetype": "text/x-python",
   "name": "python",
   "nbconvert_exporter": "python",
   "pygments_lexer": "ipython3",
   "version": "3.6.5"
  }
 },
 "nbformat": 4,
 "nbformat_minor": 2
}
