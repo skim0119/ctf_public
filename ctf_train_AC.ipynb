{
 "cells": [
  {
   "cell_type": "markdown",
   "metadata": {},
   "source": [
    "# Capture the Flag (RL - Policy Gradient)\n",
    "\n",
    "- Seung Hyun Kim\n",
    "- skim449@illinois.edu\n",
    "\n",
    "## Notes\n",
    "- This notebook includes:\n",
    "    - Building the structure of policy driven network.\n",
    "    - Training with/without render\n",
    "    - Saver that save model and weights to ./model directory\n",
    "    - Writer that will record some necessary datas to ./logs\n",
    "- This notebook does not include running the CtF game with the RL policy. Using the network will be separately scripted in policy/policy_RL1.py.\n",
    "    - cap_test.py is changed appropriately.\n",
    "    \n",
    "## References :\n",
    "- https://github.com/awjuliani/DeepRL-Agents/blob/master/Vanilla-Policy.ipynb (source)\n",
    "- https://www.youtube.com/watch?v=PDbXPBwOavc"
   ]
  },
  {
   "cell_type": "code",
   "execution_count": 1,
   "metadata": {},
   "outputs": [],
   "source": [
    "!rm -rf logs/B1R4_AC/ model/B1R4_AC"
   ]
  },
  {
   "cell_type": "code",
   "execution_count": 2,
   "metadata": {},
   "outputs": [],
   "source": [
    "TRAIN_NAME='B1R4_AC'\n",
    "LOG_PATH='./logs/'+TRAIN_NAME\n",
    "MODEL_PATH='./model/' + TRAIN_NAME\n",
    "GPU_CAPACITY=0.125 # gpu capacity in percentage"
   ]
  },
  {
   "cell_type": "code",
   "execution_count": 3,
   "metadata": {},
   "outputs": [
    {
     "name": "stdout",
     "output_type": "stream",
     "text": [
      "pygame 1.9.4\n",
      "Hello from the pygame community. https://www.pygame.org/contribute.html\n"
     ]
    }
   ],
   "source": [
    "import os\n",
    "\n",
    "import tensorflow as tf\n",
    "import tensorflow.contrib.slim as slim\n",
    "import tensorflow.contrib.layers as layers\n",
    "from tensorflow.python.client import device_lib\n",
    "import matplotlib.pyplot as plt\n",
    "%matplotlib inline\n",
    "\n",
    "import time\n",
    "import gym\n",
    "import gym_cap\n",
    "import gym_cap.envs.const as CONST\n",
    "import numpy as np\n",
    "import random\n",
    "\n",
    "# the modules that you can use to generate the policy.\n",
    "import policy.patrol \n",
    "import policy.random\n",
    "import policy.simple # custon written policy\n",
    "import policy.policy_RL\n",
    "import policy.zeros\n",
    "\n",
    "# Data Processing Module\n",
    "from DataModule import one_hot_encoder, VISION_dX, VISION_dY"
   ]
  },
  {
   "cell_type": "code",
   "execution_count": 4,
   "metadata": {},
   "outputs": [],
   "source": [
    "#device_lib.list_local_devices()"
   ]
  },
  {
   "cell_type": "markdown",
   "metadata": {},
   "source": [
    "## Hyperparameters"
   ]
  },
  {
   "cell_type": "code",
   "execution_count": 5,
   "metadata": {},
   "outputs": [],
   "source": [
    "# Training Related\n",
    "total_episodes = 20000 #Set total number of episodes to train agent on.\n",
    "max_ep = 300\n",
    "update_frequency = 50\n",
    "batch_size = 2000\n",
    "experience_size=50000\n",
    "\n",
    "# Saving Related\n",
    "save_network_frequency = 1000\n",
    "save_stat_frequency = update_frequency\n",
    "moving_average_step = update_frequency\n",
    "\n",
    "# General\n",
    "LEARNING_RATE_FIX = True"
   ]
  },
  {
   "cell_type": "markdown",
   "metadata": {},
   "source": [
    "## Environment Setting"
   ]
  },
  {
   "cell_type": "code",
   "execution_count": 6,
   "metadata": {},
   "outputs": [],
   "source": [
    "if not os.path.exists(MODEL_PATH):\n",
    "    os.makedirs(MODEL_PATH)\n",
    "    \n",
    "#Create a directory to save episode playback gifs to\n",
    "if not os.path.exists(LOG_PATH):\n",
    "    os.makedirs(LOG_PATH)"
   ]
  },
  {
   "cell_type": "code",
   "execution_count": 7,
   "metadata": {},
   "outputs": [
    {
     "name": "stdout",
     "output_type": "stream",
     "text": [
      "red number :  0\n",
      "blue number :  1\n"
     ]
    }
   ],
   "source": [
    "env = gym.make(\"cap-v0\") # initialize the environment\n",
    "policy_red = policy.random.PolicyGen(env.get_map, env.get_team_red)\n",
    "action_space = 5\n",
    "n_agent = len(env.get_team_blue)\n",
    "print('red number : ', len(env.get_team_red))\n",
    "print('blue number : ', len(env.get_team_blue))"
   ]
  },
  {
   "cell_type": "markdown",
   "metadata": {},
   "source": [
    "## Discount Reward"
   ]
  },
  {
   "cell_type": "code",
   "execution_count": 8,
   "metadata": {},
   "outputs": [],
   "source": [
    "gamma = 0.99\n",
    "\n",
    "def discount_rewards(r):\n",
    "    \"\"\" take 1D float array of rewards and compute discounted reward \"\"\"\n",
    "    discounted_r = np.zeros_like(r)\n",
    "    running_add = 0.0\n",
    "    for t in reversed(range(r.size)):\n",
    "        running_add = (running_add * gamma + r[t])\n",
    "        discounted_r[t] = running_add\n",
    "    #discounted_r = (discounted_r - np.mean(discounted_r)) / (np.std(discounted_r)+1e-8) # normalize\n",
    "    return discounted_r"
   ]
  },
  {
   "cell_type": "markdown",
   "metadata": {},
   "source": [
    "## Network Setting"
   ]
  },
  {
   "cell_type": "code",
   "execution_count": 9,
   "metadata": {},
   "outputs": [],
   "source": [
    "class agent():\n",
    "    def __init__(self, lr_actor, lr_critic, in_size,action_size):\n",
    "        if LEARNING_RATE_FIX:\n",
    "            self.learning_rate_actor = tf.constant(lr_actor, tf.float32, name='learning_rate_actor')\n",
    "            self.learning_rate_critic = tf.constant(lr_critic, tf.float32, name='learning_rate_critic')\n",
    "        else:\n",
    "            self.learning_rate_actor = tf.placeholder(tf.float32, shape=None, name='learning_rate_actor')\n",
    "            self.learning_rate_critic = tf.placeholder(tf.float32, shape=None, name='learning_rate_critic')\n",
    "        \n",
    "        #These lines established the feed-forward part of the network. The agent takes a state and produces an action.\n",
    "        self.state_input = tf.placeholder(shape=in_size,dtype=tf.float32, name='state')\n",
    "        \n",
    "        layer = slim.conv2d(self.state_input, 16, [5,5],# activation_fn=tf.nn.relu,\n",
    "                            weights_initializer=layers.xavier_initializer_conv2d(),\n",
    "                            biases_initializer=tf.zeros_initializer(),\n",
    "                            padding='SAME',\n",
    "                            scope='conv1')\n",
    "        #layer = slim.avg_pool2d(layer, [2,2])\n",
    "        layer = slim.conv2d(layer, 16, [3,3],# activation_fn=tf.nn.relu,\n",
    "                            weights_initializer=layers.xavier_initializer_conv2d(),\n",
    "                            biases_initializer=tf.zeros_initializer(),\n",
    "                            padding='SAME',\n",
    "                            scope='conv2')\n",
    "        layer = slim.flatten(layer)\n",
    "        #adv_stream, val_stream = tf.split(layer, num_or_size_splits=2)\n",
    "        # Actor stream\n",
    "        actor = slim.fully_connected(layer, 1024,\n",
    "                                    weights_initializer=layers.xavier_initializer(),\n",
    "                                    activation_fn=tf.nn.relu,\n",
    "                                    biases_initializer=tf.zeros_initializer())\n",
    "        self.dense = slim.fully_connected(actor, action_size, \n",
    "                                    weights_initializer=layers.xavier_initializer(),\n",
    "                                    #activation_fn=tf.nn.relu,\n",
    "                                    biases_initializer=tf.zeros_initializer(),\n",
    "                                    scope='output_fc')\n",
    "        self.output = tf.nn.softmax(self.dense, name='action')\n",
    "        \n",
    "        # Value stream\n",
    "        self.critic = slim.fully_connected(layer, 1,\n",
    "                                    weights_initializer=layers.xavier_initializer(),\n",
    "                                    #activation_fn=tf.nn.relu,\n",
    "                                    biases_initializer=tf.zeros_initializer(),\n",
    "                                    scope='critic')\n",
    "        \n",
    "        tf.summary.histogram('output', self.output)\n",
    "        \n",
    "        with tf.name_scope('weights'):\n",
    "            for var in slim.get_model_variables():\n",
    "                tf.summary.histogram(var.op.name, var)\n",
    "\n",
    "        #The next six lines establish the training proceedure. We feed the reward and chosen action into the network\n",
    "        #to compute the loss, and use it to update the network.\n",
    "    \n",
    "        with tf.name_scope('holders'):\n",
    "            self.action_holder = tf.placeholder(shape=[None],dtype=tf.int32)\n",
    "            self.action_OH = tf.one_hot(self.action_holder, action_size)\n",
    "            self.reward_holder = tf.placeholder(shape=[None],dtype=tf.float32)\n",
    "\n",
    "\n",
    "        with tf.name_scope('Loss'):\n",
    "            self.adv = self.reward_holder - tf.stop_gradient(tf.reduce_sum(self.critic, axis=1))\n",
    "            \n",
    "            self.responsible_outputs = tf.nn.sparse_softmax_cross_entropy_with_logits(logits=self.dense, labels=self.action_holder)\n",
    "            self.action_loss = tf.reduce_mean(self.responsible_outputs * self.adv)\n",
    "            \n",
    "            #self.responsible_outputs = tf.reduce_sum(self.output * self.action_OH, axis=1) #tf.gather(tf.reshape(self.output, [-1]), self.indexes) # output\n",
    "            #self.action_loss = -tf.reduce_mean(tf.log(self.responsible_outputs)*self.adv)\n",
    "            \n",
    "            self.critic_loss = tf.reduce_mean(tf.squared_difference(self.reward_holder, tf.reduce_sum(self.critic, axis=1)))\n",
    "            self.loss = self.action_loss + self.critic_loss\n",
    "            \n",
    "            tf.summary.scalar(name='loss', tensor=self.action_loss)\n",
    "            tf.summary.scalar(name='critic_loss', tensor=self.critic_loss)\n",
    "            tf.summary.scalar(name='AC_loss', tensor=self.loss)\n",
    "\n",
    "        with tf.name_scope('optimizer'):\n",
    "            optimizer = tf.train.AdamOptimizer(learning_rate=self.learning_rate_actor)\n",
    "            \n",
    "        with tf.name_scope('gradients'):\n",
    "            self.gradients = optimizer.compute_gradients(self.loss)\n",
    "            #self.gradients = [tf.clip_by_value(grad, -5., 5.) for grad in self.gradients] # Clipping\n",
    "            for var, grad in zip(slim.get_model_variables(), self.gradients):\n",
    "                tf.summary.histogram(var.op.name+'/grad', grad[0])\n",
    "\n",
    "        with tf.name_scope('update'):\n",
    "            self.update_batch = optimizer.apply_gradients(self.gradients)"
   ]
  },
  {
   "cell_type": "code",
   "execution_count": 10,
   "metadata": {},
   "outputs": [],
   "source": [
    "tf.reset_default_graph() # Clear the Tensorflow graph.\n",
    "myAgent = agent(lr_actor=1e-5, lr_critic=1e-4,\n",
    "                in_size=[None,VISION_dX,VISION_dY,6],action_size=5) #Load the agent.\n",
    "global_step = tf.Variable(0, trainable=False, name='global_step') # global step\n",
    "increment_global_step_op = tf.assign(global_step, global_step+1)\n",
    "merged = tf.summary.merge_all()"
   ]
  },
  {
   "cell_type": "markdown",
   "metadata": {},
   "source": [
    "## Session"
   ]
  },
  {
   "cell_type": "code",
   "execution_count": null,
   "metadata": {
    "scrolled": false
   },
   "outputs": [
    {
     "name": "stdout",
     "output_type": "stream",
     "text": [
      "Initialized Variables\n"
     ]
    }
   ],
   "source": [
    "# Launch the session\n",
    "gpu_options = tf.GPUOptions(per_process_gpu_memory_fraction=GPU_CAPACITY, allow_growth=True)\n",
    "\n",
    "sess = tf.Session(config=tf.ConfigProto(gpu_options=gpu_options))\n",
    "#sess = tf.Session()\n",
    "\n",
    "total_reward = []\n",
    "total_length = []\n",
    "total_captured = []\n",
    "\n",
    "# Setup Save and Restore Network\n",
    "saver = tf.train.Saver(tf.global_variables())\n",
    "writer = tf.summary.FileWriter(LOG_PATH, sess.graph)\n",
    "\n",
    "ckpt = tf.train.get_checkpoint_state(MODEL_PATH)\n",
    "if ckpt and tf.train.checkpoint_exists(ckpt.model_checkpoint_path):\n",
    "    saver.restore(sess, ckpt.model_checkpoint_path)\n",
    "    print(\"Load Model : \", ckpt.model_checkpoint_path)\n",
    "else:\n",
    "    sess.run(tf.global_variables_initializer())\n",
    "    print(\"Initialized Variables\")"
   ]
  },
  {
   "cell_type": "code",
   "execution_count": null,
   "metadata": {},
   "outputs": [],
   "source": [
    "def record(summary_):\n",
    "    with tf.device('/cpu:0'): \n",
    "        summary = tf.Summary()\n",
    "        summary.value.add(tag='Records/mean_reward', simple_value=np.mean(total_reward[-moving_average_step:]))\n",
    "        summary.value.add(tag='Records/mean_length', simple_value=np.mean(total_length[-moving_average_step:]))\n",
    "        summary.value.add(tag='Records/mean_succeed', simple_value=np.mean(total_captured[-moving_average_step:]))\n",
    "        writer.add_summary(summary, sess.run(global_step))\n",
    "        \n",
    "        #summary_str = sess.run(merged,feed_dict={myAgent.state_input:obs})\n",
    "        writer.add_summary(summary_, sess.run(global_step))\n",
    "        \n",
    "        writer.flush()"
   ]
  },
  {
   "cell_type": "code",
   "execution_count": null,
   "metadata": {},
   "outputs": [],
   "source": [
    "class Experience_buffer():\n",
    "    def __init__(self, buffer_size = experience_size):\n",
    "        self.buffer = []\n",
    "        self.buffer_size = buffer_size\n",
    "    \n",
    "    def __len__(self):\n",
    "        return len(self.buffer)\n",
    "    \n",
    "    def add(self,experience):\n",
    "        if len(self.buffer) + len(experience) >= self.buffer_size:\n",
    "            self.buffer[0:(len(experience)+len(self.buffer))-self.buffer_size] = []\n",
    "        self.buffer.extend(experience)\n",
    "    \n",
    "    def flush(self):\n",
    "        self.buffer = []\n",
    "    \n",
    "    def empty(self):\n",
    "        return len(self.buffer)==0\n",
    "    \n",
    "    def sample(self, size=2000):\n",
    "        if size > len(self.buffer):\n",
    "            return np.array(self.buffer)\n",
    "        else:\n",
    "            return np.reshape(np.array(random.sample(self.buffer,size)),[size,4])"
   ]
  },
  {
   "cell_type": "code",
   "execution_count": null,
   "metadata": {},
   "outputs": [],
   "source": [
    "def policy_rollout(DETERMINISTIC=True):\n",
    "    # Run single episode, return the results\n",
    "    s = env.reset(map_size=20, policy_red=policy_red)\n",
    "    #obs = one_hot_encoder(s, env.get_team_blue) # partial observation\n",
    "    obs_next = one_hot_encoder(env._env, env.get_team_blue)\n",
    "    \n",
    "    ep_history = []\n",
    "    indv_history = [[] for _ in range(len(env.get_team_blue))]\n",
    "    was_alive = [ag.isAlive for ag in env.get_team_blue]\n",
    "    \n",
    "    prev_reward=0\n",
    "    frame=0\n",
    "    for frame in range(max_ep+1):\n",
    "        obs = obs_next\n",
    "        \n",
    "        with tf.device('/cpu:0'):\n",
    "            act_prob = sess.run(myAgent.output, feed_dict={myAgent.state_input:obs})\n",
    "        if DETERMINISTIC:\n",
    "            act = np.argmax(act_prob, axis=1).tolist()\n",
    "        else:\n",
    "            #Probabilistically pick an action given our network outputs.\n",
    "            act = [np.random.choice(action_space, p=act_prob[x]/sum(act_prob[x])) for x in range(n_agent)] # divide by sum : normalize\n",
    "            \n",
    "        s,r1,d,_ = env.step(act) #Get our reward for taking an action given a bandit.\n",
    "\n",
    "        r = r1-prev_reward\n",
    "        \n",
    "        # If frame is at max and the game is still not done, negative reward\n",
    "        if frame == max_ep and d == False:\n",
    "            r -= 30\n",
    "        #r -= 0.01*frame\n",
    "\n",
    "        if d:\n",
    "            critic_value = 0.0\n",
    "        else:\n",
    "            obs_next = one_hot_encoder(env._env, env.get_team_blue) # Full Observation\n",
    "            critic_value = sess.run(myAgent.critic, feed_dict={myAgent.state_input:obs_next})\n",
    "        \n",
    "        td_targ = r + (0.9)*critic_value\n",
    "        \n",
    "        # Push history for individual that 'was' alive previous frame\n",
    "        for idx, agent in enumerate(env.get_team_blue):\n",
    "            if was_alive[idx]: indv_history[idx].append([obs[idx],act[idx],r,td_targ])\n",
    "      \n",
    "        # State Transition\n",
    "        frame += 1\n",
    "        prev_reward = r1\n",
    "        was_alive = [ag.isAlive for ag in env.get_team_blue]\n",
    "        \n",
    "        if d:\n",
    "            break\n",
    "\n",
    "    for idx, history in enumerate(indv_history):\n",
    "        if len(history)==0: continue\n",
    "        _history = np.array(history)\n",
    "        _history[:,2] = discount_rewards(_history[:,2])\n",
    "        ep_history.extend(_history)\n",
    "            \n",
    "    if len(ep_history) > 0:        \n",
    "        ep_history = np.stack(ep_history)\n",
    "    \n",
    "    return [frame, ep_history, r1, env.game_won, obs]"
   ]
  },
  {
   "cell_type": "markdown",
   "metadata": {},
   "source": [
    "## Training"
   ]
  },
  {
   "cell_type": "code",
   "execution_count": null,
   "metadata": {
    "scrolled": false
   },
   "outputs": [
    {
     "name": "stdout",
     "output_type": "stream",
     "text": [
      "   47/20000 [.....] - ETA: 9:24:56"
     ]
    }
   ],
   "source": [
    "if __name__=='__main__':\n",
    "    ep = 0\n",
    "\n",
    "    exp_buffer = Experience_buffer()\n",
    "    try:\n",
    "        progbar = tf.keras.utils.Progbar(total_episodes,width=5)\n",
    "        while ep < total_episodes+1:\n",
    "            # Run episode\n",
    "            frame, history, reward, did_won, obs = policy_rollout()\n",
    "\n",
    "            # Add history\n",
    "            exp_buffer.add(history)\n",
    "\n",
    "            if ep % update_frequency == 0 and ep != 0 and not exp_buffer.empty():\n",
    "                batch_history = exp_buffer.sample(batch_size) # Sample from experience replay\n",
    "                feed_dict={myAgent.reward_holder:batch_history[:,2],\n",
    "                           myAgent.action_holder:batch_history[:,1],\n",
    "                           myAgent.state_input:np.stack(batch_history[:,0])}\n",
    "                with tf.device('/gpu:0'):\n",
    "                    summary_, _ = sess.run([merged, myAgent.update_batch], feed_dict=feed_dict)\n",
    "                if ep % save_stat_frequency == 0 and ep != 0:\n",
    "                    record(summary_)\n",
    "                exp_buffer.flush()\n",
    "\n",
    "            total_reward.append(reward)\n",
    "            total_length.append(frame)\n",
    "            total_captured.append(env.game_won)\n",
    "            \n",
    "            # save every 100 ep\n",
    "            if ep % save_network_frequency == 0 and ep != 0:\n",
    "                #print(' Average r : ', np.mean(total_reward[-save_network_frequency:]))\n",
    "                saver.save(sess, MODEL_PATH+'/ctf_policy.ckpt', global_step=global_step)\n",
    "                #print(\"save weights: \", sess.run(global_step), 'episodes')\n",
    "\n",
    "            ep += 1\n",
    "            progbar.update(ep) # update progress bar\n",
    "            sess.run(increment_global_step_op)\n",
    "\n",
    "    except KeyboardInterrupt:\n",
    "        print('\\n\\nManually stopped the training (KeyboardInterrupt)');\n",
    "        plt.plot(total_reward)\n",
    "        plt.figure()\n",
    "        plt.plot(total_length)\n",
    "        plt.figure()\n",
    "        plt.plot(total_captured)\n",
    "        saver.save(sess, MODEL_PATH+'/ctf_policy.ckpt', global_step=global_step)\n",
    "        record(obs)\n",
    "        print(\"save: \", sess.run(global_step), 'episodes')"
   ]
  }
 ],
 "metadata": {
  "kernelspec": {
   "display_name": "Python 3",
   "language": "python",
   "name": "python3"
  },
  "language_info": {
   "codemirror_mode": {
    "name": "ipython",
    "version": 3
   },
   "file_extension": ".py",
   "mimetype": "text/x-python",
   "name": "python",
   "nbconvert_exporter": "python",
   "pygments_lexer": "ipython3",
   "version": "3.6.6"
  }
 },
 "nbformat": 4,
 "nbformat_minor": 2
}
