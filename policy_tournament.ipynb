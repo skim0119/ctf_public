{
 "cells": [
  {
   "cell_type": "markdown",
   "metadata": {},
   "source": [
    "# CtF-Game Policy Tournament\n",
    "\n",
    "- Simple script to test the performance of individual policy.\n",
    "- Graph the success reward, and episode length.\n",
    "- Script __does not__ include the rendering\n",
    "\n",
    "## TODO:\n"
   ]
  },
  {
   "cell_type": "code",
   "execution_count": 1,
   "metadata": {},
   "outputs": [],
   "source": [
    "import os\n",
    "\n",
    "import time\n",
    "import gym\n",
    "import gym_cap\n",
    "import numpy as np\n",
    "\n",
    "from collections import defaultdict\n",
    "from matplotlib import pyplot as plt\n",
    "\n",
    "# the modules that you can use to generate the policy.\n",
    "import policy.zeros\n",
    "import policy.patrol # only for non-stochastic zone? \n",
    "import policy.random\n",
    "import policy.roomba # Supposed to be heuristic\n",
    "import policy.policy_RL # RL weights are in ./model directory\n",
    "\n",
    "# custom utilities\n",
    "from utility.utils import MovingAverage as MA"
   ]
  },
  {
   "cell_type": "markdown",
   "metadata": {},
   "source": [
    "## Policy/Model Selection"
   ]
  },
  {
   "cell_type": "code",
   "execution_count": 2,
   "metadata": {},
   "outputs": [],
   "source": [
    "#rl_model = ['./model/'+name for name in os.listdir('./model')]\n",
    "rl_model = ['./model/'+name for name in ('B4R4_Rzero_VANILLA', 'B4R4_self_VANILLA')]\n",
    "rl_nick = ['red-zero train', 'self-play']"
   ]
  },
  {
   "cell_type": "markdown",
   "metadata": {},
   "source": [
    "## Training Settings"
   ]
  },
  {
   "cell_type": "code",
   "execution_count": 18,
   "metadata": {},
   "outputs": [],
   "source": [
    "env = gym.make(\"cap-v0\") # initialize the environment\n",
    "\n",
    "n_episode   = 10\n",
    "ep_max      = 150\n",
    "map_size    = 20\n",
    "moving_ave  = 10\n",
    "base_policy = [policy.zeros, policy.random]\n",
    "base_nick = ['zero', 'random']"
   ]
  },
  {
   "cell_type": "code",
   "execution_count": null,
   "metadata": {},
   "outputs": [
    {
     "name": "stdout",
     "output_type": "stream",
     "text": [
      "path exist\n",
      "INFO:tensorflow:Restoring parameters from ./model/B4R4_Rzero_VANILLA/ctf_policy.ckpt-261999\n",
      "Graph is succesfully loaded. ./model/B4R4_Rzero_VANILLA/ctf_policy.ckpt-261999\n",
      "path exist\n",
      "INFO:tensorflow:Restoring parameters from ./model/B4R4_self_VANILLA/ctf_policy.ckpt-307999\n",
      "Graph is succesfully loaded. ./model/B4R4_self_VANILLA/ctf_policy.ckpt-307999\n"
     ]
    }
   ],
   "source": [
    "def rand_jitter(arr):\n",
    "    stdev = .01*(max(arr)-min(arr))\n",
    "    return arr + np.random.randn(len(arr)) * stdev\n",
    "\n",
    "# Measure Control Policies\n",
    "ctrl_policy = [policy.random]\n",
    "ctrl_nick = ['random']\n",
    "\n",
    "for base_name, r_policy in zip(base_nick, base_policy):\n",
    "    policy_red = r_policy.PolicyGen(env.get_map, env.get_team_red)\n",
    "    plt.figure()\n",
    "    # Control Policies\n",
    "    for policy_name, b_policy in zip(ctrl_nick, ctrl_policy):\n",
    "        policy_blue = b_policy.PolicyGen(env.get_map, env.get_team_blue)\n",
    "        # reset the environment and select the policies for each of the team\n",
    "        observation = env.reset(map_size=map_size,\n",
    "                                policy_blue=policy_blue,\n",
    "                                policy_red=policy_red)\n",
    "        reward_table = []\n",
    "        length_table = []\n",
    "        for _ in range(n_episode):\n",
    "            total_reward = 0\n",
    "            prev_reward = 0\n",
    "            for frame in range(ep_max):\n",
    "                action = policy_blue.gen_action(env.get_team_blue, env._env)\n",
    "                #observation, reward, done, info = env.step(action)\n",
    "                observation, reward, done, info = env.step()  # feedback from environment\n",
    "                r = reward-prev_reward\n",
    "                total_reward += r\n",
    "                prev_reward = reward\n",
    "                if done:\n",
    "                    break            \n",
    "            reward_table.append(total_reward)\n",
    "            length_table.append(frame)\n",
    "            env.reset()\n",
    "        \n",
    "        reward_table = np.array(reward_table)\n",
    "        length_table = np.array(length_table)\n",
    "\n",
    "        plt.scatter(rand_jitter(length_table), rand_jitter(reward_table))\n",
    "        \n",
    "        \n",
    "    # RL Policies\n",
    "    for policy_name, weight_dir in zip(rl_nick, rl_model):\n",
    "        policy_blue = policy.policy_RL.PolicyGen(env.get_map, env.get_team_red,model_dir=weight_dir,color='blue')\n",
    "    \n",
    "        reward_table = []\n",
    "        length_table = []\n",
    "        # reset the environment and select the policies for each of the team\n",
    "        observation = env.reset(map_size=map_size,\n",
    "                                policy_blue=policy_blue,\n",
    "                                policy_red=policy_red)\n",
    "        for _ in range(n_episode):\n",
    "            total_reward = 0\n",
    "            prev_reward = 0\n",
    "            for frame in range(ep_max):\n",
    "                action = policy_blue.gen_action(env.get_team_blue, env._env)\n",
    "                #observation, reward, done, info = env.step(action)\n",
    "                observation, reward, done, info = env.step()  # feedback from environment\n",
    "                r = reward-prev_reward\n",
    "                total_reward += r\n",
    "                prev_reward = reward\n",
    "                if done:\n",
    "                    break            \n",
    "            reward_table.append(total_reward)\n",
    "            length_table.append(frame)\n",
    "            env.reset()\n",
    "        \n",
    "\n",
    "        plt.scatter(rand_jitter(length_table), rand_jitter(reward_table))\n",
    "    plt.title(f'red: {base_name}')\n",
    "    plt.legend(ctrl_nick+rl_nick)\n",
    "    plt.xlabel('episode length')\n",
    "    plt.ylabel('reward')"
   ]
  },
  {
   "cell_type": "code",
   "execution_count": null,
   "metadata": {},
   "outputs": [],
   "source": []
  }
 ],
 "metadata": {
  "kernelspec": {
   "display_name": "Python 3",
   "language": "python",
   "name": "python3"
  },
  "language_info": {
   "codemirror_mode": {
    "name": "ipython",
    "version": 3
   },
   "file_extension": ".py",
   "mimetype": "text/x-python",
   "name": "python",
   "nbconvert_exporter": "python",
   "pygments_lexer": "ipython3",
   "version": "3.6.6"
  }
 },
 "nbformat": 4,
 "nbformat_minor": 2
}
