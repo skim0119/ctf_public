{
 "cells": [
  {
   "cell_type": "markdown",
   "metadata": {},
   "source": [
    "# CtF-Game Policy Tournament\n",
    "\n",
    "- Simple script to test the performance of individual policy.\n",
    "- Graph the success reward, and episode length.\n",
    "- Script __does not__ include the rendering\n",
    "\n",
    "## TODO:\n"
   ]
  },
  {
   "cell_type": "code",
   "execution_count": 10,
   "metadata": {},
   "outputs": [],
   "source": [
    "import os\n",
    "\n",
    "import time\n",
    "import gym\n",
    "import gym_cap\n",
    "import numpy as np\n",
    "\n",
    "from collections import defaultdict\n",
    "\n",
    "# the modules that you can use to generate the policy.\n",
    "import policy.zeros\n",
    "import policy.patrol # only for non-stochastic zone? \n",
    "import policy.random\n",
    "import policy.roomba # Supposed to be heuristic\n",
    "import policy.policy_RL # RL weights are in ./model directory"
   ]
  },
  {
   "cell_type": "markdown",
   "metadata": {},
   "source": [
    "## Policy/Model Selection"
   ]
  },
  {
   "cell_type": "code",
   "execution_count": 11,
   "metadata": {},
   "outputs": [],
   "source": [
    "#rl_model = ['./model/'+name for name in os.listdir('./model')]\n",
    "rl_model = ['./model/'+name for name in ('B4R4_Rzero_VANILLA', 'B4R4_self_VANILLA')]\n",
    "rl_nick = ['red-zero train', 'self-play']"
   ]
  },
  {
   "cell_type": "markdown",
   "metadata": {},
   "source": [
    "## Training Settings"
   ]
  },
  {
   "cell_type": "code",
   "execution_count": 12,
   "metadata": {},
   "outputs": [],
   "source": [
    "env = gym.make(\"cap-v0\") # initialize the environment\n",
    "\n",
    "n_episode   = 1000;\n",
    "ep_max      = 150;\n",
    "map_size    = 20;\n",
    "base_policy = [policy.zeros, policy.random, policy.roomba]\n",
    "base_nick = ['zero', 'random', 'roomba']"
   ]
  },
  {
   "cell_type": "code",
   "execution_count": null,
   "metadata": {},
   "outputs": [],
   "source": [
    "# Measure Control Policies\n",
    "ctrl_policy = [policy.zeros, policy.random, policy.roomba]\n",
    "ctrl_nick = ['zero', 'random', 'roomba']\n",
    "\n",
    "for base_name, r_policy in zip(base_nick, base_policy):\n",
    "    policy_red = r_policy.PolicyGen(env.get_map, env.get_team_red)\n",
    "    \n",
    "    for policy_name, b_policy in zip(ctrl_nick, ctrl_policy):\n",
    "        policy_blue = b_policy.PolicyGen(env.get_map, env.get_team_red)\n",
    "    \n",
    "        # reset the environment and select the policies for each of the team\n",
    "        observation = env.reset(map_size=map_size,\n",
    "                                policy_blue=policy_blue,\n",
    "                                policy_red=policy_red)\n",
    "        for _ in range(n_episode):\n",
    "            total_reward = 0\n",
    "            for frame in range(ep_max):\n",
    "                action = policy_blue.gen_action(env.get_team_blue, env._env)\n",
    "                observation, reward, done, info = env.step(action)\n",
    "                #observation, reward, done, info = env.step()  # feedback from environment\n",
    "                #pre_score = reward;\n",
    "                total_reward += reward\n",
    "                if done:\n",
    "                    break\n",
    "            env.reset()\n",
    "            "
   ]
  }
 ],
 "metadata": {
  "kernelspec": {
   "display_name": "Python 3",
   "language": "python",
   "name": "python3"
  },
  "language_info": {
   "codemirror_mode": {
    "name": "ipython",
    "version": 3
   },
   "file_extension": ".py",
   "mimetype": "text/x-python",
   "name": "python",
   "nbconvert_exporter": "python",
   "pygments_lexer": "ipython3",
   "version": "3.6.6"
  }
 },
 "nbformat": 4,
 "nbformat_minor": 2
}
