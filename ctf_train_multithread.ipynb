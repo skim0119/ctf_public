{
 "cells": [
  {
   "cell_type": "markdown",
   "metadata": {},
   "source": [
    "# Capture the Flag (RL - Policy Gradient)\n",
    "\n",
    "- Seung Hyun Kim\n",
    "- skim449@illinois.edu\n",
    "\n",
    "## Notes\n",
    "- This notebook includes:\n",
    "    - Building the structure of policy driven network.\n",
    "    - Training with/without render\n",
    "    - Saver that save model and weights to ./model directory\n",
    "    - Writer that will record some necessary datas to ./logs\n",
    "- This notebook does not include running the CtF game with the RL policy. Using the network will be separately scripted in policy/policy_RL1.py.\n",
    "    - cap_test.py is changed appropriately.\n",
    "    \n",
    "## References :\n",
    "- https://github.com/awjuliani/DeepRL-Agents/blob/master/Vanilla-Policy.ipynb (source)\n",
    "- https://www.youtube.com/watch?v=PDbXPBwOavc"
   ]
  },
  {
   "cell_type": "code",
   "execution_count": 1,
   "metadata": {},
   "outputs": [],
   "source": [
    "TRAIN_NAME='NO_RED_02_MULTI:'\n",
    "LOG_PATH='./logs/'+TRAIN_NAME\n",
    "MODEL_PATH='./model/' + TRAIN_NAME\n",
    "GPU_CAPACITY=0.33 # gpu capacity in percentage"
   ]
  },
  {
   "cell_type": "code",
   "execution_count": 2,
   "metadata": {},
   "outputs": [
    {
     "name": "stdout",
     "output_type": "stream",
     "text": [
      "pygame 1.9.4\n",
      "Hello from the pygame community. https://www.pygame.org/contribute.html\n"
     ]
    }
   ],
   "source": [
    "import os\n",
    "\n",
    "import tensorflow as tf\n",
    "import tensorflow.contrib.slim as slim\n",
    "import matplotlib.pyplot as plt\n",
    "%matplotlib inline\n",
    "\n",
    "import time\n",
    "import threading\n",
    "import multiprocessing\n",
    "\n",
    "import gym\n",
    "import gym_cap\n",
    "import gym_cap.envs.const as CONST\n",
    "import numpy as np\n",
    "import random\n",
    "\n",
    "# the modules that you can use to generate the policy.\n",
    "import policy.patrol \n",
    "import policy.random\n",
    "import policy.simple # custon written policy\n",
    "import policy.policy_RL\n",
    "import policy.zeros\n",
    "\n",
    "# Data Processing Module\n",
    "from DataModule import one_hot_encoder"
   ]
  },
  {
   "cell_type": "code",
   "execution_count": 3,
   "metadata": {},
   "outputs": [],
   "source": [
    "if not os.path.exists(MODEL_PATH):\n",
    "    os.makedirs(MODEL_PATH)\n",
    "    \n",
    "#Create a directory to save episode playback gifs to\n",
    "if not os.path.exists(LOG_PATH):\n",
    "    os.makedirs(LOG_PATH)"
   ]
  },
  {
   "cell_type": "markdown",
   "metadata": {},
   "source": [
    "## Environment Setting"
   ]
  },
  {
   "cell_type": "code",
   "execution_count": 4,
   "metadata": {},
   "outputs": [],
   "source": [
    "env = gym.make(\"cap-v0\") # initialize the environment\n",
    "policy_red = policy.random.PolicyGen(env.get_map, env.get_team_red)\n",
    "\n",
    "#UNKNOWN  = CONST.UNKNOWN # -1\n",
    "#TEAM1_BG = CONST.TEAM1_BACKGROUND # 0\n",
    "#TEAM2_BG = CONST.TEAM2_BACKGROUND # 1\n",
    "#TEAM1_AG = CONST.TEAM1_UGV # 2\n",
    "#TEAM2_AG = CONST.TEAM2_UGV # 4\n",
    "#TEAM1_FL = CONST.TEAM1_FLAG # 6\n",
    "#TEAM2_FL = CONST.TEAM2_FLAG # 7\n",
    "#OBSTACLE = CONST.OBSTACLE # 8\n",
    "#DEAD     = CONST.DEAD # 9\n",
    "#SELECTED = CONST.SELECTED # 10\n",
    "#COMPLETED= CONST.COMPLETED # 11\n",
    "\n",
    "VISION_RANGE = 10 #CONST.UGV_RANGE\n",
    "#VISION_dX    = 2*VISION_RANGE+1\n",
    "#VISION_dY    = 2*VISION_RANGE+1"
   ]
  },
  {
   "cell_type": "code",
   "execution_count": 5,
   "metadata": {},
   "outputs": [
    {
     "name": "stdout",
     "output_type": "stream",
     "text": [
      "red number :  0\n",
      "blue number :  4\n",
      "vision range :  10\n"
     ]
    }
   ],
   "source": [
    "print('red number : ', len(env.get_team_red))\n",
    "print('blue number : ', len(env.get_team_blue))\n",
    "print('vision range : ', VISION_RANGE)"
   ]
  },
  {
   "cell_type": "markdown",
   "metadata": {},
   "source": [
    "## Discount Reward"
   ]
  },
  {
   "cell_type": "code",
   "execution_count": 6,
   "metadata": {},
   "outputs": [],
   "source": [
    "gamma = 0.98\n",
    "\n",
    "def discount_rewards(r, pre_discount=0):\n",
    "    \"\"\" take 1D float array of rewards and compute discounted reward \"\"\"\n",
    "    discounted_r = np.zeros_like(r)\n",
    "    running_add = 0.0\n",
    "    pre_disc_factor = gamma**pre_discount\n",
    "    for t in reversed(range(r.size)):\n",
    "        running_add = (running_add * gamma + r[t]) * pre_disc_factor\n",
    "        discounted_r[t] = running_add\n",
    "    discounted_r = (discounted_r - np.mean(discounted_r)) / (np.std(discounted_r)+1e-8) # normalize\n",
    "    return discounted_r\n",
    "\n",
    "def discount_rewards_multiagent(r, n_agents):\n",
    "    discounted_r = np.reshape(r,(-1,n_agents)) # Reshape the r into vertical matrix with 'n_agents' columns\n",
    "    for idx in range(n_agents):\n",
    "        column = discounted_r[:,idx]                     # extract single column\n",
    "        discounted_r[:,idx] = discount_rewards(column);  # Run discount_reward on the column, and substitute\n",
    "    return np.reshape(discounted_r,(-1))                 # return the flattened matrix"
   ]
  },
  {
   "cell_type": "markdown",
   "metadata": {},
   "source": [
    "## Network Setting"
   ]
  },
  {
   "cell_type": "code",
   "execution_count": 8,
   "metadata": {},
   "outputs": [],
   "source": [
    "class agent():\n",
    "    def __init__(self, lr, in_size,action_size):\n",
    "        #These lines established the feed-forward part of the network. The agent takes a state and produces an action.\n",
    "        self.state_input = tf.placeholder(shape=in_size,dtype=tf.float32, name='state')\n",
    "        \n",
    "        layer = slim.conv2d(self.state_input, 16, [5,5], activation_fn=tf.nn.relu,\n",
    "                            padding='SAME',\n",
    "                            scope='conv1')\n",
    "        #layer = slim.avg_pool2d(layer, [2,2])\n",
    "        layer = slim.conv2d(layer, 16, [3,3], activation_fn=tf.nn.relu,\n",
    "                            padding='SAME',\n",
    "                            scope='conv2')\n",
    "        layer = slim.flatten(layer)\n",
    "        #flat  = tf.reshape(conv, [-1, VISION_dX*VISION_dY*128])\n",
    "        #layer = slim.dropout(layer,keep_prob=0.8)\n",
    "        #layer = slim.fully_connected(layer, 516,\n",
    "        #                            activation_fn=tf.nn.relu,\n",
    "        #                            biases_initializer=None,\n",
    "        #                            scope='hidden_fc1')\n",
    "        layer = slim.dropout(layer,keep_prob=0.8)\n",
    "        #layer = slim.fully_connected(layer, 516,\n",
    "        #                            #activation_fn=tf.nn.relu,\n",
    "        #                            biases_initializer=None)\n",
    "        self.dense = slim.fully_connected(layer, action_size,\n",
    "                                     activation_fn=tf.nn.relu,\n",
    "                                     biases_initializer=None,\n",
    "                                     scope='output_fc')\n",
    "        self.output = tf.nn.softmax(self.dense, name='action')\n",
    "        \n",
    "        tf.summary.histogram('output', self.output)\n",
    "        \n",
    "        with tf.name_scope('weights'):\n",
    "            for var in slim.get_model_variables():\n",
    "                tf.summary.histogram(var.op.name, var)\n",
    "\n",
    "        #The next six lines establish the training proceedure. We feed the reward and chosen action into the network\n",
    "        #to compute the loss, and use it to update the network.\n",
    "\n",
    "        with tf.name_scope('Records'):\n",
    "            self.mean_reward = tf.placeholder(\"float\", None)\n",
    "            self.mean_length = tf.placeholder(\"float\", None)\n",
    "            self.mean_succeed = tf.placeholder(\"float\", None)\n",
    "            #self.mean_stdaction = tf.placeholder(\"float\",None)\n",
    "            tf.summary.scalar('mean_reward', self.mean_reward)\n",
    "            tf.summary.scalar('mean_length', self.mean_length)\n",
    "            tf.summary.scalar('mean_succeed', self.mean_succeed)\n",
    "\n",
    "        with tf.name_scope('loss'):\n",
    "            self.action_holder = tf.placeholder(tf.int32, [None, action_size])\n",
    "            self.reward_holder = tf.placeholder(tf.float32, [None])\n",
    "            self.neg_log_prob = tf.nn.softmax_cross_entropy_with_logits_v2(logits = self.dense, labels = self.action_holder)\n",
    "            self.loss = -tf.reduce_mean(self.neg_log_prob * self.reward_holder) \n",
    "\n",
    "        with tf.name_scope('optimizer'):\n",
    "            #optimizer = tf.train.AdamOptimizer(learning_rate=lr)\n",
    "            #self.update_batch = optimizer.apply_gradients(zip(self.gradient_holders,tvars))\n",
    "            self.update_batch = tf.train.RMSPropOptimizer(learning_rate=lr).minimize(self.loss)"
   ]
  },
  {
   "cell_type": "code",
   "execution_count": 9,
   "metadata": {},
   "outputs": [],
   "source": [
    "tf.reset_default_graph() # Clear the Tensorflow graph.\n",
    "myAgent = agent(lr=1e-5,in_size=[None,VISION_dX,VISION_dY,6],action_size=5) #Load the agent.\n",
    "global_step = tf.Variable(0, trainable=False, name='global_step') # global step\n",
    "increment_global_step_op = tf.assign(global_step, global_step+1)\n",
    "merged = tf.summary.merge_all()"
   ]
  },
  {
   "cell_type": "markdown",
   "metadata": {},
   "source": [
    "## Hyperparameters"
   ]
  },
  {
   "cell_type": "code",
   "execution_count": 10,
   "metadata": {},
   "outputs": [],
   "source": [
    "total_episodes = 10000 #Set total number of episodes to train agent on.\n",
    "max_ep = 150\n",
    "update_frequency = 10\n",
    "save_network_frequency = 100\n",
    "save_reward_frequency = 50\n",
    "batch_size = 2000\n",
    "\n",
    "action_space = 5\n",
    "n_agent = len(env.get_team_blue)"
   ]
  },
  {
   "cell_type": "markdown",
   "metadata": {},
   "source": [
    "## One-hot Encoder"
   ]
  },
  {
   "cell_type": "raw",
   "metadata": {},
   "source": [
    "def one_hot_encoder(state, agents):\n",
    "    ret = np.zeros((len(agents),VISION_dX,VISION_dY,6))\n",
    "    # team 1 : (1), team 2 : (-1), map elements: (0)\n",
    "    map_channel = {UNKNOWN:0, DEAD:0,\n",
    "                   TEAM1_BG:1, TEAM2_BG:1,\n",
    "                   TEAM1_AG:2, TEAM2_AG:2,\n",
    "                   3:3, 5:3, # UAV, does not need to be included for now\n",
    "                   TEAM1_FL:4, TEAM2_FL:4,\n",
    "                   OBSTACLE:5}\n",
    "    map_color   = {UNKNOWN:1, DEAD:0, OBSTACLE:1,\n",
    "                   TEAM1_BG:1, TEAM2_BG:-1,\n",
    "                   TEAM1_AG:1, TEAM2_AG:-1,\n",
    "                   3:1, 5:-1, # UAV, does not need to be included for now\n",
    "                   TEAM1_FL:1, TEAM2_FL:-1}\n",
    "    \n",
    "    # Expand the observation with 3-thickness wall\n",
    "    # - in order to avoid dealing with the boundary\n",
    "    sx, sy = state.shape\n",
    "    _state = np.ones((sx+2*VISION_RANGE, sy+2*VISION_RANGE)) * OBSTACLE # 8 for obstacle\n",
    "    _state[VISION_RANGE:VISION_RANGE+sx, VISION_RANGE:VISION_RANGE+sy] = state\n",
    "    state = _state\n",
    "\n",
    "    for idx,agent in enumerate(agents):\n",
    "        # Initialize Variables\n",
    "        x, y = agent.get_loc()\n",
    "        x += VISION_RANGE\n",
    "        y += VISION_RANGE\n",
    "        vision = state[x-VISION_RANGE:x+VISION_RANGE+1,y-VISION_RANGE:y+VISION_RANGE+1] # extract the limited view for the agent (5x5)\n",
    "        for i in range(len(vision)):\n",
    "            for j in range(len(vision[0])):\n",
    "                if vision[i][j] != -1:\n",
    "                    channel = map_channel[vision[i][j]]\n",
    "                    ret[idx][i][j][channel] = map_color[vision[i][j]]\n",
    "    return ret"
   ]
  },
  {
   "cell_type": "markdown",
   "metadata": {},
   "source": [
    "## Session"
   ]
  },
  {
   "cell_type": "code",
   "execution_count": 11,
   "metadata": {
    "scrolled": false
   },
   "outputs": [
    {
     "name": "stdout",
     "output_type": "stream",
     "text": [
      "Initialized Variables\n"
     ]
    }
   ],
   "source": [
    "# Launch the session\n",
    "# Launch the session\n",
    "gpu_options = tf.GPUOptions(per_process_gpu_memory_fraction=GPU_CAPACITY)\n",
    "\n",
    "sess = tf.Session(config=tf.ConfigProto(gpu_options=gpu_options))\n",
    "#sess = tf.Session()\n",
    "\n",
    "total_reward = []\n",
    "total_length = []\n",
    "total_captured = []\n",
    "\n",
    "# Setup Save and Restore Network\n",
    "saver = tf.train.Saver(tf.global_variables())\n",
    "writer = tf.summary.FileWriter(LOG_PATH, sess.graph)\n",
    "\n",
    "ckpt = tf.train.get_checkpoint_state(MODEL_PATH)\n",
    "if ckpt and tf.train.checkpoint_exists(ckpt.model_checkpoint_path):\n",
    "    saver.restore(sess, ckpt.model_checkpoint_path)\n",
    "    print(\"Load Model : \", ckpt.model_checkpoint_path)\n",
    "else:\n",
    "    sess.run(tf.global_variables_initializer())\n",
    "    print(\"Initialized Variables\")"
   ]
  },
  {
   "cell_type": "code",
   "execution_count": 12,
   "metadata": {},
   "outputs": [],
   "source": [
    "def record(obs):\n",
    "    feed_dict = {myAgent.mean_reward:np.mean(total_reward[-save_reward_frequency:]),\n",
    "                         myAgent.mean_length:np.mean(total_length[-save_reward_frequency:]),\n",
    "                         myAgent.mean_succeed:np.mean(total_captured[-save_reward_frequency:]),\n",
    "                         myAgent.state_input:obs\n",
    "                }\n",
    "    with tf.device('/cpu:0'):    \n",
    "        summary_str = sess.run(merged, feed_dict=feed_dict)\n",
    "        writer.add_summary(summary_str, sess.run(global_step))"
   ]
  },
  {
   "cell_type": "code",
   "execution_count": 13,
   "metadata": {},
   "outputs": [],
   "source": [
    "class Experience_buffer():\n",
    "    def __init__(self, buffer_size = 50000):\n",
    "        self.buffer = []\n",
    "        self.buffer_size = buffer_size\n",
    "    \n",
    "    def add(self,experience):\n",
    "        if len(self.buffer) + len(experience) >= self.buffer_size:\n",
    "            self.buffer[0:(len(experience)+len(self.buffer))-self.buffer_size] = []\n",
    "        self.buffer.extend(experience)\n",
    "            \n",
    "    def sample(self, size=2000):\n",
    "        if size > len(self.buffer):\n",
    "            return np.array(self.buffer)\n",
    "        else:\n",
    "            return np.reshape(np.array(random.sample(self.buffer,size)),[size,3])"
   ]
  },
  {
   "cell_type": "code",
   "execution_count": 14,
   "metadata": {},
   "outputs": [],
   "source": [
    "def policy_rollout(env, explore=False):\n",
    "    # Run single episode, return the results (number of frame, history, total reward, game_won, last obs)\n",
    "    s = env.reset(map_size=20, policy_red=policy_red)\n",
    "    ep_history = []\n",
    "    indv_history = [[] for _ in range(len(env.get_team_blue))]\n",
    "    \n",
    "    was_alive = [ag.isAlive for ag in env.get_team_blue]\n",
    "    prev_reward=0\n",
    "    for frame in range(max_ep+1):\n",
    "        #obs = one_hot_encoder(s, env.get_team_blue).tolist() # partial observation\n",
    "        obs = one_hot_encoder(env._env, env.get_team_blue) # Full observation\n",
    "        \n",
    "        if explore:\n",
    "            act = np.random.randint(action_space, size=n_agent).tolist()\n",
    "        else:\n",
    "            with tf.device('/cpu:0'):\n",
    "                #Probabilistically pick an action given our network outputs.\n",
    "                act_prob = sess.run(myAgent.output, feed_dict={myAgent.state_input:obs})\n",
    "                act = [np.random.choice(action_space, p=act_prob[x]/sum(act_prob[x])) for x in range(n_agent)] # divide by sum : normalize\n",
    "            \n",
    "        s,r,d,_ = env.step(act) #Get our reward for taking an action given a bandit.\n",
    "        \n",
    "        # If frame is at max and the game is still not done, negative reward\n",
    "        if frame == max_ep and d == False:\n",
    "            r -= frame * (30/150)\n",
    "            #r -= 30\n",
    "            \n",
    "        # Push history for individual that 'was' alive previous frame\n",
    "        for idx, agent in enumerate(env.get_team_blue):\n",
    "            if was_alive[idx]: indv_history[idx].append([obs[idx],act[idx],r])\n",
    "\n",
    "        # If reward sequence change, push the history into the episode history.\n",
    "        if prev_reward != r:\n",
    "            for idx, history in enumerate(indv_history):\n",
    "                if len(history)==0: continue\n",
    "                if not was_alive[idx]: continue\n",
    "                _history = np.array(history)\n",
    "                _history[:,2] = discount_rewards(_history[:,2])\n",
    "                ep_history.extend(_history)\n",
    "        \n",
    "        # State Transition\n",
    "        frame += 1\n",
    "        prev_reward = r\n",
    "        was_alive = [ag.isAlive for ag in env.get_team_blue]\n",
    "        \n",
    "        if d == True:\n",
    "            break\n",
    "    if len(ep_history) > 0:        \n",
    "        ep_history = np.stack(ep_history)\n",
    "    \n",
    "    return [frame, ep_history, r, env.game_won, obs]"
   ]
  },
  {
   "cell_type": "markdown",
   "metadata": {},
   "source": [
    "## Training"
   ]
  },
  {
   "cell_type": "code",
   "execution_count": 15,
   "metadata": {
    "scrolled": false
   },
   "outputs": [
    {
     "name": "stdout",
     "output_type": "stream",
     "text": [
      "    5/10000 [.....] - ETA: 5:01:33\n",
      "\n",
      "Manually stopped the training (KeyboardInterrupt)\n",
      "save:  5 episodes\n"
     ]
    },
    {
     "data": {
      "image/png": "[encoded data removed]",
      "text/plain": [
       "<Figure size 432x288 with 1 Axes>"
      ]
     },
     "metadata": {
      "needs_background": "light"
     },
     "output_type": "display_data"
    },
    {
     "data": {
      "image/png": "[encoded data removed]",
      "text/plain": [
       "<Figure size 432x288 with 1 Axes>"
      ]
     },
     "metadata": {
      "needs_background": "light"
     },
     "output_type": "display_data"
    },
    {
     "data": {
      "image/png": "[encoded data removed]",
      "text/plain": [
       "<Figure size 432x288 with 1 Axes>"
      ]
     },
     "metadata": {
      "needs_background": "light"
     },
     "output_type": "display_data"
    }
   ],
   "source": [
    "ep = 0\n",
    "\n",
    "exploration_count = 20\n",
    "exp_buffer = Experience_buffer()\n",
    "try:\n",
    "    progbar = tf.keras.utils.Progbar(total_episodes,width=5)\n",
    "    while ep < total_episodes+1:\n",
    "        progbar.update(ep) # update progress bar\n",
    "         \n",
    "        # Run episode\n",
    "        frame, history, reward, did_won, obs = policy_rollout(env, exploration_count > ep)\n",
    "        \n",
    "        # Add history\n",
    "        exp_buffer.add(history)\n",
    "\n",
    "        if exploration_count < ep:\n",
    "            if ep % update_frequency == 0 and ep != 0:\n",
    "                with tf.device('/gpu:0'):\n",
    "                    batch_history = exp_buffer.sample(batch_size) # Sample from experience replay\n",
    "                    feed_dict = {myAgent.state_input: np.stack(batch_history[:,0]),\n",
    "                                                myAgent.action_holder:sess.run(tf.one_hot(batch_history[:,1],5)),\n",
    "                                                myAgent.reward_holder: batch_history[:,2]}\n",
    "                    loss_, _ = sess.run([myAgent.loss, myAgent.update_batch],\n",
    "                                        feed_dict=feed_dict)\n",
    "\n",
    "        total_reward.append(reward)\n",
    "        total_length.append(frame)\n",
    "        total_captured.append(env.game_won)\n",
    "        if ep % save_reward_frequency == 0 and ep != 0:\n",
    "            record(obs)\n",
    "        \n",
    "        # save every 100 ep\n",
    "        if ep % save_network_frequency == 0 and ep != 0:\n",
    "            print(\" Training Loss: {}\".format(loss_))\n",
    "            print(' Average r : ', np.mean(total_reward[-save_network_frequency:]))\n",
    "            saver.save(sess, MODEL_PATH+'/ctf_policy.ckpt', global_step=global_step)\n",
    "            print(\"save weights: \", sess.run(global_step), 'episodes')\n",
    "\n",
    "        ep += 1\n",
    "        sess.run(increment_global_step_op)\n",
    "        \n",
    "except KeyboardInterrupt:\n",
    "    print('\\n\\nManually stopped the training (KeyboardInterrupt)');\n",
    "    plt.plot(total_reward)\n",
    "    plt.figure()\n",
    "    plt.plot(total_length)\n",
    "    plt.figure()\n",
    "    plt.plot(total_captured)\n",
    "    saver.save(sess, MODEL_PATH+'/ctf_policy.ckpt', global_step=global_step)\n",
    "    record(obs)\n",
    "    print(\"save: \", sess.run(global_step), 'episodes')"
   ]
  },
  {
   "cell_type": "code",
   "execution_count": null,
   "metadata": {},
   "outputs": [],
   "source": []
  }
 ],
 "metadata": {
  "kernelspec": {
   "display_name": "Python 3",
   "language": "python",
   "name": "python3"
  },
  "language_info": {
   "codemirror_mode": {
    "name": "ipython",
    "version": 3
   },
   "file_extension": ".py",
   "mimetype": "text/x-python",
   "name": "python",
   "nbconvert_exporter": "python",
   "pygments_lexer": "ipython3",
   "version": "3.6.5"
  }
 },
 "nbformat": 4,
 "nbformat_minor": 2
}
